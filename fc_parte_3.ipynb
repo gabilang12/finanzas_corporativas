{
 "cells": [
  {
   "cell_type": "markdown",
   "metadata": {},
   "source": [
    "# KM\n",
    "\n",
    "Extraer la informacion del sector/indice de la accion (KM)"
   ]
  },
  {
   "cell_type": "code",
   "execution_count": null,
   "metadata": {},
   "outputs": [],
   "source": [
    "!pip install pandas-datareader"
   ]
  },
  {
   "cell_type": "code",
   "execution_count": 6,
   "metadata": {},
   "outputs": [],
   "source": [
    "import pandas as pd\n",
    "import pandas_datareader.data as  pdr\n",
    "from datetime import datetime"
   ]
  },
  {
   "cell_type": "code",
   "execution_count": 7,
   "metadata": {},
   "outputs": [],
   "source": [
    "start = datetime(2021, 1, 1)\n",
    "end = datetime(2022, 9, 1)"
   ]
  },
  {
   "cell_type": "code",
   "execution_count": 23,
   "metadata": {},
   "outputs": [
    {
     "data": {
      "text/html": [
       "<div>\n",
       "<style scoped>\n",
       "    .dataframe tbody tr th:only-of-type {\n",
       "        vertical-align: middle;\n",
       "    }\n",
       "\n",
       "    .dataframe tbody tr th {\n",
       "        vertical-align: top;\n",
       "    }\n",
       "\n",
       "    .dataframe thead th {\n",
       "        text-align: right;\n",
       "    }\n",
       "</style>\n",
       "<table border=\"1\" class=\"dataframe\">\n",
       "  <thead>\n",
       "    <tr style=\"text-align: right;\">\n",
       "      <th></th>\n",
       "      <th>High</th>\n",
       "      <th>Low</th>\n",
       "      <th>Open</th>\n",
       "      <th>Close</th>\n",
       "      <th>Volume</th>\n",
       "      <th>Adj Close</th>\n",
       "    </tr>\n",
       "    <tr>\n",
       "      <th>Date</th>\n",
       "      <th></th>\n",
       "      <th></th>\n",
       "      <th></th>\n",
       "      <th></th>\n",
       "      <th></th>\n",
       "      <th></th>\n",
       "    </tr>\n",
       "  </thead>\n",
       "  <tbody>\n",
       "    <tr>\n",
       "      <th>2021-01-04</th>\n",
       "      <td>12537.419922</td>\n",
       "      <td>12151.410156</td>\n",
       "      <td>12513.820312</td>\n",
       "      <td>12230.030273</td>\n",
       "      <td>1429100</td>\n",
       "      <td>12230.030273</td>\n",
       "    </tr>\n",
       "    <tr>\n",
       "      <th>2021-01-05</th>\n",
       "      <td>12431.730469</td>\n",
       "      <td>12202.080078</td>\n",
       "      <td>12215.589844</td>\n",
       "      <td>12359.230469</td>\n",
       "      <td>1113700</td>\n",
       "      <td>12359.230469</td>\n",
       "    </tr>\n",
       "    <tr>\n",
       "      <th>2021-01-06</th>\n",
       "      <td>12782.059570</td>\n",
       "      <td>12381.259766</td>\n",
       "      <td>12401.799805</td>\n",
       "      <td>12706.320312</td>\n",
       "      <td>1333400</td>\n",
       "      <td>12706.320312</td>\n",
       "    </tr>\n",
       "    <tr>\n",
       "      <th>2021-01-07</th>\n",
       "      <td>12867.639648</td>\n",
       "      <td>12716.080078</td>\n",
       "      <td>12739.059570</td>\n",
       "      <td>12811.389648</td>\n",
       "      <td>1059400</td>\n",
       "      <td>12811.389648</td>\n",
       "    </tr>\n",
       "    <tr>\n",
       "      <th>2021-01-08</th>\n",
       "      <td>12995.290039</td>\n",
       "      <td>12825.290039</td>\n",
       "      <td>12858.669922</td>\n",
       "      <td>12875.660156</td>\n",
       "      <td>1115900</td>\n",
       "      <td>12875.660156</td>\n",
       "    </tr>\n",
       "    <tr>\n",
       "      <th>...</th>\n",
       "      <td>...</td>\n",
       "      <td>...</td>\n",
       "      <td>...</td>\n",
       "      <td>...</td>\n",
       "      <td>...</td>\n",
       "      <td>...</td>\n",
       "    </tr>\n",
       "    <tr>\n",
       "      <th>2022-08-26</th>\n",
       "      <td>14974.610352</td>\n",
       "      <td>14379.309570</td>\n",
       "      <td>14940.500000</td>\n",
       "      <td>14380.230469</td>\n",
       "      <td>743200</td>\n",
       "      <td>14380.230469</td>\n",
       "    </tr>\n",
       "    <tr>\n",
       "      <th>2022-08-29</th>\n",
       "      <td>14376.530273</td>\n",
       "      <td>14202.059570</td>\n",
       "      <td>14325.450195</td>\n",
       "      <td>14232.719727</td>\n",
       "      <td>712900</td>\n",
       "      <td>14232.719727</td>\n",
       "    </tr>\n",
       "    <tr>\n",
       "      <th>2022-08-30</th>\n",
       "      <td>14278.269531</td>\n",
       "      <td>13951.599609</td>\n",
       "      <td>14252.110352</td>\n",
       "      <td>14005.839844</td>\n",
       "      <td>845400</td>\n",
       "      <td>14005.839844</td>\n",
       "    </tr>\n",
       "    <tr>\n",
       "      <th>2022-08-31</th>\n",
       "      <td>14094.129883</td>\n",
       "      <td>13857.799805</td>\n",
       "      <td>14033.339844</td>\n",
       "      <td>13860.650391</td>\n",
       "      <td>923900</td>\n",
       "      <td>13860.650391</td>\n",
       "    </tr>\n",
       "    <tr>\n",
       "      <th>2022-09-01</th>\n",
       "      <td>13918.009766</td>\n",
       "      <td>13669.349609</td>\n",
       "      <td>13816.839844</td>\n",
       "      <td>13913.089844</td>\n",
       "      <td>915100</td>\n",
       "      <td>13913.089844</td>\n",
       "    </tr>\n",
       "  </tbody>\n",
       "</table>\n",
       "<p>420 rows × 6 columns</p>\n",
       "</div>"
      ],
      "text/plain": [
       "                    High           Low          Open         Close   Volume  \\\n",
       "Date                                                                          \n",
       "2021-01-04  12537.419922  12151.410156  12513.820312  12230.030273  1429100   \n",
       "2021-01-05  12431.730469  12202.080078  12215.589844  12359.230469  1113700   \n",
       "2021-01-06  12782.059570  12381.259766  12401.799805  12706.320312  1333400   \n",
       "2021-01-07  12867.639648  12716.080078  12739.059570  12811.389648  1059400   \n",
       "2021-01-08  12995.290039  12825.290039  12858.669922  12875.660156  1115900   \n",
       "...                  ...           ...           ...           ...      ...   \n",
       "2022-08-26  14974.610352  14379.309570  14940.500000  14380.230469   743200   \n",
       "2022-08-29  14376.530273  14202.059570  14325.450195  14232.719727   712900   \n",
       "2022-08-30  14278.269531  13951.599609  14252.110352  14005.839844   845400   \n",
       "2022-08-31  14094.129883  13857.799805  14033.339844  13860.650391   923900   \n",
       "2022-09-01  13918.009766  13669.349609  13816.839844  13913.089844   915100   \n",
       "\n",
       "               Adj Close  \n",
       "Date                      \n",
       "2021-01-04  12230.030273  \n",
       "2021-01-05  12359.230469  \n",
       "2021-01-06  12706.320312  \n",
       "2021-01-07  12811.389648  \n",
       "2021-01-08  12875.660156  \n",
       "...                  ...  \n",
       "2022-08-26  14380.230469  \n",
       "2022-08-29  14232.719727  \n",
       "2022-08-30  14005.839844  \n",
       "2022-08-31  13860.650391  \n",
       "2022-09-01  13913.089844  \n",
       "\n",
       "[420 rows x 6 columns]"
      ]
     },
     "execution_count": 23,
     "metadata": {},
     "output_type": "execute_result"
    }
   ],
   "source": [
    "km = '^DJT'\n",
    "df = pdr.get_data_yahoo(km, start = start, end = end)\n",
    "df"
   ]
  },
  {
   "cell_type": "markdown",
   "metadata": {},
   "source": [
    "# Dividendos \n",
    "\n",
    "Extraer los dividendos de la accion"
   ]
  },
  {
   "cell_type": "markdown",
   "metadata": {},
   "source": [
    "Forma 1"
   ]
  },
  {
   "cell_type": "code",
   "execution_count": null,
   "metadata": {},
   "outputs": [],
   "source": [
    "!pip install yahoo-fin"
   ]
  },
  {
   "cell_type": "code",
   "execution_count": 17,
   "metadata": {},
   "outputs": [
    {
     "data": {
      "text/html": [
       "<div>\n",
       "<style scoped>\n",
       "    .dataframe tbody tr th:only-of-type {\n",
       "        vertical-align: middle;\n",
       "    }\n",
       "\n",
       "    .dataframe tbody tr th {\n",
       "        vertical-align: top;\n",
       "    }\n",
       "\n",
       "    .dataframe thead th {\n",
       "        text-align: right;\n",
       "    }\n",
       "</style>\n",
       "<table border=\"1\" class=\"dataframe\">\n",
       "  <thead>\n",
       "    <tr style=\"text-align: right;\">\n",
       "      <th></th>\n",
       "      <th>dividend</th>\n",
       "      <th>ticker</th>\n",
       "    </tr>\n",
       "  </thead>\n",
       "  <tbody>\n",
       "    <tr>\n",
       "      <th>2002-06-13</th>\n",
       "      <td>0.05</td>\n",
       "      <td>FDX</td>\n",
       "    </tr>\n",
       "    <tr>\n",
       "      <th>2002-09-05</th>\n",
       "      <td>0.05</td>\n",
       "      <td>FDX</td>\n",
       "    </tr>\n",
       "    <tr>\n",
       "      <th>2002-12-10</th>\n",
       "      <td>0.05</td>\n",
       "      <td>FDX</td>\n",
       "    </tr>\n",
       "    <tr>\n",
       "      <th>2003-03-06</th>\n",
       "      <td>0.05</td>\n",
       "      <td>FDX</td>\n",
       "    </tr>\n",
       "    <tr>\n",
       "      <th>2003-06-10</th>\n",
       "      <td>0.05</td>\n",
       "      <td>FDX</td>\n",
       "    </tr>\n",
       "    <tr>\n",
       "      <th>...</th>\n",
       "      <td>...</td>\n",
       "      <td>...</td>\n",
       "    </tr>\n",
       "    <tr>\n",
       "      <th>2021-09-02</th>\n",
       "      <td>0.75</td>\n",
       "      <td>FDX</td>\n",
       "    </tr>\n",
       "    <tr>\n",
       "      <th>2021-12-10</th>\n",
       "      <td>0.75</td>\n",
       "      <td>FDX</td>\n",
       "    </tr>\n",
       "    <tr>\n",
       "      <th>2022-03-04</th>\n",
       "      <td>0.75</td>\n",
       "      <td>FDX</td>\n",
       "    </tr>\n",
       "    <tr>\n",
       "      <th>2022-06-24</th>\n",
       "      <td>1.15</td>\n",
       "      <td>FDX</td>\n",
       "    </tr>\n",
       "    <tr>\n",
       "      <th>2022-09-01</th>\n",
       "      <td>1.15</td>\n",
       "      <td>FDX</td>\n",
       "    </tr>\n",
       "  </tbody>\n",
       "</table>\n",
       "<p>82 rows × 2 columns</p>\n",
       "</div>"
      ],
      "text/plain": [
       "            dividend ticker\n",
       "2002-06-13      0.05    FDX\n",
       "2002-09-05      0.05    FDX\n",
       "2002-12-10      0.05    FDX\n",
       "2003-03-06      0.05    FDX\n",
       "2003-06-10      0.05    FDX\n",
       "...              ...    ...\n",
       "2021-09-02      0.75    FDX\n",
       "2021-12-10      0.75    FDX\n",
       "2022-03-04      0.75    FDX\n",
       "2022-06-24      1.15    FDX\n",
       "2022-09-01      1.15    FDX\n",
       "\n",
       "[82 rows x 2 columns]"
      ]
     },
     "execution_count": 17,
     "metadata": {},
     "output_type": "execute_result"
    }
   ],
   "source": [
    "from yahoo_fin import stock_info as si\n",
    "index = 'FDX'\n",
    "aux_div = si.get_dividends(index)\n",
    "aux_div"
   ]
  },
  {
   "cell_type": "markdown",
   "metadata": {},
   "source": [
    "Forma 2"
   ]
  },
  {
   "cell_type": "code",
   "execution_count": null,
   "metadata": {},
   "outputs": [],
   "source": [
    "!pip install yfinance"
   ]
  },
  {
   "cell_type": "code",
   "execution_count": 21,
   "metadata": {},
   "outputs": [
    {
     "data": {
      "text/plain": [
       "Date\n",
       "2002-06-13    0.05\n",
       "2002-09-05    0.05\n",
       "2002-12-10    0.05\n",
       "2003-03-06    0.05\n",
       "2003-06-10    0.05\n",
       "              ... \n",
       "2021-09-02    0.75\n",
       "2021-12-10    0.75\n",
       "2022-03-04    0.75\n",
       "2022-06-24    1.15\n",
       "2022-09-01    1.15\n",
       "Name: Dividends, Length: 82, dtype: float64"
      ]
     },
     "execution_count": 21,
     "metadata": {},
     "output_type": "execute_result"
    }
   ],
   "source": [
    "import yfinance as yf\n",
    "index = yf.Ticker(\"FDX\")\n",
    "index.dividends"
   ]
  }
 ],
 "metadata": {
  "kernelspec": {
   "display_name": "Python 3.9.0 64-bit",
   "language": "python",
   "name": "python3"
  },
  "language_info": {
   "codemirror_mode": {
    "name": "ipython",
    "version": 3
   },
   "file_extension": ".py",
   "mimetype": "text/x-python",
   "name": "python",
   "nbconvert_exporter": "python",
   "pygments_lexer": "ipython3",
   "version": "3.9.0"
  },
  "orig_nbformat": 4,
  "vscode": {
   "interpreter": {
    "hash": "4a642a9a94d05d387b7a27be99b5a4ff6656c8c24931cc81c2f78dd14cfb5dc8"
   }
  }
 },
 "nbformat": 4,
 "nbformat_minor": 2
}
