{
 "cells": [
  {
   "cell_type": "markdown",
   "metadata": {},
   "source": [
    "# VISUALIZACION"
   ]
  },
  {
   "cell_type": "code",
   "execution_count": 1,
   "metadata": {},
   "outputs": [
    {
     "name": "stdout",
     "output_type": "stream",
     "text": [
      "Requirement already up-to-date: pandas-datareader in c:\\users\\usuario\\appdata\\local\\programs\\python\\python39\\lib\\site-packages (0.10.0)\n",
      "Requirement already satisfied, skipping upgrade: requests>=2.19.0 in c:\\users\\usuario\\appdata\\local\\programs\\python\\python39\\lib\\site-packages (from pandas-datareader) (2.27.1)\n",
      "Requirement already satisfied, skipping upgrade: lxml in c:\\users\\usuario\\appdata\\local\\programs\\python\\python39\\lib\\site-packages (from pandas-datareader) (4.7.1)\n",
      "Requirement already satisfied, skipping upgrade: pandas>=0.23 in c:\\users\\usuario\\appdata\\local\\programs\\python\\python39\\lib\\site-packages (from pandas-datareader) (1.3.5)\n",
      "Requirement already satisfied, skipping upgrade: idna<4,>=2.5; python_version >= \"3\" in c:\\users\\usuario\\appdata\\local\\programs\\python\\python39\\lib\\site-packages (from requests>=2.19.0->pandas-datareader) (3.3)\n",
      "Requirement already satisfied, skipping upgrade: certifi>=2017.4.17 in c:\\users\\usuario\\appdata\\local\\programs\\python\\python39\\lib\\site-packages (from requests>=2.19.0->pandas-datareader) (2021.10.8)\n",
      "Requirement already satisfied, skipping upgrade: charset-normalizer~=2.0.0; python_version >= \"3\" in c:\\users\\usuario\\appdata\\local\\programs\\python\\python39\\lib\\site-packages (from requests>=2.19.0->pandas-datareader) (2.0.10)\n",
      "Requirement already satisfied, skipping upgrade: urllib3<1.27,>=1.21.1 in c:\\users\\usuario\\appdata\\local\\programs\\python\\python39\\lib\\site-packages (from requests>=2.19.0->pandas-datareader) (1.26.8)\n",
      "Requirement already satisfied, skipping upgrade: numpy>=1.17.3; platform_machine != \"aarch64\" and platform_machine != \"arm64\" and python_version < \"3.10\" in c:\\users\\usuario\\appdata\\local\\programs\\python\\python39\\lib\\site-packages (from pandas>=0.23->pandas-datareader) (1.22.1)\n",
      "Requirement already satisfied, skipping upgrade: pytz>=2017.3 in c:\\users\\usuario\\appdata\\local\\programs\\python\\python39\\lib\\site-packages (from pandas>=0.23->pandas-datareader) (2021.3)\n",
      "Requirement already satisfied, skipping upgrade: python-dateutil>=2.7.3 in c:\\users\\usuario\\appdata\\local\\programs\\python\\python39\\lib\\site-packages (from pandas>=0.23->pandas-datareader) (2.8.2)\n",
      "Requirement already satisfied, skipping upgrade: six>=1.5 in c:\\users\\usuario\\appdata\\local\\programs\\python\\python39\\lib\\site-packages (from python-dateutil>=2.7.3->pandas>=0.23->pandas-datareader) (1.16.0)\n",
      "Note: you may need to restart the kernel to use updated packages.\n"
     ]
    },
    {
     "name": "stderr",
     "output_type": "stream",
     "text": [
      "WARNING: You are using pip version 20.2.3; however, version 22.3 is available.\n",
      "You should consider upgrading via the 'c:\\Users\\Usuario\\AppData\\Local\\Programs\\Python\\Python39\\python.exe -m pip install --upgrade pip' command.\n"
     ]
    }
   ],
   "source": [
    "pip install --upgrade pandas-datareader"
   ]
  },
  {
   "cell_type": "code",
   "execution_count": 2,
   "metadata": {},
   "outputs": [
    {
     "data": {
      "text/html": [
       "<div>\n",
       "<style scoped>\n",
       "    .dataframe tbody tr th:only-of-type {\n",
       "        vertical-align: middle;\n",
       "    }\n",
       "\n",
       "    .dataframe tbody tr th {\n",
       "        vertical-align: top;\n",
       "    }\n",
       "\n",
       "    .dataframe thead th {\n",
       "        text-align: right;\n",
       "    }\n",
       "</style>\n",
       "<table border=\"1\" class=\"dataframe\">\n",
       "  <thead>\n",
       "    <tr style=\"text-align: right;\">\n",
       "      <th></th>\n",
       "      <th>High</th>\n",
       "      <th>Low</th>\n",
       "      <th>Open</th>\n",
       "      <th>Close</th>\n",
       "      <th>Volume</th>\n",
       "      <th>Adj Close</th>\n",
       "    </tr>\n",
       "    <tr>\n",
       "      <th>Date</th>\n",
       "      <th></th>\n",
       "      <th></th>\n",
       "      <th></th>\n",
       "      <th></th>\n",
       "      <th></th>\n",
       "      <th></th>\n",
       "    </tr>\n",
       "  </thead>\n",
       "  <tbody>\n",
       "    <tr>\n",
       "      <th>2022-09-01</th>\n",
       "      <td>212.100006</td>\n",
       "      <td>206.970001</td>\n",
       "      <td>209.449997</td>\n",
       "      <td>211.860001</td>\n",
       "      <td>1582400.0</td>\n",
       "      <td>211.860001</td>\n",
       "    </tr>\n",
       "    <tr>\n",
       "      <th>2022-09-02</th>\n",
       "      <td>214.410004</td>\n",
       "      <td>207.229996</td>\n",
       "      <td>214.199997</td>\n",
       "      <td>208.720001</td>\n",
       "      <td>1422700.0</td>\n",
       "      <td>208.720001</td>\n",
       "    </tr>\n",
       "    <tr>\n",
       "      <th>2022-09-06</th>\n",
       "      <td>206.899994</td>\n",
       "      <td>202.330002</td>\n",
       "      <td>204.990005</td>\n",
       "      <td>204.169998</td>\n",
       "      <td>2359200.0</td>\n",
       "      <td>204.169998</td>\n",
       "    </tr>\n",
       "    <tr>\n",
       "      <th>2022-09-07</th>\n",
       "      <td>202.369995</td>\n",
       "      <td>196.889999</td>\n",
       "      <td>201.399994</td>\n",
       "      <td>201.619995</td>\n",
       "      <td>3098800.0</td>\n",
       "      <td>201.619995</td>\n",
       "    </tr>\n",
       "    <tr>\n",
       "      <th>2022-09-08</th>\n",
       "      <td>203.009995</td>\n",
       "      <td>197.559998</td>\n",
       "      <td>200.679993</td>\n",
       "      <td>202.869995</td>\n",
       "      <td>2474700.0</td>\n",
       "      <td>202.869995</td>\n",
       "    </tr>\n",
       "    <tr>\n",
       "      <th>2022-09-09</th>\n",
       "      <td>209.570007</td>\n",
       "      <td>204.539993</td>\n",
       "      <td>204.800003</td>\n",
       "      <td>209.070007</td>\n",
       "      <td>1739400.0</td>\n",
       "      <td>209.070007</td>\n",
       "    </tr>\n",
       "    <tr>\n",
       "      <th>2022-09-12</th>\n",
       "      <td>215.830002</td>\n",
       "      <td>210.259995</td>\n",
       "      <td>210.259995</td>\n",
       "      <td>213.839996</td>\n",
       "      <td>2278900.0</td>\n",
       "      <td>213.839996</td>\n",
       "    </tr>\n",
       "    <tr>\n",
       "      <th>2022-09-13</th>\n",
       "      <td>210.270004</td>\n",
       "      <td>204.100006</td>\n",
       "      <td>208.889999</td>\n",
       "      <td>205.339996</td>\n",
       "      <td>1589800.0</td>\n",
       "      <td>205.339996</td>\n",
       "    </tr>\n",
       "    <tr>\n",
       "      <th>2022-09-14</th>\n",
       "      <td>205.460007</td>\n",
       "      <td>200.910004</td>\n",
       "      <td>204.710007</td>\n",
       "      <td>205.009995</td>\n",
       "      <td>1510700.0</td>\n",
       "      <td>205.009995</td>\n",
       "    </tr>\n",
       "    <tr>\n",
       "      <th>2022-09-15</th>\n",
       "      <td>206.160004</td>\n",
       "      <td>203.220001</td>\n",
       "      <td>204.600006</td>\n",
       "      <td>204.869995</td>\n",
       "      <td>3080200.0</td>\n",
       "      <td>204.869995</td>\n",
       "    </tr>\n",
       "    <tr>\n",
       "      <th>2022-09-16</th>\n",
       "      <td>161.839996</td>\n",
       "      <td>155.000000</td>\n",
       "      <td>159.309998</td>\n",
       "      <td>161.020004</td>\n",
       "      <td>34160200.0</td>\n",
       "      <td>161.020004</td>\n",
       "    </tr>\n",
       "    <tr>\n",
       "      <th>2022-09-19</th>\n",
       "      <td>165.350006</td>\n",
       "      <td>159.500000</td>\n",
       "      <td>160.000000</td>\n",
       "      <td>162.899994</td>\n",
       "      <td>9425000.0</td>\n",
       "      <td>162.899994</td>\n",
       "    </tr>\n",
       "    <tr>\n",
       "      <th>2022-09-20</th>\n",
       "      <td>161.190002</td>\n",
       "      <td>157.050003</td>\n",
       "      <td>161.169998</td>\n",
       "      <td>157.399994</td>\n",
       "      <td>5372100.0</td>\n",
       "      <td>157.399994</td>\n",
       "    </tr>\n",
       "    <tr>\n",
       "      <th>2022-09-21</th>\n",
       "      <td>159.139999</td>\n",
       "      <td>153.250000</td>\n",
       "      <td>157.169998</td>\n",
       "      <td>153.250000</td>\n",
       "      <td>5491600.0</td>\n",
       "      <td>153.250000</td>\n",
       "    </tr>\n",
       "    <tr>\n",
       "      <th>2022-09-22</th>\n",
       "      <td>160.660004</td>\n",
       "      <td>150.339996</td>\n",
       "      <td>152.619995</td>\n",
       "      <td>154.539993</td>\n",
       "      <td>10265500.0</td>\n",
       "      <td>154.539993</td>\n",
       "    </tr>\n",
       "    <tr>\n",
       "      <th>2022-09-23</th>\n",
       "      <td>152.940002</td>\n",
       "      <td>146.649994</td>\n",
       "      <td>149.770004</td>\n",
       "      <td>149.330002</td>\n",
       "      <td>7178600.0</td>\n",
       "      <td>149.330002</td>\n",
       "    </tr>\n",
       "    <tr>\n",
       "      <th>2022-09-26</th>\n",
       "      <td>150.839996</td>\n",
       "      <td>142.399994</td>\n",
       "      <td>148.470001</td>\n",
       "      <td>142.899994</td>\n",
       "      <td>5698200.0</td>\n",
       "      <td>142.899994</td>\n",
       "    </tr>\n",
       "    <tr>\n",
       "      <th>2022-09-27</th>\n",
       "      <td>145.589996</td>\n",
       "      <td>141.919998</td>\n",
       "      <td>143.500000</td>\n",
       "      <td>144.949997</td>\n",
       "      <td>4466400.0</td>\n",
       "      <td>144.949997</td>\n",
       "    </tr>\n",
       "    <tr>\n",
       "      <th>2022-09-28</th>\n",
       "      <td>151.110001</td>\n",
       "      <td>144.740005</td>\n",
       "      <td>145.720001</td>\n",
       "      <td>149.990005</td>\n",
       "      <td>4959200.0</td>\n",
       "      <td>149.990005</td>\n",
       "    </tr>\n",
       "    <tr>\n",
       "      <th>2022-09-29</th>\n",
       "      <td>152.610001</td>\n",
       "      <td>147.179993</td>\n",
       "      <td>147.899994</td>\n",
       "      <td>152.309998</td>\n",
       "      <td>5199200.0</td>\n",
       "      <td>152.309998</td>\n",
       "    </tr>\n",
       "    <tr>\n",
       "      <th>2022-09-30</th>\n",
       "      <td>153.369995</td>\n",
       "      <td>148.339996</td>\n",
       "      <td>150.949997</td>\n",
       "      <td>148.470001</td>\n",
       "      <td>3640600.0</td>\n",
       "      <td>148.470001</td>\n",
       "    </tr>\n",
       "    <tr>\n",
       "      <th>2022-10-03</th>\n",
       "      <td>152.660004</td>\n",
       "      <td>147.979996</td>\n",
       "      <td>150.119995</td>\n",
       "      <td>151.460007</td>\n",
       "      <td>2701200.0</td>\n",
       "      <td>151.460007</td>\n",
       "    </tr>\n",
       "    <tr>\n",
       "      <th>2022-10-04</th>\n",
       "      <td>159.610001</td>\n",
       "      <td>154.449997</td>\n",
       "      <td>155.190002</td>\n",
       "      <td>159.119995</td>\n",
       "      <td>10089400.0</td>\n",
       "      <td>159.119995</td>\n",
       "    </tr>\n",
       "    <tr>\n",
       "      <th>2022-10-05</th>\n",
       "      <td>158.940002</td>\n",
       "      <td>154.539993</td>\n",
       "      <td>155.240005</td>\n",
       "      <td>156.869995</td>\n",
       "      <td>7169300.0</td>\n",
       "      <td>156.869995</td>\n",
       "    </tr>\n",
       "    <tr>\n",
       "      <th>2022-10-06</th>\n",
       "      <td>158.000000</td>\n",
       "      <td>154.820007</td>\n",
       "      <td>156.399994</td>\n",
       "      <td>155.190002</td>\n",
       "      <td>4254600.0</td>\n",
       "      <td>155.190002</td>\n",
       "    </tr>\n",
       "    <tr>\n",
       "      <th>2022-10-07</th>\n",
       "      <td>154.600006</td>\n",
       "      <td>148.960007</td>\n",
       "      <td>152.509995</td>\n",
       "      <td>154.410004</td>\n",
       "      <td>7780300.0</td>\n",
       "      <td>154.410004</td>\n",
       "    </tr>\n",
       "    <tr>\n",
       "      <th>2022-10-10</th>\n",
       "      <td>156.449997</td>\n",
       "      <td>152.149994</td>\n",
       "      <td>155.889999</td>\n",
       "      <td>153.210007</td>\n",
       "      <td>5310500.0</td>\n",
       "      <td>153.210007</td>\n",
       "    </tr>\n",
       "    <tr>\n",
       "      <th>2022-10-11</th>\n",
       "      <td>154.589996</td>\n",
       "      <td>151.080002</td>\n",
       "      <td>151.529999</td>\n",
       "      <td>152.080002</td>\n",
       "      <td>6045600.0</td>\n",
       "      <td>152.080002</td>\n",
       "    </tr>\n",
       "    <tr>\n",
       "      <th>2022-10-12</th>\n",
       "      <td>155.039993</td>\n",
       "      <td>151.649994</td>\n",
       "      <td>152.070007</td>\n",
       "      <td>152.889999</td>\n",
       "      <td>2468100.0</td>\n",
       "      <td>152.889999</td>\n",
       "    </tr>\n",
       "    <tr>\n",
       "      <th>2022-10-13</th>\n",
       "      <td>158.039993</td>\n",
       "      <td>148.929993</td>\n",
       "      <td>150.440002</td>\n",
       "      <td>156.250000</td>\n",
       "      <td>2993400.0</td>\n",
       "      <td>156.250000</td>\n",
       "    </tr>\n",
       "    <tr>\n",
       "      <th>2022-10-14</th>\n",
       "      <td>158.410004</td>\n",
       "      <td>154.910004</td>\n",
       "      <td>156.880005</td>\n",
       "      <td>156.960007</td>\n",
       "      <td>2269800.0</td>\n",
       "      <td>156.960007</td>\n",
       "    </tr>\n",
       "    <tr>\n",
       "      <th>2022-10-17</th>\n",
       "      <td>159.869995</td>\n",
       "      <td>155.399994</td>\n",
       "      <td>158.279999</td>\n",
       "      <td>156.979996</td>\n",
       "      <td>3187000.0</td>\n",
       "      <td>156.979996</td>\n",
       "    </tr>\n",
       "    <tr>\n",
       "      <th>2022-10-18</th>\n",
       "      <td>161.419998</td>\n",
       "      <td>155.059998</td>\n",
       "      <td>160.690002</td>\n",
       "      <td>156.300003</td>\n",
       "      <td>3136200.0</td>\n",
       "      <td>156.300003</td>\n",
       "    </tr>\n",
       "    <tr>\n",
       "      <th>2022-10-19</th>\n",
       "      <td>156.699997</td>\n",
       "      <td>151.559998</td>\n",
       "      <td>155.720001</td>\n",
       "      <td>152.960007</td>\n",
       "      <td>3433700.0</td>\n",
       "      <td>152.960007</td>\n",
       "    </tr>\n",
       "    <tr>\n",
       "      <th>2022-10-20</th>\n",
       "      <td>155.399994</td>\n",
       "      <td>149.869995</td>\n",
       "      <td>152.949997</td>\n",
       "      <td>150.139999</td>\n",
       "      <td>3652100.0</td>\n",
       "      <td>150.139999</td>\n",
       "    </tr>\n",
       "    <tr>\n",
       "      <th>2022-10-21</th>\n",
       "      <td>153.860001</td>\n",
       "      <td>149.639999</td>\n",
       "      <td>150.190002</td>\n",
       "      <td>153.229996</td>\n",
       "      <td>6074400.0</td>\n",
       "      <td>153.229996</td>\n",
       "    </tr>\n",
       "    <tr>\n",
       "      <th>2022-10-24</th>\n",
       "      <td>156.490005</td>\n",
       "      <td>151.429993</td>\n",
       "      <td>152.190002</td>\n",
       "      <td>154.759995</td>\n",
       "      <td>2857600.0</td>\n",
       "      <td>154.759995</td>\n",
       "    </tr>\n",
       "    <tr>\n",
       "      <th>2022-10-25</th>\n",
       "      <td>157.330002</td>\n",
       "      <td>154.850006</td>\n",
       "      <td>155.889999</td>\n",
       "      <td>155.800003</td>\n",
       "      <td>3077700.0</td>\n",
       "      <td>155.800003</td>\n",
       "    </tr>\n",
       "    <tr>\n",
       "      <th>2022-10-26</th>\n",
       "      <td>159.169998</td>\n",
       "      <td>155.580002</td>\n",
       "      <td>156.380005</td>\n",
       "      <td>157.960007</td>\n",
       "      <td>3733800.0</td>\n",
       "      <td>157.960007</td>\n",
       "    </tr>\n",
       "    <tr>\n",
       "      <th>2022-10-27</th>\n",
       "      <td>160.300003</td>\n",
       "      <td>156.630005</td>\n",
       "      <td>158.940002</td>\n",
       "      <td>156.910004</td>\n",
       "      <td>1646700.0</td>\n",
       "      <td>156.910004</td>\n",
       "    </tr>\n",
       "    <tr>\n",
       "      <th>2022-10-28</th>\n",
       "      <td>160.529999</td>\n",
       "      <td>155.770004</td>\n",
       "      <td>157.539993</td>\n",
       "      <td>160.369995</td>\n",
       "      <td>2567700.0</td>\n",
       "      <td>160.369995</td>\n",
       "    </tr>\n",
       "    <tr>\n",
       "      <th>2022-10-31</th>\n",
       "      <td>162.220001</td>\n",
       "      <td>158.619995</td>\n",
       "      <td>159.020004</td>\n",
       "      <td>161.679993</td>\n",
       "      <td>1097092.0</td>\n",
       "      <td>161.679993</td>\n",
       "    </tr>\n",
       "  </tbody>\n",
       "</table>\n",
       "</div>"
      ],
      "text/plain": [
       "                  High         Low        Open       Close      Volume  \\\n",
       "Date                                                                     \n",
       "2022-09-01  212.100006  206.970001  209.449997  211.860001   1582400.0   \n",
       "2022-09-02  214.410004  207.229996  214.199997  208.720001   1422700.0   \n",
       "2022-09-06  206.899994  202.330002  204.990005  204.169998   2359200.0   \n",
       "2022-09-07  202.369995  196.889999  201.399994  201.619995   3098800.0   \n",
       "2022-09-08  203.009995  197.559998  200.679993  202.869995   2474700.0   \n",
       "2022-09-09  209.570007  204.539993  204.800003  209.070007   1739400.0   \n",
       "2022-09-12  215.830002  210.259995  210.259995  213.839996   2278900.0   \n",
       "2022-09-13  210.270004  204.100006  208.889999  205.339996   1589800.0   \n",
       "2022-09-14  205.460007  200.910004  204.710007  205.009995   1510700.0   \n",
       "2022-09-15  206.160004  203.220001  204.600006  204.869995   3080200.0   \n",
       "2022-09-16  161.839996  155.000000  159.309998  161.020004  34160200.0   \n",
       "2022-09-19  165.350006  159.500000  160.000000  162.899994   9425000.0   \n",
       "2022-09-20  161.190002  157.050003  161.169998  157.399994   5372100.0   \n",
       "2022-09-21  159.139999  153.250000  157.169998  153.250000   5491600.0   \n",
       "2022-09-22  160.660004  150.339996  152.619995  154.539993  10265500.0   \n",
       "2022-09-23  152.940002  146.649994  149.770004  149.330002   7178600.0   \n",
       "2022-09-26  150.839996  142.399994  148.470001  142.899994   5698200.0   \n",
       "2022-09-27  145.589996  141.919998  143.500000  144.949997   4466400.0   \n",
       "2022-09-28  151.110001  144.740005  145.720001  149.990005   4959200.0   \n",
       "2022-09-29  152.610001  147.179993  147.899994  152.309998   5199200.0   \n",
       "2022-09-30  153.369995  148.339996  150.949997  148.470001   3640600.0   \n",
       "2022-10-03  152.660004  147.979996  150.119995  151.460007   2701200.0   \n",
       "2022-10-04  159.610001  154.449997  155.190002  159.119995  10089400.0   \n",
       "2022-10-05  158.940002  154.539993  155.240005  156.869995   7169300.0   \n",
       "2022-10-06  158.000000  154.820007  156.399994  155.190002   4254600.0   \n",
       "2022-10-07  154.600006  148.960007  152.509995  154.410004   7780300.0   \n",
       "2022-10-10  156.449997  152.149994  155.889999  153.210007   5310500.0   \n",
       "2022-10-11  154.589996  151.080002  151.529999  152.080002   6045600.0   \n",
       "2022-10-12  155.039993  151.649994  152.070007  152.889999   2468100.0   \n",
       "2022-10-13  158.039993  148.929993  150.440002  156.250000   2993400.0   \n",
       "2022-10-14  158.410004  154.910004  156.880005  156.960007   2269800.0   \n",
       "2022-10-17  159.869995  155.399994  158.279999  156.979996   3187000.0   \n",
       "2022-10-18  161.419998  155.059998  160.690002  156.300003   3136200.0   \n",
       "2022-10-19  156.699997  151.559998  155.720001  152.960007   3433700.0   \n",
       "2022-10-20  155.399994  149.869995  152.949997  150.139999   3652100.0   \n",
       "2022-10-21  153.860001  149.639999  150.190002  153.229996   6074400.0   \n",
       "2022-10-24  156.490005  151.429993  152.190002  154.759995   2857600.0   \n",
       "2022-10-25  157.330002  154.850006  155.889999  155.800003   3077700.0   \n",
       "2022-10-26  159.169998  155.580002  156.380005  157.960007   3733800.0   \n",
       "2022-10-27  160.300003  156.630005  158.940002  156.910004   1646700.0   \n",
       "2022-10-28  160.529999  155.770004  157.539993  160.369995   2567700.0   \n",
       "2022-10-31  162.220001  158.619995  159.020004  161.679993   1097092.0   \n",
       "\n",
       "             Adj Close  \n",
       "Date                    \n",
       "2022-09-01  211.860001  \n",
       "2022-09-02  208.720001  \n",
       "2022-09-06  204.169998  \n",
       "2022-09-07  201.619995  \n",
       "2022-09-08  202.869995  \n",
       "2022-09-09  209.070007  \n",
       "2022-09-12  213.839996  \n",
       "2022-09-13  205.339996  \n",
       "2022-09-14  205.009995  \n",
       "2022-09-15  204.869995  \n",
       "2022-09-16  161.020004  \n",
       "2022-09-19  162.899994  \n",
       "2022-09-20  157.399994  \n",
       "2022-09-21  153.250000  \n",
       "2022-09-22  154.539993  \n",
       "2022-09-23  149.330002  \n",
       "2022-09-26  142.899994  \n",
       "2022-09-27  144.949997  \n",
       "2022-09-28  149.990005  \n",
       "2022-09-29  152.309998  \n",
       "2022-09-30  148.470001  \n",
       "2022-10-03  151.460007  \n",
       "2022-10-04  159.119995  \n",
       "2022-10-05  156.869995  \n",
       "2022-10-06  155.190002  \n",
       "2022-10-07  154.410004  \n",
       "2022-10-10  153.210007  \n",
       "2022-10-11  152.080002  \n",
       "2022-10-12  152.889999  \n",
       "2022-10-13  156.250000  \n",
       "2022-10-14  156.960007  \n",
       "2022-10-17  156.979996  \n",
       "2022-10-18  156.300003  \n",
       "2022-10-19  152.960007  \n",
       "2022-10-20  150.139999  \n",
       "2022-10-21  153.229996  \n",
       "2022-10-24  154.759995  \n",
       "2022-10-25  155.800003  \n",
       "2022-10-26  157.960007  \n",
       "2022-10-27  156.910004  \n",
       "2022-10-28  160.369995  \n",
       "2022-10-31  161.679993  "
      ]
     },
     "execution_count": 2,
     "metadata": {},
     "output_type": "execute_result"
    }
   ],
   "source": [
    "#importamos lo datos\n",
    "from pandas_datareader import data as  pdr\n",
    "from datetime import datetime\n",
    "\n",
    "start = datetime(2022, 9, 1)\n",
    "end = datetime(2022, 10, 31)\n",
    "\n",
    "index = 'FDX'\n",
    "df = pdr.get_data_yahoo(index, start = start, end = end)\n",
    "df"
   ]
  },
  {
   "cell_type": "markdown",
   "metadata": {},
   "source": [
    "### Grafico de Lineas"
   ]
  },
  {
   "cell_type": "code",
   "execution_count": 3,
   "metadata": {},
   "outputs": [
    {
     "data": {
      "text/plain": [
       "<AxesSubplot: xlabel='Date'>"
      ]
     },
     "execution_count": 3,
     "metadata": {},
     "output_type": "execute_result"
    },
    {
     "data": {
      "image/png": "[encoded data removed]",
      "text/plain": [
       "<Figure size 640x480 with 1 Axes>"
      ]
     },
     "metadata": {},
     "output_type": "display_data"
    }
   ],
   "source": [
    "import matplotlib.pyplot as plt\n",
    "df['Close'].plot(kind='line')"
   ]
  },
  {
   "cell_type": "markdown",
   "metadata": {},
   "source": [
    "### Grafico de Velas"
   ]
  },
  {
   "cell_type": "code",
   "execution_count": 4,
   "metadata": {},
   "outputs": [
    {
     "name": "stdout",
     "output_type": "stream",
     "text": [
      "Requirement already satisfied: nbformat in c:\\users\\usuario\\appdata\\local\\programs\\python\\python39\\lib\\site-packages (5.7.0)\n",
      "Requirement already satisfied: jsonschema>=2.6 in c:\\users\\usuario\\appdata\\local\\programs\\python\\python39\\lib\\site-packages (from nbformat) (4.16.0)\n",
      "Requirement already satisfied: traitlets>=5.1 in c:\\users\\usuario\\appdata\\roaming\\python\\python39\\site-packages (from nbformat) (5.4.0)\n",
      "Requirement already satisfied: fastjsonschema in c:\\users\\usuario\\appdata\\local\\programs\\python\\python39\\lib\\site-packages (from nbformat) (2.16.2)\n",
      "Requirement already satisfied: jupyter-core in c:\\users\\usuario\\appdata\\roaming\\python\\python39\\site-packages (from nbformat) (4.11.1)\n",
      "Requirement already satisfied: pyrsistent!=0.17.0,!=0.17.1,!=0.17.2,>=0.14.0 in c:\\users\\usuario\\appdata\\local\\programs\\python\\python39\\lib\\site-packages (from jsonschema>=2.6->nbformat) (0.19.1)\n",
      "Requirement already satisfied: attrs>=17.4.0 in c:\\users\\usuario\\appdata\\local\\programs\\python\\python39\\lib\\site-packages (from jsonschema>=2.6->nbformat) (22.1.0)\n",
      "Requirement already satisfied: pywin32>=1.0; sys_platform == \"win32\" and platform_python_implementation != \"PyPy\" in c:\\users\\usuario\\appdata\\roaming\\python\\python39\\site-packages (from jupyter-core->nbformat) (304)\n"
     ]
    },
    {
     "name": "stderr",
     "output_type": "stream",
     "text": [
      "WARNING: You are using pip version 20.2.3; however, version 22.3 is available.\n",
      "You should consider upgrading via the 'c:\\users\\usuario\\appdata\\local\\programs\\python\\python39\\python.exe -m pip install --upgrade pip' command.\n"
     ]
    }
   ],
   "source": [
    "!pip install nbformat "
   ]
  },
  {
   "cell_type": "code",
   "execution_count": 5,
   "metadata": {},
   "outputs": [
    {
     "data": {
      "application/vnd.plotly.v1+json": {
       "config": {
        "plotlyServerURL": "https://plot.ly"
       },
       "data": [
        {
         "close": [
          211.86000061035156,
          208.72000122070312,
          204.1699981689453,
          201.6199951171875,
          202.8699951171875,
          209.07000732421875,
          213.83999633789062,
          205.33999633789062,
          205.00999450683594,
          204.8699951171875,
          161.02000427246094,
          162.89999389648438,
          157.39999389648438,
          153.25,
          154.5399932861328,
          149.3300018310547,
          142.89999389648438,
          144.9499969482422,
          149.99000549316406,
          152.30999755859375,
          148.47000122070312,
          151.4600067138672,
          159.1199951171875,
          156.8699951171875,
          155.19000244140625,
          154.41000366210938,
          153.2100067138672,
          152.0800018310547,
          152.88999938964844,
          156.25,
          156.9600067138672,
          156.97999572753906,
          156.3000030517578,
          152.9600067138672,
          150.13999938964844,
          153.22999572753906,
          154.75999450683594,
          155.8000030517578,
          157.9600067138672,
          156.91000366210938,
          160.3699951171875,
          161.67999267578125
         ],
         "high": [
          212.10000610351562,
          214.41000366210938,
          206.89999389648438,
          202.3699951171875,
          203.00999450683594,
          209.57000732421875,
          215.8300018310547,
          210.27000427246094,
          205.4600067138672,
          206.16000366210938,
          161.83999633789062,
          165.35000610351562,
          161.19000244140625,
          159.13999938964844,
          160.66000366210938,
          152.94000244140625,
          150.83999633789062,
          145.58999633789062,
          151.11000061035156,
          152.61000061035156,
          153.3699951171875,
          152.66000366210938,
          159.61000061035156,
          158.94000244140625,
          158,
          154.60000610351562,
          156.4499969482422,
          154.58999633789062,
          155.0399932861328,
          158.0399932861328,
          158.41000366210938,
          159.8699951171875,
          161.4199981689453,
          156.6999969482422,
          155.39999389648438,
          153.86000061035156,
          156.49000549316406,
          157.3300018310547,
          159.1699981689453,
          160.3000030517578,
          160.52999877929688,
          162.22000122070312
         ],
         "low": [
          206.97000122070312,
          207.22999572753906,
          202.3300018310547,
          196.88999938964844,
          197.55999755859375,
          204.5399932861328,
          210.25999450683594,
          204.10000610351562,
          200.91000366210938,
          203.22000122070312,
          155,
          159.5,
          157.0500030517578,
          153.25,
          150.33999633789062,
          146.64999389648438,
          142.39999389648438,
          141.9199981689453,
          144.74000549316406,
          147.17999267578125,
          148.33999633789062,
          147.97999572753906,
          154.4499969482422,
          154.5399932861328,
          154.82000732421875,
          148.9600067138672,
          152.14999389648438,
          151.0800018310547,
          151.64999389648438,
          148.92999267578125,
          154.91000366210938,
          155.39999389648438,
          155.05999755859375,
          151.55999755859375,
          149.8699951171875,
          149.63999938964844,
          151.42999267578125,
          154.85000610351562,
          155.5800018310547,
          156.6300048828125,
          155.77000427246094,
          158.6199951171875
         ],
         "name": "FDX",
         "open": [
          209.4499969482422,
          214.1999969482422,
          204.99000549316406,
          201.39999389648438,
          200.67999267578125,
          204.8000030517578,
          210.25999450683594,
          208.88999938964844,
          204.7100067138672,
          204.60000610351562,
          159.30999755859375,
          160,
          161.1699981689453,
          157.1699981689453,
          152.6199951171875,
          149.77000427246094,
          148.47000122070312,
          143.5,
          145.72000122070312,
          147.89999389648438,
          150.9499969482422,
          150.1199951171875,
          155.19000244140625,
          155.24000549316406,
          156.39999389648438,
          152.50999450683594,
          155.88999938964844,
          151.52999877929688,
          152.07000732421875,
          150.44000244140625,
          156.8800048828125,
          158.27999877929688,
          160.69000244140625,
          155.72000122070312,
          152.9499969482422,
          150.19000244140625,
          152.19000244140625,
          155.88999938964844,
          156.3800048828125,
          158.94000244140625,
          157.5399932861328,
          159.02000427246094
         ],
         "showlegend": true,
         "type": "candlestick",
         "x": [
          "2022-09-01T00:00:00",
          "2022-09-02T00:00:00",
          "2022-09-06T00:00:00",
          "2022-09-07T00:00:00",
          "2022-09-08T00:00:00",
          "2022-09-09T00:00:00",
          "2022-09-12T00:00:00",
          "2022-09-13T00:00:00",
          "2022-09-14T00:00:00",
          "2022-09-15T00:00:00",
          "2022-09-16T00:00:00",
          "2022-09-19T00:00:00",
          "2022-09-20T00:00:00",
          "2022-09-21T00:00:00",
          "2022-09-22T00:00:00",
          "2022-09-23T00:00:00",
          "2022-09-26T00:00:00",
          "2022-09-27T00:00:00",
          "2022-09-28T00:00:00",
          "2022-09-29T00:00:00",
          "2022-09-30T00:00:00",
          "2022-10-03T00:00:00",
          "2022-10-04T00:00:00",
          "2022-10-05T00:00:00",
          "2022-10-06T00:00:00",
          "2022-10-07T00:00:00",
          "2022-10-10T00:00:00",
          "2022-10-11T00:00:00",
          "2022-10-12T00:00:00",
          "2022-10-13T00:00:00",
          "2022-10-14T00:00:00",
          "2022-10-17T00:00:00",
          "2022-10-18T00:00:00",
          "2022-10-19T00:00:00",
          "2022-10-20T00:00:00",
          "2022-10-21T00:00:00",
          "2022-10-24T00:00:00",
          "2022-10-25T00:00:00",
          "2022-10-26T00:00:00",
          "2022-10-27T00:00:00",
          "2022-10-28T00:00:00",
          "2022-10-31T00:00:00"
         ]
        }
       ],
       "layout": {
        "template": {
         "data": {
          "bar": [
           {
            "error_x": {
             "color": "#2a3f5f"
            },
            "error_y": {
             "color": "#2a3f5f"
            },
            "marker": {
             "line": {
              "color": "#E5ECF6",
              "width": 0.5
             },
             "pattern": {
              "fillmode": "overlay",
              "size": 10,
              "solidity": 0.2
             }
            },
            "type": "bar"
           }
          ],
          "barpolar": [
           {
            "marker": {
             "line": {
              "color": "#E5ECF6",
              "width": 0.5
             },
             "pattern": {
              "fillmode": "overlay",
              "size": 10,
              "solidity": 0.2
             }
            },
            "type": "barpolar"
           }
          ],
          "carpet": [
           {
            "aaxis": {
             "endlinecolor": "#2a3f5f",
             "gridcolor": "white",
             "linecolor": "white",
             "minorgridcolor": "white",
             "startlinecolor": "#2a3f5f"
            },
            "baxis": {
             "endlinecolor": "#2a3f5f",
             "gridcolor": "white",
             "linecolor": "white",
             "minorgridcolor": "white",
             "startlinecolor": "#2a3f5f"
            },
            "type": "carpet"
           }
          ],
          "choropleth": [
           {
            "colorbar": {
             "outlinewidth": 0,
             "ticks": ""
            },
            "type": "choropleth"
           }
          ],
          "contour": [
           {
            "colorbar": {
             "outlinewidth": 0,
             "ticks": ""
            },
            "colorscale": [
             [
              0,
              "#0d0887"
             ],
             [
              0.1111111111111111,
              "#46039f"
             ],
             [
              0.2222222222222222,
              "#7201a8"
             ],
             [
              0.3333333333333333,
              "#9c179e"
             ],
             [
              0.4444444444444444,
              "#bd3786"
             ],
             [
              0.5555555555555556,
              "#d8576b"
             ],
             [
              0.6666666666666666,
              "#ed7953"
             ],
             [
              0.7777777777777778,
              "#fb9f3a"
             ],
             [
              0.8888888888888888,
              "#fdca26"
             ],
             [
              1,
              "#f0f921"
             ]
            ],
            "type": "contour"
           }
          ],
          "contourcarpet": [
           {
            "colorbar": {
             "outlinewidth": 0,
             "ticks": ""
            },
            "type": "contourcarpet"
           }
          ],
          "heatmap": [
           {
            "colorbar": {
             "outlinewidth": 0,
             "ticks": ""
            },
            "colorscale": [
             [
              0,
              "#0d0887"
             ],
             [
              0.1111111111111111,
              "#46039f"
             ],
             [
              0.2222222222222222,
              "#7201a8"
             ],
             [
              0.3333333333333333,
              "#9c179e"
             ],
             [
              0.4444444444444444,
              "#bd3786"
             ],
             [
              0.5555555555555556,
              "#d8576b"
             ],
             [
              0.6666666666666666,
              "#ed7953"
             ],
             [
              0.7777777777777778,
              "#fb9f3a"
             ],
             [
              0.8888888888888888,
              "#fdca26"
             ],
             [
              1,
              "#f0f921"
             ]
            ],
            "type": "heatmap"
           }
          ],
          "heatmapgl": [
           {
            "colorbar": {
             "outlinewidth": 0,
             "ticks": ""
            },
            "colorscale": [
             [
              0,
              "#0d0887"
             ],
             [
              0.1111111111111111,
              "#46039f"
             ],
             [
              0.2222222222222222,
              "#7201a8"
             ],
             [
              0.3333333333333333,
              "#9c179e"
             ],
             [
              0.4444444444444444,
              "#bd3786"
             ],
             [
              0.5555555555555556,
              "#d8576b"
             ],
             [
              0.6666666666666666,
              "#ed7953"
             ],
             [
              0.7777777777777778,
              "#fb9f3a"
             ],
             [
              0.8888888888888888,
              "#fdca26"
             ],
             [
              1,
              "#f0f921"
             ]
            ],
            "type": "heatmapgl"
           }
          ],
          "histogram": [
           {
            "marker": {
             "pattern": {
              "fillmode": "overlay",
              "size": 10,
              "solidity": 0.2
             }
            },
            "type": "histogram"
           }
          ],
          "histogram2d": [
           {
            "colorbar": {
             "outlinewidth": 0,
             "ticks": ""
            },
            "colorscale": [
             [
              0,
              "#0d0887"
             ],
             [
              0.1111111111111111,
              "#46039f"
             ],
             [
              0.2222222222222222,
              "#7201a8"
             ],
             [
              0.3333333333333333,
              "#9c179e"
             ],
             [
              0.4444444444444444,
              "#bd3786"
             ],
             [
              0.5555555555555556,
              "#d8576b"
             ],
             [
              0.6666666666666666,
              "#ed7953"
             ],
             [
              0.7777777777777778,
              "#fb9f3a"
             ],
             [
              0.8888888888888888,
              "#fdca26"
             ],
             [
              1,
              "#f0f921"
             ]
            ],
            "type": "histogram2d"
           }
          ],
          "histogram2dcontour": [
           {
            "colorbar": {
             "outlinewidth": 0,
             "ticks": ""
            },
            "colorscale": [
             [
              0,
              "#0d0887"
             ],
             [
              0.1111111111111111,
              "#46039f"
             ],
             [
              0.2222222222222222,
              "#7201a8"
             ],
             [
              0.3333333333333333,
              "#9c179e"
             ],
             [
              0.4444444444444444,
              "#bd3786"
             ],
             [
              0.5555555555555556,
              "#d8576b"
             ],
             [
              0.6666666666666666,
              "#ed7953"
             ],
             [
              0.7777777777777778,
              "#fb9f3a"
             ],
             [
              0.8888888888888888,
              "#fdca26"
             ],
             [
              1,
              "#f0f921"
             ]
            ],
            "type": "histogram2dcontour"
           }
          ],
          "mesh3d": [
           {
            "colorbar": {
             "outlinewidth": 0,
             "ticks": ""
            },
            "type": "mesh3d"
           }
          ],
          "parcoords": [
           {
            "line": {
             "colorbar": {
              "outlinewidth": 0,
              "ticks": ""
             }
            },
            "type": "parcoords"
           }
          ],
          "pie": [
           {
            "automargin": true,
            "type": "pie"
           }
          ],
          "scatter": [
           {
            "fillpattern": {
             "fillmode": "overlay",
             "size": 10,
             "solidity": 0.2
            },
            "type": "scatter"
           }
          ],
          "scatter3d": [
           {
            "line": {
             "colorbar": {
              "outlinewidth": 0,
              "ticks": ""
             }
            },
            "marker": {
             "colorbar": {
              "outlinewidth": 0,
              "ticks": ""
             }
            },
            "type": "scatter3d"
           }
          ],
          "scattercarpet": [
           {
            "marker": {
             "colorbar": {
              "outlinewidth": 0,
              "ticks": ""
             }
            },
            "type": "scattercarpet"
           }
          ],
          "scattergeo": [
           {
            "marker": {
             "colorbar": {
              "outlinewidth": 0,
              "ticks": ""
             }
            },
            "type": "scattergeo"
           }
          ],
          "scattergl": [
           {
            "marker": {
             "colorbar": {
              "outlinewidth": 0,
              "ticks": ""
             }
            },
            "type": "scattergl"
           }
          ],
          "scattermapbox": [
           {
            "marker": {
             "colorbar": {
              "outlinewidth": 0,
              "ticks": ""
             }
            },
            "type": "scattermapbox"
           }
          ],
          "scatterpolar": [
           {
            "marker": {
             "colorbar": {
              "outlinewidth": 0,
              "ticks": ""
             }
            },
            "type": "scatterpolar"
           }
          ],
          "scatterpolargl": [
           {
            "marker": {
             "colorbar": {
              "outlinewidth": 0,
              "ticks": ""
             }
            },
            "type": "scatterpolargl"
           }
          ],
          "scatterternary": [
           {
            "marker": {
             "colorbar": {
              "outlinewidth": 0,
              "ticks": ""
             }
            },
            "type": "scatterternary"
           }
          ],
          "surface": [
           {
            "colorbar": {
             "outlinewidth": 0,
             "ticks": ""
            },
            "colorscale": [
             [
              0,
              "#0d0887"
             ],
             [
              0.1111111111111111,
              "#46039f"
             ],
             [
              0.2222222222222222,
              "#7201a8"
             ],
             [
              0.3333333333333333,
              "#9c179e"
             ],
             [
              0.4444444444444444,
              "#bd3786"
             ],
             [
              0.5555555555555556,
              "#d8576b"
             ],
             [
              0.6666666666666666,
              "#ed7953"
             ],
             [
              0.7777777777777778,
              "#fb9f3a"
             ],
             [
              0.8888888888888888,
              "#fdca26"
             ],
             [
              1,
              "#f0f921"
             ]
            ],
            "type": "surface"
           }
          ],
          "table": [
           {
            "cells": {
             "fill": {
              "color": "#EBF0F8"
             },
             "line": {
              "color": "white"
             }
            },
            "header": {
             "fill": {
              "color": "#C8D4E3"
             },
             "line": {
              "color": "white"
             }
            },
            "type": "table"
           }
          ]
         },
         "layout": {
          "annotationdefaults": {
           "arrowcolor": "#2a3f5f",
           "arrowhead": 0,
           "arrowwidth": 1
          },
          "autotypenumbers": "strict",
          "coloraxis": {
           "colorbar": {
            "outlinewidth": 0,
            "ticks": ""
           }
          },
          "colorscale": {
           "diverging": [
            [
             0,
             "#8e0152"
            ],
            [
             0.1,
             "#c51b7d"
            ],
            [
             0.2,
             "#de77ae"
            ],
            [
             0.3,
             "#f1b6da"
            ],
            [
             0.4,
             "#fde0ef"
            ],
            [
             0.5,
             "#f7f7f7"
            ],
            [
             0.6,
             "#e6f5d0"
            ],
            [
             0.7,
             "#b8e186"
            ],
            [
             0.8,
             "#7fbc41"
            ],
            [
             0.9,
             "#4d9221"
            ],
            [
             1,
             "#276419"
            ]
           ],
           "sequential": [
            [
             0,
             "#0d0887"
            ],
            [
             0.1111111111111111,
             "#46039f"
            ],
            [
             0.2222222222222222,
             "#7201a8"
            ],
            [
             0.3333333333333333,
             "#9c179e"
            ],
            [
             0.4444444444444444,
             "#bd3786"
            ],
            [
             0.5555555555555556,
             "#d8576b"
            ],
            [
             0.6666666666666666,
             "#ed7953"
            ],
            [
             0.7777777777777778,
             "#fb9f3a"
            ],
            [
             0.8888888888888888,
             "#fdca26"
            ],
            [
             1,
             "#f0f921"
            ]
           ],
           "sequentialminus": [
            [
             0,
             "#0d0887"
            ],
            [
             0.1111111111111111,
             "#46039f"
            ],
            [
             0.2222222222222222,
             "#7201a8"
            ],
            [
             0.3333333333333333,
             "#9c179e"
            ],
            [
             0.4444444444444444,
             "#bd3786"
            ],
            [
             0.5555555555555556,
             "#d8576b"
            ],
            [
             0.6666666666666666,
             "#ed7953"
            ],
            [
             0.7777777777777778,
             "#fb9f3a"
            ],
            [
             0.8888888888888888,
             "#fdca26"
            ],
            [
             1,
             "#f0f921"
            ]
           ]
          },
          "colorway": [
           "#636efa",
           "#EF553B",
           "#00cc96",
           "#ab63fa",
           "#FFA15A",
           "#19d3f3",
           "#FF6692",
           "#B6E880",
           "#FF97FF",
           "#FECB52"
          ],
          "font": {
           "color": "#2a3f5f"
          },
          "geo": {
           "bgcolor": "white",
           "lakecolor": "white",
           "landcolor": "#E5ECF6",
           "showlakes": true,
           "showland": true,
           "subunitcolor": "white"
          },
          "hoverlabel": {
           "align": "left"
          },
          "hovermode": "closest",
          "mapbox": {
           "style": "light"
          },
          "paper_bgcolor": "white",
          "plot_bgcolor": "#E5ECF6",
          "polar": {
           "angularaxis": {
            "gridcolor": "white",
            "linecolor": "white",
            "ticks": ""
           },
           "bgcolor": "#E5ECF6",
           "radialaxis": {
            "gridcolor": "white",
            "linecolor": "white",
            "ticks": ""
           }
          },
          "scene": {
           "xaxis": {
            "backgroundcolor": "#E5ECF6",
            "gridcolor": "white",
            "gridwidth": 2,
            "linecolor": "white",
            "showbackground": true,
            "ticks": "",
            "zerolinecolor": "white"
           },
           "yaxis": {
            "backgroundcolor": "#E5ECF6",
            "gridcolor": "white",
            "gridwidth": 2,
            "linecolor": "white",
            "showbackground": true,
            "ticks": "",
            "zerolinecolor": "white"
           },
           "zaxis": {
            "backgroundcolor": "#E5ECF6",
            "gridcolor": "white",
            "gridwidth": 2,
            "linecolor": "white",
            "showbackground": true,
            "ticks": "",
            "zerolinecolor": "white"
           }
          },
          "shapedefaults": {
           "line": {
            "color": "#2a3f5f"
           }
          },
          "ternary": {
           "aaxis": {
            "gridcolor": "white",
            "linecolor": "white",
            "ticks": ""
           },
           "baxis": {
            "gridcolor": "white",
            "linecolor": "white",
            "ticks": ""
           },
           "bgcolor": "#E5ECF6",
           "caxis": {
            "gridcolor": "white",
            "linecolor": "white",
            "ticks": ""
           }
          },
          "title": {
           "x": 0.05
          },
          "xaxis": {
           "automargin": true,
           "gridcolor": "white",
           "linecolor": "white",
           "ticks": "",
           "title": {
            "standoff": 15
           },
           "zerolinecolor": "white",
           "zerolinewidth": 2
          },
          "yaxis": {
           "automargin": true,
           "gridcolor": "white",
           "linecolor": "white",
           "ticks": "",
           "title": {
            "standoff": 15
           },
           "zerolinecolor": "white",
           "zerolinewidth": 2
          }
         }
        },
        "title": {
         "text": "FedEx Stock"
        }
       }
      }
     },
     "metadata": {},
     "output_type": "display_data"
    }
   ],
   "source": [
    "import plotly.graph_objects as go\n",
    "\n",
    "graph = {\n",
    "    'x': df.index,\n",
    "    'open': df.Open,\n",
    "    'close': df.Close,\n",
    "    'high': df.High,\n",
    "    'low': df.Low,\n",
    "    'type': 'candlestick',\n",
    "    'name': 'FDX',\n",
    "    'showlegend': True\n",
    "}\n",
    "\n",
    "layout = go.Figure(\n",
    "    data = [graph],\n",
    "    layout_title= \"FedEx Stock\"\n",
    ")\n",
    "\n",
    "layout"
   ]
  },
  {
   "cell_type": "markdown",
   "metadata": {},
   "source": [
    "### Grafico de Barras"
   ]
  },
  {
   "cell_type": "code",
   "execution_count": 6,
   "metadata": {},
   "outputs": [
    {
     "name": "stdout",
     "output_type": "stream",
     "text": [
      "Requirement already satisfied: mplfinance in c:\\users\\usuario\\appdata\\local\\programs\\python\\python39\\lib\\site-packages (0.12.9b1)\n",
      "Requirement already satisfied: pandas in c:\\users\\usuario\\appdata\\local\\programs\\python\\python39\\lib\\site-packages (from mplfinance) (1.3.5)\n",
      "Requirement already satisfied: matplotlib in c:\\users\\usuario\\appdata\\local\\programs\\python\\python39\\lib\\site-packages (from mplfinance) (3.6.1)\n",
      "Requirement already satisfied: numpy>=1.17.3; platform_machine != \"aarch64\" and platform_machine != \"arm64\" and python_version < \"3.10\" in c:\\users\\usuario\\appdata\\local\\programs\\python\\python39\\lib\\site-packages (from pandas->mplfinance) (1.22.1)\n",
      "Requirement already satisfied: python-dateutil>=2.7.3 in c:\\users\\usuario\\appdata\\local\\programs\\python\\python39\\lib\\site-packages (from pandas->mplfinance) (2.8.2)\n",
      "Requirement already satisfied: pytz>=2017.3 in c:\\users\\usuario\\appdata\\local\\programs\\python\\python39\\lib\\site-packages (from pandas->mplfinance) (2021.3)\n",
      "Requirement already satisfied: contourpy>=1.0.1 in c:\\users\\usuario\\appdata\\local\\programs\\python\\python39\\lib\\site-packages (from matplotlib->mplfinance) (1.0.5)\n",
      "Requirement already satisfied: pyparsing>=2.2.1 in c:\\users\\usuario\\appdata\\roaming\\python\\python39\\site-packages (from matplotlib->mplfinance) (3.0.9)\n",
      "Requirement already satisfied: fonttools>=4.22.0 in c:\\users\\usuario\\appdata\\local\\programs\\python\\python39\\lib\\site-packages (from matplotlib->mplfinance) (4.37.4)\n",
      "Requirement already satisfied: pillow>=6.2.0 in c:\\users\\usuario\\appdata\\local\\programs\\python\\python39\\lib\\site-packages (from matplotlib->mplfinance) (9.0.0)\n",
      "Requirement already satisfied: kiwisolver>=1.0.1 in c:\\users\\usuario\\appdata\\local\\programs\\python\\python39\\lib\\site-packages (from matplotlib->mplfinance) (1.4.4)\n",
      "Requirement already satisfied: packaging>=20.0 in c:\\users\\usuario\\appdata\\roaming\\python\\python39\\site-packages (from matplotlib->mplfinance) (21.3)\n",
      "Requirement already satisfied: cycler>=0.10 in c:\\users\\usuario\\appdata\\local\\programs\\python\\python39\\lib\\site-packages (from matplotlib->mplfinance) (0.11.0)\n",
      "Requirement already satisfied: six>=1.5 in c:\\users\\usuario\\appdata\\local\\programs\\python\\python39\\lib\\site-packages (from python-dateutil>=2.7.3->pandas->mplfinance) (1.16.0)\n"
     ]
    },
    {
     "name": "stderr",
     "output_type": "stream",
     "text": [
      "WARNING: You are using pip version 20.2.3; however, version 22.3 is available.\n",
      "You should consider upgrading via the 'c:\\users\\usuario\\appdata\\local\\programs\\python\\python39\\python.exe -m pip install --upgrade pip' command.\n"
     ]
    }
   ],
   "source": [
    "!pip install mplfinance"
   ]
  },
  {
   "cell_type": "code",
   "execution_count": 8,
   "metadata": {},
   "outputs": [
    {
     "name": "stderr",
     "output_type": "stream",
     "text": [
      "c:\\Users\\Usuario\\AppData\\Local\\Programs\\Python\\Python39\\lib\\site-packages\\mplfinance\\_styles.py:24: MatplotlibDeprecationWarning:\n",
      "\n",
      "The seaborn styles shipped by Matplotlib are deprecated since 3.6, as they no longer correspond to the styles shipped by seaborn. However, they will remain available as 'seaborn-v0_8-<style>'. Alternatively, directly use the seaborn API instead.\n",
      "\n"
     ]
    },
    {
     "data": {
      "image/png": "[encoded data removed]",
      "text/plain": [
       "<Figure size 800x575 with 2 Axes>"
      ]
     },
     "metadata": {},
     "output_type": "display_data"
    }
   ],
   "source": [
    "import mplfinance as mpf\n",
    "mpf.plot(df, type = 'ohlc')"
   ]
  },
  {
   "cell_type": "markdown",
   "metadata": {},
   "source": [
    "### Graficar 2 o mas acciones en un mismo grafico"
   ]
  },
  {
   "cell_type": "code",
   "execution_count": 13,
   "metadata": {},
   "outputs": [],
   "source": [
    "#importamos 2 acciones en el mismo lapso de tiempo que la primera\n",
    "start = datetime(2021, 1, 1)\n",
    "end = datetime(2022, 10, 31)\n",
    "\n",
    "df2 = pdr.get_data_yahoo('MSFT', start = start, end = end)\n",
    "df3 = pdr.get_data_yahoo('FDX', start = start, end = end)"
   ]
  },
  {
   "cell_type": "code",
   "execution_count": 14,
   "metadata": {},
   "outputs": [
    {
     "data": {
      "text/html": [
       "<div>\n",
       "<style scoped>\n",
       "    .dataframe tbody tr th:only-of-type {\n",
       "        vertical-align: middle;\n",
       "    }\n",
       "\n",
       "    .dataframe tbody tr th {\n",
       "        vertical-align: top;\n",
       "    }\n",
       "\n",
       "    .dataframe thead th {\n",
       "        text-align: right;\n",
       "    }\n",
       "</style>\n",
       "<table border=\"1\" class=\"dataframe\">\n",
       "  <thead>\n",
       "    <tr style=\"text-align: right;\">\n",
       "      <th></th>\n",
       "      <th>FDX</th>\n",
       "      <th>MSFT</th>\n",
       "    </tr>\n",
       "    <tr>\n",
       "      <th>Date</th>\n",
       "      <th></th>\n",
       "      <th></th>\n",
       "    </tr>\n",
       "  </thead>\n",
       "  <tbody>\n",
       "    <tr>\n",
       "      <th>2021-01-04</th>\n",
       "      <td>253.190002</td>\n",
       "      <td>217.690002</td>\n",
       "    </tr>\n",
       "    <tr>\n",
       "      <th>2021-01-05</th>\n",
       "      <td>253.179993</td>\n",
       "      <td>217.899994</td>\n",
       "    </tr>\n",
       "    <tr>\n",
       "      <th>2021-01-06</th>\n",
       "      <td>253.559998</td>\n",
       "      <td>212.250000</td>\n",
       "    </tr>\n",
       "    <tr>\n",
       "      <th>2021-01-07</th>\n",
       "      <td>246.029999</td>\n",
       "      <td>218.289993</td>\n",
       "    </tr>\n",
       "    <tr>\n",
       "      <th>2021-01-08</th>\n",
       "      <td>244.960007</td>\n",
       "      <td>219.619995</td>\n",
       "    </tr>\n",
       "  </tbody>\n",
       "</table>\n",
       "</div>"
      ],
      "text/plain": [
       "                   FDX        MSFT\n",
       "Date                              \n",
       "2021-01-04  253.190002  217.690002\n",
       "2021-01-05  253.179993  217.899994\n",
       "2021-01-06  253.559998  212.250000\n",
       "2021-01-07  246.029999  218.289993\n",
       "2021-01-08  244.960007  219.619995"
      ]
     },
     "execution_count": 14,
     "metadata": {},
     "output_type": "execute_result"
    }
   ],
   "source": [
    "#agregamos las columnas necesarias para que solo nos queden los valores de clausura de cada accion\n",
    "df3['FDX'] = df3['Close']\n",
    "df3['MSFT'] = df2['Close']\n",
    "df3 = df3.drop(columns=['High', 'Low', 'Open', 'Close', 'Volume', 'Adj Close'], axis = 1)\n",
    "df3.head()"
   ]
  },
  {
   "cell_type": "code",
   "execution_count": 15,
   "metadata": {},
   "outputs": [
    {
     "data": {
      "text/plain": [
       "<AxesSubplot: xlabel='Date'>"
      ]
     },
     "execution_count": 15,
     "metadata": {},
     "output_type": "execute_result"
    },
    {
     "data": {
      "image/png": "[encoded data removed]",
      "text/plain": [
       "<Figure size 640x480 with 1 Axes>"
      ]
     },
     "metadata": {},
     "output_type": "display_data"
    }
   ],
   "source": [
    "df3.plot(kind='line')"
   ]
  },
  {
   "cell_type": "markdown",
   "metadata": {},
   "source": [
    "Otras opciones para poder visualizar la información en python. Dependiendo del tipo de datos que se tengan, hay mejores opciones para visualizarlos:\n",
    "\n",
    "* ‘line’ : line plot (default)\n",
    "* ‘bar’ : vertical bar plot\n",
    "* ‘barh’ : horizontal bar plot\n",
    "* ‘hist’ : histogram\n",
    "* ‘box’ : boxplot\n",
    "* ‘kde’ : Kernel Density Estimation plot\n",
    "* ‘density’ : same as ‘kde’\n",
    "* ‘area’ : area plot\n",
    "* ‘pie’ : pie plot\n",
    "* ‘scatter’ : scatter plot\n",
    "* ‘hexbin’ : hexbin plot"
   ]
  }
 ],
 "metadata": {
  "kernelspec": {
   "display_name": "Python 3.9.0 64-bit",
   "language": "python",
   "name": "python3"
  },
  "language_info": {
   "codemirror_mode": {
    "name": "ipython",
    "version": 3
   },
   "file_extension": ".py",
   "mimetype": "text/x-python",
   "name": "python",
   "nbconvert_exporter": "python",
   "pygments_lexer": "ipython3",
   "version": "3.9.0"
  },
  "orig_nbformat": 4,
  "vscode": {
   "interpreter": {
    "hash": "4a642a9a94d05d387b7a27be99b5a4ff6656c8c24931cc81c2f78dd14cfb5dc8"
   }
  }
 },
 "nbformat": 4,
 "nbformat_minor": 2
}
