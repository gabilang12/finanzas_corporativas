{
  "cells": [
    {
      "cell_type": "markdown",
      "metadata": {
        "id": "xpal-JZ1XHNI"
      },
      "source": [
        "# **Avance 1**\n",
        "\n",
        "### *Extracción de datos de una acción y gráfica de su histórico*"
      ]
    },
    {
      "cell_type": "markdown",
      "metadata": {
        "id": "A58A8b4Hi7Pm"
      },
      "source": [
        "### **1. Extracción de datos de la acción**"
      ]
    },
    {
      "cell_type": "markdown",
      "metadata": {
        "id": "OlW6G1saczIp"
      },
      "source": [
        "------Opcion 1: realizar la extracción de datos con la libreria **yfinance**"
      ]
    },
    {
      "cell_type": "code",
      "execution_count": 1,
      "metadata": {
        "colab": {
          "base_uri": "https://localhost:8080/",
          "height": 523
        },
        "id": "8pVxPzC7XGZ1",
        "outputId": "3c0950d1-dcd9-46b0-88e3-a9d17627baac"
      },
      "outputs": [
        {
          "name": "stdout",
          "output_type": "stream",
          "text": [
            "Requirement already satisfied: yfinance in c:\\users\\usuario\\appdata\\local\\programs\\python\\python39\\lib\\site-packages (0.1.74)\n",
            "Requirement already satisfied: numpy>=1.15 in c:\\users\\usuario\\appdata\\local\\programs\\python\\python39\\lib\\site-packages (from yfinance) (1.22.1)\n",
            "Requirement already satisfied: multitasking>=0.0.7 in c:\\users\\usuario\\appdata\\local\\programs\\python\\python39\\lib\\site-packages (from yfinance) (0.0.11)\n",
            "Requirement already satisfied: pandas>=0.24.0 in c:\\users\\usuario\\appdata\\local\\programs\\python\\python39\\lib\\site-packages (from yfinance) (1.3.5)\n",
            "Requirement already satisfied: lxml>=4.5.1 in c:\\users\\usuario\\appdata\\local\\programs\\python\\python39\\lib\\site-packages (from yfinance) (4.7.1)\n",
            "Requirement already satisfied: requests>=2.26 in c:\\users\\usuario\\appdata\\local\\programs\\python\\python39\\lib\\site-packages (from yfinance) (2.27.1)\n",
            "Requirement already satisfied: python-dateutil>=2.7.3 in c:\\users\\usuario\\appdata\\local\\programs\\python\\python39\\lib\\site-packages (from pandas>=0.24.0->yfinance) (2.8.2)\n",
            "Requirement already satisfied: pytz>=2017.3 in c:\\users\\usuario\\appdata\\local\\programs\\python\\python39\\lib\\site-packages (from pandas>=0.24.0->yfinance) (2021.3)\n",
            "Requirement already satisfied: charset-normalizer~=2.0.0; python_version >= \"3\" in c:\\users\\usuario\\appdata\\local\\programs\\python\\python39\\lib\\site-packages (from requests>=2.26->yfinance) (2.0.10)\n",
            "Requirement already satisfied: idna<4,>=2.5; python_version >= \"3\" in c:\\users\\usuario\\appdata\\local\\programs\\python\\python39\\lib\\site-packages (from requests>=2.26->yfinance) (3.3)\n",
            "Requirement already satisfied: certifi>=2017.4.17 in c:\\users\\usuario\\appdata\\local\\programs\\python\\python39\\lib\\site-packages (from requests>=2.26->yfinance) (2021.10.8)\n",
            "Requirement already satisfied: urllib3<1.27,>=1.21.1 in c:\\users\\usuario\\appdata\\local\\programs\\python\\python39\\lib\\site-packages (from requests>=2.26->yfinance) (1.26.8)\n",
            "Requirement already satisfied: six>=1.5 in c:\\users\\usuario\\appdata\\local\\programs\\python\\python39\\lib\\site-packages (from python-dateutil>=2.7.3->pandas>=0.24.0->yfinance) (1.16.0)\n"
          ]
        },
        {
          "name": "stderr",
          "output_type": "stream",
          "text": [
            "WARNING: You are using pip version 20.2.3; however, version 22.3 is available.\n",
            "You should consider upgrading via the 'c:\\users\\usuario\\appdata\\local\\programs\\python\\python39\\python.exe -m pip install --upgrade pip' command.\n"
          ]
        }
      ],
      "source": [
        "!pip install yfinance"
      ]
    },
    {
      "cell_type": "code",
      "execution_count": 2,
      "metadata": {
        "id": "mDLOs-YgYwzp"
      },
      "outputs": [],
      "source": [
        "import pandas as pd\n",
        "import yfinance as yf"
      ]
    },
    {
      "cell_type": "code",
      "execution_count": 3,
      "metadata": {
        "id": "MmHltjm3X71q"
      },
      "outputs": [],
      "source": [
        "indice_accion = yf.Ticker(\"MSFT\")"
      ]
    },
    {
      "cell_type": "code",
      "execution_count": 4,
      "metadata": {
        "id": "GDjH7GBvYHq4"
      },
      "outputs": [],
      "source": [
        "#conseguir el histórico de los datos de la acción\n",
        "from datetime import datetime\n",
        "\n",
        "inicio = datetime(2021, 1, 1)\n",
        "fin = datetime(2022, 10, 31)\n",
        "hist = indice_accion.history(start = inicio, end = fin)"
      ]
    },
    {
      "cell_type": "code",
      "execution_count": 5,
      "metadata": {
        "colab": {
          "base_uri": "https://localhost:8080/",
          "height": 70
        },
        "id": "xepb_5qGZGrb",
        "outputId": "8caf6293-22c2-4fc2-afc4-33d919bdd7ad"
      },
      "outputs": [
        {
          "data": {
            "text/plain": [
              "'\\nesta casilla de codigo solo se debe correr 1 vez, ya que si se vuelve a ejecutar saldra un error, \\ny esto es porque las columnas ya no van a existir. Para volverlo a correr hay que ejecutar todo el codigo de nuevo, \\no por lo menos la parte donde se crea el dataframde de el historial de la acción\\n'"
            ]
          },
          "execution_count": 5,
          "metadata": {},
          "output_type": "execute_result"
        }
      ],
      "source": [
        "#eliminamos las columnas de dividends y stock splits ya que no se requieren en estos momentos\n",
        "del hist['Dividends']\n",
        "del hist['Stock Splits']\n",
        "\n",
        "'''\n",
        "esta casilla de codigo solo se debe correr 1 vez, ya que si se vuelve a ejecutar saldra un error, \n",
        "y esto es porque las columnas ya no van a existir. Para volverlo a correr hay que ejecutar todo el codigo de nuevo, \n",
        "o por lo menos la parte donde se crea el dataframde de el historial de la acción\n",
        "'''"
      ]
    },
    {
      "cell_type": "code",
      "execution_count": 6,
      "metadata": {
        "colab": {
          "base_uri": "https://localhost:8080/",
          "height": 455
        },
        "id": "-gSkY0u2diH5",
        "outputId": "12df5e92-403f-40f5-cc77-603021621e38"
      },
      "outputs": [
        {
          "data": {
            "text/html": [
              "<div>\n",
              "<style scoped>\n",
              "    .dataframe tbody tr th:only-of-type {\n",
              "        vertical-align: middle;\n",
              "    }\n",
              "\n",
              "    .dataframe tbody tr th {\n",
              "        vertical-align: top;\n",
              "    }\n",
              "\n",
              "    .dataframe thead th {\n",
              "        text-align: right;\n",
              "    }\n",
              "</style>\n",
              "<table border=\"1\" class=\"dataframe\">\n",
              "  <thead>\n",
              "    <tr style=\"text-align: right;\">\n",
              "      <th></th>\n",
              "      <th>Open</th>\n",
              "      <th>High</th>\n",
              "      <th>Low</th>\n",
              "      <th>Close</th>\n",
              "      <th>Volume</th>\n",
              "    </tr>\n",
              "    <tr>\n",
              "      <th>Date</th>\n",
              "      <th></th>\n",
              "      <th></th>\n",
              "      <th></th>\n",
              "      <th></th>\n",
              "      <th></th>\n",
              "    </tr>\n",
              "  </thead>\n",
              "  <tbody>\n",
              "    <tr>\n",
              "      <th>2021-01-04</th>\n",
              "      <td>219.247702</td>\n",
              "      <td>219.710771</td>\n",
              "      <td>211.641570</td>\n",
              "      <td>214.479095</td>\n",
              "      <td>37130100</td>\n",
              "    </tr>\n",
              "    <tr>\n",
              "      <th>2021-01-05</th>\n",
              "      <td>214.055445</td>\n",
              "      <td>215.296870</td>\n",
              "      <td>212.518457</td>\n",
              "      <td>214.686005</td>\n",
              "      <td>23823000</td>\n",
              "    </tr>\n",
              "    <tr>\n",
              "      <th>2021-01-06</th>\n",
              "      <td>209.040502</td>\n",
              "      <td>213.296789</td>\n",
              "      <td>208.813899</td>\n",
              "      <td>209.119324</td>\n",
              "      <td>35930700</td>\n",
              "    </tr>\n",
              "    <tr>\n",
              "      <th>2021-01-07</th>\n",
              "      <td>210.882938</td>\n",
              "      <td>216.104767</td>\n",
              "      <td>210.557819</td>\n",
              "      <td>215.070251</td>\n",
              "      <td>27694500</td>\n",
              "    </tr>\n",
              "    <tr>\n",
              "      <th>2021-01-08</th>\n",
              "      <td>215.454493</td>\n",
              "      <td>217.326477</td>\n",
              "      <td>213.828836</td>\n",
              "      <td>216.380630</td>\n",
              "      <td>22956200</td>\n",
              "    </tr>\n",
              "    <tr>\n",
              "      <th>...</th>\n",
              "      <td>...</td>\n",
              "      <td>...</td>\n",
              "      <td>...</td>\n",
              "      <td>...</td>\n",
              "      <td>...</td>\n",
              "    </tr>\n",
              "    <tr>\n",
              "      <th>2022-10-24</th>\n",
              "      <td>243.759995</td>\n",
              "      <td>247.839996</td>\n",
              "      <td>241.300003</td>\n",
              "      <td>247.250000</td>\n",
              "      <td>24911200</td>\n",
              "    </tr>\n",
              "    <tr>\n",
              "      <th>2022-10-25</th>\n",
              "      <td>247.259995</td>\n",
              "      <td>251.039993</td>\n",
              "      <td>245.830002</td>\n",
              "      <td>250.660004</td>\n",
              "      <td>34775500</td>\n",
              "    </tr>\n",
              "    <tr>\n",
              "      <th>2022-10-26</th>\n",
              "      <td>231.169998</td>\n",
              "      <td>238.300003</td>\n",
              "      <td>230.059998</td>\n",
              "      <td>231.320007</td>\n",
              "      <td>82543200</td>\n",
              "    </tr>\n",
              "    <tr>\n",
              "      <th>2022-10-27</th>\n",
              "      <td>231.039993</td>\n",
              "      <td>233.690002</td>\n",
              "      <td>225.779999</td>\n",
              "      <td>226.750000</td>\n",
              "      <td>40424600</td>\n",
              "    </tr>\n",
              "    <tr>\n",
              "      <th>2022-10-28</th>\n",
              "      <td>226.240005</td>\n",
              "      <td>236.600006</td>\n",
              "      <td>226.050003</td>\n",
              "      <td>235.869995</td>\n",
              "      <td>40614800</td>\n",
              "    </tr>\n",
              "  </tbody>\n",
              "</table>\n",
              "<p>460 rows × 5 columns</p>\n",
              "</div>"
            ],
            "text/plain": [
              "                  Open        High         Low       Close    Volume\n",
              "Date                                                                \n",
              "2021-01-04  219.247702  219.710771  211.641570  214.479095  37130100\n",
              "2021-01-05  214.055445  215.296870  212.518457  214.686005  23823000\n",
              "2021-01-06  209.040502  213.296789  208.813899  209.119324  35930700\n",
              "2021-01-07  210.882938  216.104767  210.557819  215.070251  27694500\n",
              "2021-01-08  215.454493  217.326477  213.828836  216.380630  22956200\n",
              "...                ...         ...         ...         ...       ...\n",
              "2022-10-24  243.759995  247.839996  241.300003  247.250000  24911200\n",
              "2022-10-25  247.259995  251.039993  245.830002  250.660004  34775500\n",
              "2022-10-26  231.169998  238.300003  230.059998  231.320007  82543200\n",
              "2022-10-27  231.039993  233.690002  225.779999  226.750000  40424600\n",
              "2022-10-28  226.240005  236.600006  226.050003  235.869995  40614800\n",
              "\n",
              "[460 rows x 5 columns]"
            ]
          },
          "execution_count": 6,
          "metadata": {},
          "output_type": "execute_result"
        }
      ],
      "source": [
        "hist\n",
        "#la columna 'close' es el precio final de la accion ese dia"
      ]
    },
    {
      "cell_type": "markdown",
      "metadata": {
        "id": "aY8f_ll1dxef"
      },
      "source": [
        "------Opcion 2: realizar la extracción de datos con la libreria **pandas_datareader**"
      ]
    },
    {
      "cell_type": "code",
      "execution_count": 7,
      "metadata": {
        "colab": {
          "base_uri": "https://localhost:8080/",
          "height": 506
        },
        "id": "LBXaTRTYVt38",
        "outputId": "6715aafa-d536-4ca3-ab78-19baff89fba2"
      },
      "outputs": [
        {
          "name": "stdout",
          "output_type": "stream",
          "text": [
            "Requirement already up-to-date: pandas-datareader in c:\\users\\usuario\\appdata\\local\\programs\\python\\python39\\lib\\site-packages (0.10.0)Note: you may need to restart the kernel to use updated packages.\n",
            "\n",
            "Requirement already satisfied, skipping upgrade: lxml in c:\\users\\usuario\\appdata\\local\\programs\\python\\python39\\lib\\site-packages (from pandas-datareader) (4.7.1)\n",
            "Requirement already satisfied, skipping upgrade: requests>=2.19.0 in c:\\users\\usuario\\appdata\\local\\programs\\python\\python39\\lib\\site-packages (from pandas-datareader) (2.27.1)\n",
            "Requirement already satisfied, skipping upgrade: pandas>=0.23 in c:\\users\\usuario\\appdata\\local\\programs\\python\\python39\\lib\\site-packages (from pandas-datareader) (1.3.5)\n",
            "Requirement already satisfied, skipping upgrade: urllib3<1.27,>=1.21.1 in c:\\users\\usuario\\appdata\\local\\programs\\python\\python39\\lib\\site-packages (from requests>=2.19.0->pandas-datareader) (1.26.8)\n",
            "Requirement already satisfied, skipping upgrade: idna<4,>=2.5; python_version >= \"3\" in c:\\users\\usuario\\appdata\\local\\programs\\python\\python39\\lib\\site-packages (from requests>=2.19.0->pandas-datareader) (3.3)\n",
            "Requirement already satisfied, skipping upgrade: certifi>=2017.4.17 in c:\\users\\usuario\\appdata\\local\\programs\\python\\python39\\lib\\site-packages (from requests>=2.19.0->pandas-datareader) (2021.10.8)\n",
            "Requirement already satisfied, skipping upgrade: charset-normalizer~=2.0.0; python_version >= \"3\" in c:\\users\\usuario\\appdata\\local\\programs\\python\\python39\\lib\\site-packages (from requests>=2.19.0->pandas-datareader) (2.0.10)\n",
            "Requirement already satisfied, skipping upgrade: numpy>=1.17.3; platform_machine != \"aarch64\" and platform_machine != \"arm64\" and python_version < \"3.10\" in c:\\users\\usuario\\appdata\\local\\programs\\python\\python39\\lib\\site-packages (from pandas>=0.23->pandas-datareader) (1.22.1)\n",
            "Requirement already satisfied, skipping upgrade: pytz>=2017.3 in c:\\users\\usuario\\appdata\\local\\programs\\python\\python39\\lib\\site-packages (from pandas>=0.23->pandas-datareader) (2021.3)\n",
            "Requirement already satisfied, skipping upgrade: python-dateutil>=2.7.3 in c:\\users\\usuario\\appdata\\local\\programs\\python\\python39\\lib\\site-packages (from pandas>=0.23->pandas-datareader) (2.8.2)\n",
            "Requirement already satisfied, skipping upgrade: six>=1.5 in c:\\users\\usuario\\appdata\\local\\programs\\python\\python39\\lib\\site-packages (from python-dateutil>=2.7.3->pandas>=0.23->pandas-datareader) (1.16.0)\n"
          ]
        },
        {
          "name": "stderr",
          "output_type": "stream",
          "text": [
            "WARNING: You are using pip version 20.2.3; however, version 22.3 is available.\n",
            "You should consider upgrading via the 'c:\\Users\\Usuario\\AppData\\Local\\Programs\\Python\\Python39\\python.exe -m pip install --upgrade pip' command.\n"
          ]
        }
      ],
      "source": [
        "pip install --upgrade pandas-datareader"
      ]
    },
    {
      "cell_type": "code",
      "execution_count": 8,
      "metadata": {
        "id": "nuYvxvqZVE8L"
      },
      "outputs": [],
      "source": [
        "from pandas_datareader import data as  pdr\n",
        "from datetime import datetime"
      ]
    },
    {
      "cell_type": "code",
      "execution_count": 9,
      "metadata": {
        "id": "ficqZH6XV011"
      },
      "outputs": [],
      "source": [
        "start = datetime(2021, 1, 1)\n",
        "end = datetime(2022, 10, 31)"
      ]
    },
    {
      "cell_type": "code",
      "execution_count": 10,
      "metadata": {
        "id": "EEMalTXyV3jj"
      },
      "outputs": [],
      "source": [
        "index = 'FDX'\n",
        "df = pdr.get_data_yahoo(index, start = start, end = end)"
      ]
    },
    {
      "cell_type": "code",
      "execution_count": 11,
      "metadata": {
        "colab": {
          "base_uri": "https://localhost:8080/",
          "height": 455
        },
        "id": "Px-cDolcV6vm",
        "outputId": "042db1fc-5007-4381-bf0c-4a1bd896f264"
      },
      "outputs": [
        {
          "data": {
            "text/html": [
              "<div>\n",
              "<style scoped>\n",
              "    .dataframe tbody tr th:only-of-type {\n",
              "        vertical-align: middle;\n",
              "    }\n",
              "\n",
              "    .dataframe tbody tr th {\n",
              "        vertical-align: top;\n",
              "    }\n",
              "\n",
              "    .dataframe thead th {\n",
              "        text-align: right;\n",
              "    }\n",
              "</style>\n",
              "<table border=\"1\" class=\"dataframe\">\n",
              "  <thead>\n",
              "    <tr style=\"text-align: right;\">\n",
              "      <th></th>\n",
              "      <th>High</th>\n",
              "      <th>Low</th>\n",
              "      <th>Open</th>\n",
              "      <th>Close</th>\n",
              "      <th>Volume</th>\n",
              "      <th>Adj Close</th>\n",
              "    </tr>\n",
              "    <tr>\n",
              "      <th>Date</th>\n",
              "      <th></th>\n",
              "      <th></th>\n",
              "      <th></th>\n",
              "      <th></th>\n",
              "      <th></th>\n",
              "      <th></th>\n",
              "    </tr>\n",
              "  </thead>\n",
              "  <tbody>\n",
              "    <tr>\n",
              "      <th>2021-01-04</th>\n",
              "      <td>260.500000</td>\n",
              "      <td>250.899994</td>\n",
              "      <td>260.399994</td>\n",
              "      <td>253.190002</td>\n",
              "      <td>3797100.0</td>\n",
              "      <td>246.968750</td>\n",
              "    </tr>\n",
              "    <tr>\n",
              "      <th>2021-01-05</th>\n",
              "      <td>254.770004</td>\n",
              "      <td>250.050003</td>\n",
              "      <td>251.500000</td>\n",
              "      <td>253.179993</td>\n",
              "      <td>3271100.0</td>\n",
              "      <td>246.958984</td>\n",
              "    </tr>\n",
              "    <tr>\n",
              "      <th>2021-01-06</th>\n",
              "      <td>258.980011</td>\n",
              "      <td>250.380005</td>\n",
              "      <td>250.460007</td>\n",
              "      <td>253.559998</td>\n",
              "      <td>3605300.0</td>\n",
              "      <td>247.329651</td>\n",
              "    </tr>\n",
              "    <tr>\n",
              "      <th>2021-01-07</th>\n",
              "      <td>256.209991</td>\n",
              "      <td>245.449997</td>\n",
              "      <td>254.089996</td>\n",
              "      <td>246.029999</td>\n",
              "      <td>5657300.0</td>\n",
              "      <td>239.984665</td>\n",
              "    </tr>\n",
              "    <tr>\n",
              "      <th>2021-01-08</th>\n",
              "      <td>247.360001</td>\n",
              "      <td>242.419998</td>\n",
              "      <td>246.520004</td>\n",
              "      <td>244.960007</td>\n",
              "      <td>4583900.0</td>\n",
              "      <td>238.940979</td>\n",
              "    </tr>\n",
              "    <tr>\n",
              "      <th>...</th>\n",
              "      <td>...</td>\n",
              "      <td>...</td>\n",
              "      <td>...</td>\n",
              "      <td>...</td>\n",
              "      <td>...</td>\n",
              "      <td>...</td>\n",
              "    </tr>\n",
              "    <tr>\n",
              "      <th>2022-10-25</th>\n",
              "      <td>157.330002</td>\n",
              "      <td>154.850006</td>\n",
              "      <td>155.889999</td>\n",
              "      <td>155.800003</td>\n",
              "      <td>3077700.0</td>\n",
              "      <td>155.800003</td>\n",
              "    </tr>\n",
              "    <tr>\n",
              "      <th>2022-10-26</th>\n",
              "      <td>159.169998</td>\n",
              "      <td>155.580002</td>\n",
              "      <td>156.380005</td>\n",
              "      <td>157.960007</td>\n",
              "      <td>3733800.0</td>\n",
              "      <td>157.960007</td>\n",
              "    </tr>\n",
              "    <tr>\n",
              "      <th>2022-10-27</th>\n",
              "      <td>160.300003</td>\n",
              "      <td>156.630005</td>\n",
              "      <td>158.940002</td>\n",
              "      <td>156.910004</td>\n",
              "      <td>1646700.0</td>\n",
              "      <td>156.910004</td>\n",
              "    </tr>\n",
              "    <tr>\n",
              "      <th>2022-10-28</th>\n",
              "      <td>160.529999</td>\n",
              "      <td>155.770004</td>\n",
              "      <td>157.539993</td>\n",
              "      <td>160.369995</td>\n",
              "      <td>2567700.0</td>\n",
              "      <td>160.369995</td>\n",
              "    </tr>\n",
              "    <tr>\n",
              "      <th>2022-10-31</th>\n",
              "      <td>162.220001</td>\n",
              "      <td>158.619995</td>\n",
              "      <td>159.020004</td>\n",
              "      <td>161.160004</td>\n",
              "      <td>758204.0</td>\n",
              "      <td>161.160004</td>\n",
              "    </tr>\n",
              "  </tbody>\n",
              "</table>\n",
              "<p>461 rows × 6 columns</p>\n",
              "</div>"
            ],
            "text/plain": [
              "                  High         Low        Open       Close     Volume  \\\n",
              "Date                                                                    \n",
              "2021-01-04  260.500000  250.899994  260.399994  253.190002  3797100.0   \n",
              "2021-01-05  254.770004  250.050003  251.500000  253.179993  3271100.0   \n",
              "2021-01-06  258.980011  250.380005  250.460007  253.559998  3605300.0   \n",
              "2021-01-07  256.209991  245.449997  254.089996  246.029999  5657300.0   \n",
              "2021-01-08  247.360001  242.419998  246.520004  244.960007  4583900.0   \n",
              "...                ...         ...         ...         ...        ...   \n",
              "2022-10-25  157.330002  154.850006  155.889999  155.800003  3077700.0   \n",
              "2022-10-26  159.169998  155.580002  156.380005  157.960007  3733800.0   \n",
              "2022-10-27  160.300003  156.630005  158.940002  156.910004  1646700.0   \n",
              "2022-10-28  160.529999  155.770004  157.539993  160.369995  2567700.0   \n",
              "2022-10-31  162.220001  158.619995  159.020004  161.160004   758204.0   \n",
              "\n",
              "             Adj Close  \n",
              "Date                    \n",
              "2021-01-04  246.968750  \n",
              "2021-01-05  246.958984  \n",
              "2021-01-06  247.329651  \n",
              "2021-01-07  239.984665  \n",
              "2021-01-08  238.940979  \n",
              "...                ...  \n",
              "2022-10-25  155.800003  \n",
              "2022-10-26  157.960007  \n",
              "2022-10-27  156.910004  \n",
              "2022-10-28  160.369995  \n",
              "2022-10-31  161.160004  \n",
              "\n",
              "[461 rows x 6 columns]"
            ]
          },
          "execution_count": 11,
          "metadata": {},
          "output_type": "execute_result"
        }
      ],
      "source": [
        "df\n",
        "#la columna 'adj close' es el precio final de la accion ese dia"
      ]
    }
  ],
  "metadata": {
    "colab": {
      "authorship_tag": "ABX9TyOpz9J8+o3hQdO6Aane87g5",
      "collapsed_sections": [
        "A58A8b4Hi7Pm",
        "7Dxxu5UXerfi"
      ],
      "include_colab_link": true,
      "provenance": []
    },
    "kernelspec": {
      "display_name": "Python 3.9.0 64-bit",
      "language": "python",
      "name": "python3"
    },
    "language_info": {
      "codemirror_mode": {
        "name": "ipython",
        "version": 3
      },
      "file_extension": ".py",
      "mimetype": "text/x-python",
      "name": "python",
      "nbconvert_exporter": "python",
      "pygments_lexer": "ipython3",
      "version": "3.9.0"
    },
    "vscode": {
      "interpreter": {
        "hash": "4a642a9a94d05d387b7a27be99b5a4ff6656c8c24931cc81c2f78dd14cfb5dc8"
      }
    }
  },
  "nbformat": 4,
  "nbformat_minor": 0
}
