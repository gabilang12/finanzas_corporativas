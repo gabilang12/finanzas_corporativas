{
  "cells": [
    {
      "cell_type": "markdown",
      "metadata": {
        "id": "xpal-JZ1XHNI"
      },
      "source": [
        "# **Avance 1**\n",
        "\n",
        "### *Extracción de datos de una acción y gráfica de su histórico*"
      ]
    },
    {
      "cell_type": "markdown",
      "metadata": {
        "id": "A58A8b4Hi7Pm"
      },
      "source": [
        "### **1. Extracción de datos de la acción**"
      ]
    },
    {
      "cell_type": "markdown",
      "metadata": {
        "id": "OlW6G1saczIp"
      },
      "source": [
        "------Opcion 1: realizar la extracción de datos con la libreria **yfinance**"
      ]
    },
    {
      "cell_type": "code",
      "execution_count": null,
      "metadata": {
        "colab": {
          "base_uri": "https://localhost:8080/",
          "height": 523
        },
        "id": "8pVxPzC7XGZ1",
        "outputId": "3c0950d1-dcd9-46b0-88e3-a9d17627baac"
      },
      "outputs": [
        {
          "name": "stdout",
          "output_type": "stream",
          "text": [
            "Looking in indexes: https://pypi.org/simple, https://us-python.pkg.dev/colab-wheels/public/simple/\n",
            "Collecting yfinance\n",
            "  Downloading yfinance-0.1.74-py2.py3-none-any.whl (27 kB)\n",
            "Requirement already satisfied: numpy>=1.15 in /usr/local/lib/python3.7/dist-packages (from yfinance) (1.21.6)\n",
            "Requirement already satisfied: multitasking>=0.0.7 in /usr/local/lib/python3.7/dist-packages (from yfinance) (0.0.11)\n",
            "Requirement already satisfied: lxml>=4.5.1 in /usr/local/lib/python3.7/dist-packages (from yfinance) (4.9.1)\n",
            "Requirement already satisfied: pandas>=0.24.0 in /usr/local/lib/python3.7/dist-packages (from yfinance) (1.3.5)\n",
            "Collecting requests>=2.26\n",
            "  Downloading requests-2.28.1-py3-none-any.whl (62 kB)\n",
            "\u001b[K     |████████████████████████████████| 62 kB 1.9 MB/s \n",
            "\u001b[?25hRequirement already satisfied: python-dateutil>=2.7.3 in /usr/local/lib/python3.7/dist-packages (from pandas>=0.24.0->yfinance) (2.8.2)\n",
            "Requirement already satisfied: pytz>=2017.3 in /usr/local/lib/python3.7/dist-packages (from pandas>=0.24.0->yfinance) (2022.2.1)\n",
            "Requirement already satisfied: six>=1.5 in /usr/local/lib/python3.7/dist-packages (from python-dateutil>=2.7.3->pandas>=0.24.0->yfinance) (1.15.0)\n",
            "Requirement already satisfied: idna<4,>=2.5 in /usr/local/lib/python3.7/dist-packages (from requests>=2.26->yfinance) (2.10)\n",
            "Requirement already satisfied: certifi>=2017.4.17 in /usr/local/lib/python3.7/dist-packages (from requests>=2.26->yfinance) (2022.6.15)\n",
            "Requirement already satisfied: urllib3<1.27,>=1.21.1 in /usr/local/lib/python3.7/dist-packages (from requests>=2.26->yfinance) (1.24.3)\n",
            "Requirement already satisfied: charset-normalizer<3,>=2 in /usr/local/lib/python3.7/dist-packages (from requests>=2.26->yfinance) (2.1.1)\n",
            "Installing collected packages: requests, yfinance\n",
            "  Attempting uninstall: requests\n",
            "    Found existing installation: requests 2.23.0\n",
            "    Uninstalling requests-2.23.0:\n",
            "      Successfully uninstalled requests-2.23.0\n",
            "Successfully installed requests-2.28.1 yfinance-0.1.74\n"
          ]
        },
        {
          "data": {
            "application/vnd.colab-display-data+json": {
              "pip_warning": {
                "packages": [
                  "requests"
                ]
              }
            }
          },
          "metadata": {},
          "output_type": "display_data"
        }
      ],
      "source": [
        "!pip install yfinance"
      ]
    },
    {
      "cell_type": "code",
      "execution_count": null,
      "metadata": {
        "id": "mDLOs-YgYwzp"
      },
      "outputs": [],
      "source": [
        "import pandas as pd\n",
        "import yfinance as yf"
      ]
    },
    {
      "cell_type": "code",
      "execution_count": null,
      "metadata": {
        "id": "MmHltjm3X71q"
      },
      "outputs": [],
      "source": [
        "indice_accion = yf.Ticker(\"MSFT\")"
      ]
    },
    {
      "cell_type": "code",
      "execution_count": null,
      "metadata": {
        "id": "GDjH7GBvYHq4"
      },
      "outputs": [],
      "source": [
        "#conseguir el histórico de los datos de la acción\n",
        "from datetime import datetime\n",
        "\n",
        "inicio = datetime(2021, 1, 1)\n",
        "fin = datetime(2022, 9, 1)\n",
        "hist = indice_accion.history(start = inicio, end = fin)"
      ]
    },
    {
      "cell_type": "code",
      "execution_count": null,
      "metadata": {
        "colab": {
          "base_uri": "https://localhost:8080/",
          "height": 70
        },
        "id": "xepb_5qGZGrb",
        "outputId": "8caf6293-22c2-4fc2-afc4-33d919bdd7ad"
      },
      "outputs": [
        {
          "data": {
            "application/vnd.google.colaboratory.intrinsic+json": {
              "type": "string"
            },
            "text/plain": [
              "'\\nesta casilla de codigo solo se debe correr 1 vez, ya que si se vuelve a ejecutar saldra un error, \\ny esto es porque las columnas ya no van a existir. Para volverlo a correr hay que ejecutar todo el codigo de nuevo, \\no por lo menos la parte donde se crea el dataframde de el historial de la acción\\n'"
            ]
          },
          "execution_count": 12,
          "metadata": {},
          "output_type": "execute_result"
        }
      ],
      "source": [
        "#eliminamos las columnas de dividends y stock splits ya que no se requieren en estos momentos\n",
        "del hist['Dividends']\n",
        "del hist['Stock Splits']\n",
        "\n",
        "'''\n",
        "esta casilla de codigo solo se debe correr 1 vez, ya que si se vuelve a ejecutar saldra un error, \n",
        "y esto es porque las columnas ya no van a existir. Para volverlo a correr hay que ejecutar todo el codigo de nuevo, \n",
        "o por lo menos la parte donde se crea el dataframde de el historial de la acción\n",
        "'''"
      ]
    },
    {
      "cell_type": "code",
      "execution_count": null,
      "metadata": {
        "colab": {
          "base_uri": "https://localhost:8080/",
          "height": 455
        },
        "id": "-gSkY0u2diH5",
        "outputId": "12df5e92-403f-40f5-cc77-603021621e38"
      },
      "outputs": [
        {
          "data": {
            "text/html": [
              "\n",
              "  <div id=\"df-2049b64f-45ec-405c-82e8-fc83878f98f7\">\n",
              "    <div class=\"colab-df-container\">\n",
              "      <div>\n",
              "<style scoped>\n",
              "    .dataframe tbody tr th:only-of-type {\n",
              "        vertical-align: middle;\n",
              "    }\n",
              "\n",
              "    .dataframe tbody tr th {\n",
              "        vertical-align: top;\n",
              "    }\n",
              "\n",
              "    .dataframe thead th {\n",
              "        text-align: right;\n",
              "    }\n",
              "</style>\n",
              "<table border=\"1\" class=\"dataframe\">\n",
              "  <thead>\n",
              "    <tr style=\"text-align: right;\">\n",
              "      <th></th>\n",
              "      <th>Open</th>\n",
              "      <th>High</th>\n",
              "      <th>Low</th>\n",
              "      <th>Close</th>\n",
              "      <th>Volume</th>\n",
              "    </tr>\n",
              "    <tr>\n",
              "      <th>Date</th>\n",
              "      <th></th>\n",
              "      <th></th>\n",
              "      <th></th>\n",
              "      <th></th>\n",
              "      <th></th>\n",
              "    </tr>\n",
              "  </thead>\n",
              "  <tbody>\n",
              "    <tr>\n",
              "      <th>2021-01-04</th>\n",
              "      <td>219.247718</td>\n",
              "      <td>219.710787</td>\n",
              "      <td>211.641585</td>\n",
              "      <td>214.479111</td>\n",
              "      <td>37130100</td>\n",
              "    </tr>\n",
              "    <tr>\n",
              "      <th>2021-01-05</th>\n",
              "      <td>214.055445</td>\n",
              "      <td>215.296870</td>\n",
              "      <td>212.518457</td>\n",
              "      <td>214.686005</td>\n",
              "      <td>23823000</td>\n",
              "    </tr>\n",
              "    <tr>\n",
              "      <th>2021-01-06</th>\n",
              "      <td>209.040517</td>\n",
              "      <td>213.296805</td>\n",
              "      <td>208.813914</td>\n",
              "      <td>209.119339</td>\n",
              "      <td>35930700</td>\n",
              "    </tr>\n",
              "    <tr>\n",
              "      <th>2021-01-07</th>\n",
              "      <td>210.882923</td>\n",
              "      <td>216.104752</td>\n",
              "      <td>210.557804</td>\n",
              "      <td>215.070236</td>\n",
              "      <td>27694500</td>\n",
              "    </tr>\n",
              "    <tr>\n",
              "      <th>2021-01-08</th>\n",
              "      <td>215.454493</td>\n",
              "      <td>217.326477</td>\n",
              "      <td>213.828836</td>\n",
              "      <td>216.380630</td>\n",
              "      <td>22956200</td>\n",
              "    </tr>\n",
              "    <tr>\n",
              "      <th>...</th>\n",
              "      <td>...</td>\n",
              "      <td>...</td>\n",
              "      <td>...</td>\n",
              "      <td>...</td>\n",
              "      <td>...</td>\n",
              "    </tr>\n",
              "    <tr>\n",
              "      <th>2022-08-25</th>\n",
              "      <td>277.329987</td>\n",
              "      <td>279.019989</td>\n",
              "      <td>274.519989</td>\n",
              "      <td>278.850006</td>\n",
              "      <td>16583400</td>\n",
              "    </tr>\n",
              "    <tr>\n",
              "      <th>2022-08-26</th>\n",
              "      <td>279.079987</td>\n",
              "      <td>280.339996</td>\n",
              "      <td>267.980011</td>\n",
              "      <td>268.089996</td>\n",
              "      <td>27549300</td>\n",
              "    </tr>\n",
              "    <tr>\n",
              "      <th>2022-08-29</th>\n",
              "      <td>265.850006</td>\n",
              "      <td>267.399994</td>\n",
              "      <td>263.850006</td>\n",
              "      <td>265.230011</td>\n",
              "      <td>20338500</td>\n",
              "    </tr>\n",
              "    <tr>\n",
              "      <th>2022-08-30</th>\n",
              "      <td>266.670013</td>\n",
              "      <td>267.049988</td>\n",
              "      <td>260.660004</td>\n",
              "      <td>262.970001</td>\n",
              "      <td>22767100</td>\n",
              "    </tr>\n",
              "    <tr>\n",
              "      <th>2022-08-31</th>\n",
              "      <td>265.390015</td>\n",
              "      <td>267.109985</td>\n",
              "      <td>261.329987</td>\n",
              "      <td>261.470001</td>\n",
              "      <td>24791800</td>\n",
              "    </tr>\n",
              "  </tbody>\n",
              "</table>\n",
              "<p>419 rows × 5 columns</p>\n",
              "</div>\n",
              "      <button class=\"colab-df-convert\" onclick=\"convertToInteractive('df-2049b64f-45ec-405c-82e8-fc83878f98f7')\"\n",
              "              title=\"Convert this dataframe to an interactive table.\"\n",
              "              style=\"display:none;\">\n",
              "        \n",
              "  <svg xmlns=\"http://www.w3.org/2000/svg\" height=\"24px\"viewBox=\"0 0 24 24\"\n",
              "       width=\"24px\">\n",
              "    <path d=\"M0 0h24v24H0V0z\" fill=\"none\"/>\n",
              "    <path d=\"M18.56 5.44l.94 2.06.94-2.06 2.06-.94-2.06-.94-.94-2.06-.94 2.06-2.06.94zm-11 1L8.5 8.5l.94-2.06 2.06-.94-2.06-.94L8.5 2.5l-.94 2.06-2.06.94zm10 10l.94 2.06.94-2.06 2.06-.94-2.06-.94-.94-2.06-.94 2.06-2.06.94z\"/><path d=\"M17.41 7.96l-1.37-1.37c-.4-.4-.92-.59-1.43-.59-.52 0-1.04.2-1.43.59L10.3 9.45l-7.72 7.72c-.78.78-.78 2.05 0 2.83L4 21.41c.39.39.9.59 1.41.59.51 0 1.02-.2 1.41-.59l7.78-7.78 2.81-2.81c.8-.78.8-2.07 0-2.86zM5.41 20L4 18.59l7.72-7.72 1.47 1.35L5.41 20z\"/>\n",
              "  </svg>\n",
              "      </button>\n",
              "      \n",
              "  <style>\n",
              "    .colab-df-container {\n",
              "      display:flex;\n",
              "      flex-wrap:wrap;\n",
              "      gap: 12px;\n",
              "    }\n",
              "\n",
              "    .colab-df-convert {\n",
              "      background-color: #E8F0FE;\n",
              "      border: none;\n",
              "      border-radius: 50%;\n",
              "      cursor: pointer;\n",
              "      display: none;\n",
              "      fill: #1967D2;\n",
              "      height: 32px;\n",
              "      padding: 0 0 0 0;\n",
              "      width: 32px;\n",
              "    }\n",
              "\n",
              "    .colab-df-convert:hover {\n",
              "      background-color: #E2EBFA;\n",
              "      box-shadow: 0px 1px 2px rgba(60, 64, 67, 0.3), 0px 1px 3px 1px rgba(60, 64, 67, 0.15);\n",
              "      fill: #174EA6;\n",
              "    }\n",
              "\n",
              "    [theme=dark] .colab-df-convert {\n",
              "      background-color: #3B4455;\n",
              "      fill: #D2E3FC;\n",
              "    }\n",
              "\n",
              "    [theme=dark] .colab-df-convert:hover {\n",
              "      background-color: #434B5C;\n",
              "      box-shadow: 0px 1px 3px 1px rgba(0, 0, 0, 0.15);\n",
              "      filter: drop-shadow(0px 1px 2px rgba(0, 0, 0, 0.3));\n",
              "      fill: #FFFFFF;\n",
              "    }\n",
              "  </style>\n",
              "\n",
              "      <script>\n",
              "        const buttonEl =\n",
              "          document.querySelector('#df-2049b64f-45ec-405c-82e8-fc83878f98f7 button.colab-df-convert');\n",
              "        buttonEl.style.display =\n",
              "          google.colab.kernel.accessAllowed ? 'block' : 'none';\n",
              "\n",
              "        async function convertToInteractive(key) {\n",
              "          const element = document.querySelector('#df-2049b64f-45ec-405c-82e8-fc83878f98f7');\n",
              "          const dataTable =\n",
              "            await google.colab.kernel.invokeFunction('convertToInteractive',\n",
              "                                                     [key], {});\n",
              "          if (!dataTable) return;\n",
              "\n",
              "          const docLinkHtml = 'Like what you see? Visit the ' +\n",
              "            '<a target=\"_blank\" href=https://colab.research.google.com/notebooks/data_table.ipynb>data table notebook</a>'\n",
              "            + ' to learn more about interactive tables.';\n",
              "          element.innerHTML = '';\n",
              "          dataTable['output_type'] = 'display_data';\n",
              "          await google.colab.output.renderOutput(dataTable, element);\n",
              "          const docLink = document.createElement('div');\n",
              "          docLink.innerHTML = docLinkHtml;\n",
              "          element.appendChild(docLink);\n",
              "        }\n",
              "      </script>\n",
              "    </div>\n",
              "  </div>\n",
              "  "
            ],
            "text/plain": [
              "                  Open        High         Low       Close    Volume\n",
              "Date                                                                \n",
              "2021-01-04  219.247718  219.710787  211.641585  214.479111  37130100\n",
              "2021-01-05  214.055445  215.296870  212.518457  214.686005  23823000\n",
              "2021-01-06  209.040517  213.296805  208.813914  209.119339  35930700\n",
              "2021-01-07  210.882923  216.104752  210.557804  215.070236  27694500\n",
              "2021-01-08  215.454493  217.326477  213.828836  216.380630  22956200\n",
              "...                ...         ...         ...         ...       ...\n",
              "2022-08-25  277.329987  279.019989  274.519989  278.850006  16583400\n",
              "2022-08-26  279.079987  280.339996  267.980011  268.089996  27549300\n",
              "2022-08-29  265.850006  267.399994  263.850006  265.230011  20338500\n",
              "2022-08-30  266.670013  267.049988  260.660004  262.970001  22767100\n",
              "2022-08-31  265.390015  267.109985  261.329987  261.470001  24791800\n",
              "\n",
              "[419 rows x 5 columns]"
            ]
          },
          "execution_count": 13,
          "metadata": {},
          "output_type": "execute_result"
        }
      ],
      "source": [
        "hist\n",
        "#la columna 'close' es el precio final de la accion ese dia"
      ]
    },
    {
      "cell_type": "markdown",
      "metadata": {
        "id": "aY8f_ll1dxef"
      },
      "source": [
        "------Opcion 2: realizar la extracción de datos con la libreria **pandas_datareader**"
      ]
    },
    {
      "cell_type": "code",
      "execution_count": null,
      "metadata": {
        "colab": {
          "base_uri": "https://localhost:8080/",
          "height": 506
        },
        "id": "LBXaTRTYVt38",
        "outputId": "6715aafa-d536-4ca3-ab78-19baff89fba2"
      },
      "outputs": [
        {
          "name": "stdout",
          "output_type": "stream",
          "text": [
            "Looking in indexes: https://pypi.org/simple, https://us-python.pkg.dev/colab-wheels/public/simple/\n",
            "Requirement already satisfied: pandas-datareader in /usr/local/lib/python3.7/dist-packages (0.9.0)\n",
            "Collecting pandas-datareader\n",
            "  Downloading pandas_datareader-0.10.0-py3-none-any.whl (109 kB)\n",
            "\u001b[?25l\r\u001b[K     |███                             | 10 kB 18.5 MB/s eta 0:00:01\r\u001b[K     |██████                          | 20 kB 9.9 MB/s eta 0:00:01\r\u001b[K     |█████████                       | 30 kB 14.0 MB/s eta 0:00:01\r\u001b[K     |████████████                    | 40 kB 7.4 MB/s eta 0:00:01\r\u001b[K     |███████████████                 | 51 kB 8.1 MB/s eta 0:00:01\r\u001b[K     |██████████████████              | 61 kB 9.5 MB/s eta 0:00:01\r\u001b[K     |█████████████████████           | 71 kB 8.7 MB/s eta 0:00:01\r\u001b[K     |████████████████████████        | 81 kB 9.8 MB/s eta 0:00:01\r\u001b[K     |███████████████████████████     | 92 kB 7.6 MB/s eta 0:00:01\r\u001b[K     |██████████████████████████████  | 102 kB 8.2 MB/s eta 0:00:01\r\u001b[K     |████████████████████████████████| 109 kB 8.2 MB/s \n",
            "\u001b[?25hRequirement already satisfied: pandas>=0.23 in /usr/local/lib/python3.7/dist-packages (from pandas-datareader) (1.3.5)\n",
            "Requirement already satisfied: lxml in /usr/local/lib/python3.7/dist-packages (from pandas-datareader) (4.9.1)\n",
            "Requirement already satisfied: requests>=2.19.0 in /usr/local/lib/python3.7/dist-packages (from pandas-datareader) (2.28.1)\n",
            "Requirement already satisfied: pytz>=2017.3 in /usr/local/lib/python3.7/dist-packages (from pandas>=0.23->pandas-datareader) (2022.2.1)\n",
            "Requirement already satisfied: python-dateutil>=2.7.3 in /usr/local/lib/python3.7/dist-packages (from pandas>=0.23->pandas-datareader) (2.8.2)\n",
            "Requirement already satisfied: numpy>=1.17.3 in /usr/local/lib/python3.7/dist-packages (from pandas>=0.23->pandas-datareader) (1.21.6)\n",
            "Requirement already satisfied: six>=1.5 in /usr/local/lib/python3.7/dist-packages (from python-dateutil>=2.7.3->pandas>=0.23->pandas-datareader) (1.15.0)\n",
            "Requirement already satisfied: idna<4,>=2.5 in /usr/local/lib/python3.7/dist-packages (from requests>=2.19.0->pandas-datareader) (2.10)\n",
            "Requirement already satisfied: charset-normalizer<3,>=2 in /usr/local/lib/python3.7/dist-packages (from requests>=2.19.0->pandas-datareader) (2.1.1)\n",
            "Requirement already satisfied: urllib3<1.27,>=1.21.1 in /usr/local/lib/python3.7/dist-packages (from requests>=2.19.0->pandas-datareader) (1.24.3)\n",
            "Requirement already satisfied: certifi>=2017.4.17 in /usr/local/lib/python3.7/dist-packages (from requests>=2.19.0->pandas-datareader) (2022.6.15)\n",
            "Installing collected packages: pandas-datareader\n",
            "  Attempting uninstall: pandas-datareader\n",
            "    Found existing installation: pandas-datareader 0.9.0\n",
            "    Uninstalling pandas-datareader-0.9.0:\n",
            "      Successfully uninstalled pandas-datareader-0.9.0\n",
            "Successfully installed pandas-datareader-0.10.0\n"
          ]
        },
        {
          "data": {
            "application/vnd.colab-display-data+json": {
              "pip_warning": {
                "packages": [
                  "pandas_datareader"
                ]
              }
            }
          },
          "metadata": {},
          "output_type": "display_data"
        }
      ],
      "source": [
        "pip install --upgrade pandas-datareader"
      ]
    },
    {
      "cell_type": "code",
      "execution_count": null,
      "metadata": {
        "id": "nuYvxvqZVE8L"
      },
      "outputs": [],
      "source": [
        "from pandas_datareader import data as  pdr\n",
        "from datetime import datetime"
      ]
    },
    {
      "cell_type": "code",
      "execution_count": null,
      "metadata": {
        "id": "ficqZH6XV011"
      },
      "outputs": [],
      "source": [
        "start = datetime(2021, 1, 1)\n",
        "end = datetime(2022, 9, 1)"
      ]
    },
    {
      "cell_type": "code",
      "execution_count": null,
      "metadata": {
        "id": "EEMalTXyV3jj"
      },
      "outputs": [],
      "source": [
        "index = 'FDX'\n",
        "df = pdr.get_data_yahoo(index, start = start, end = end)"
      ]
    },
    {
      "cell_type": "code",
      "execution_count": null,
      "metadata": {
        "colab": {
          "base_uri": "https://localhost:8080/",
          "height": 455
        },
        "id": "Px-cDolcV6vm",
        "outputId": "042db1fc-5007-4381-bf0c-4a1bd896f264"
      },
      "outputs": [
        {
          "data": {
            "text/html": [
              "\n",
              "  <div id=\"df-f7c45a1e-90cc-4481-9cde-3a4c1d67b512\">\n",
              "    <div class=\"colab-df-container\">\n",
              "      <div>\n",
              "<style scoped>\n",
              "    .dataframe tbody tr th:only-of-type {\n",
              "        vertical-align: middle;\n",
              "    }\n",
              "\n",
              "    .dataframe tbody tr th {\n",
              "        vertical-align: top;\n",
              "    }\n",
              "\n",
              "    .dataframe thead th {\n",
              "        text-align: right;\n",
              "    }\n",
              "</style>\n",
              "<table border=\"1\" class=\"dataframe\">\n",
              "  <thead>\n",
              "    <tr style=\"text-align: right;\">\n",
              "      <th></th>\n",
              "      <th>High</th>\n",
              "      <th>Low</th>\n",
              "      <th>Open</th>\n",
              "      <th>Close</th>\n",
              "      <th>Volume</th>\n",
              "      <th>Adj Close</th>\n",
              "    </tr>\n",
              "    <tr>\n",
              "      <th>Date</th>\n",
              "      <th></th>\n",
              "      <th></th>\n",
              "      <th></th>\n",
              "      <th></th>\n",
              "      <th></th>\n",
              "      <th></th>\n",
              "    </tr>\n",
              "  </thead>\n",
              "  <tbody>\n",
              "    <tr>\n",
              "      <th>2021-01-04</th>\n",
              "      <td>260.500000</td>\n",
              "      <td>250.899994</td>\n",
              "      <td>260.399994</td>\n",
              "      <td>253.190002</td>\n",
              "      <td>3797100.0</td>\n",
              "      <td>246.968750</td>\n",
              "    </tr>\n",
              "    <tr>\n",
              "      <th>2021-01-05</th>\n",
              "      <td>254.770004</td>\n",
              "      <td>250.050003</td>\n",
              "      <td>251.500000</td>\n",
              "      <td>253.179993</td>\n",
              "      <td>3271100.0</td>\n",
              "      <td>246.958969</td>\n",
              "    </tr>\n",
              "    <tr>\n",
              "      <th>2021-01-06</th>\n",
              "      <td>258.980011</td>\n",
              "      <td>250.380005</td>\n",
              "      <td>250.460007</td>\n",
              "      <td>253.559998</td>\n",
              "      <td>3605300.0</td>\n",
              "      <td>247.329651</td>\n",
              "    </tr>\n",
              "    <tr>\n",
              "      <th>2021-01-07</th>\n",
              "      <td>256.209991</td>\n",
              "      <td>245.449997</td>\n",
              "      <td>254.089996</td>\n",
              "      <td>246.029999</td>\n",
              "      <td>5657300.0</td>\n",
              "      <td>239.984680</td>\n",
              "    </tr>\n",
              "    <tr>\n",
              "      <th>2021-01-08</th>\n",
              "      <td>247.360001</td>\n",
              "      <td>242.419998</td>\n",
              "      <td>246.520004</td>\n",
              "      <td>244.960007</td>\n",
              "      <td>4583900.0</td>\n",
              "      <td>238.940979</td>\n",
              "    </tr>\n",
              "    <tr>\n",
              "      <th>...</th>\n",
              "      <td>...</td>\n",
              "      <td>...</td>\n",
              "      <td>...</td>\n",
              "      <td>...</td>\n",
              "      <td>...</td>\n",
              "      <td>...</td>\n",
              "    </tr>\n",
              "    <tr>\n",
              "      <th>2022-08-26</th>\n",
              "      <td>229.399994</td>\n",
              "      <td>218.020004</td>\n",
              "      <td>228.380005</td>\n",
              "      <td>218.160004</td>\n",
              "      <td>1547900.0</td>\n",
              "      <td>216.969910</td>\n",
              "    </tr>\n",
              "    <tr>\n",
              "      <th>2022-08-29</th>\n",
              "      <td>218.440002</td>\n",
              "      <td>214.740005</td>\n",
              "      <td>216.199997</td>\n",
              "      <td>216.729996</td>\n",
              "      <td>1213000.0</td>\n",
              "      <td>215.547699</td>\n",
              "    </tr>\n",
              "    <tr>\n",
              "      <th>2022-08-30</th>\n",
              "      <td>218.990005</td>\n",
              "      <td>212.610001</td>\n",
              "      <td>218.339996</td>\n",
              "      <td>213.479996</td>\n",
              "      <td>1420400.0</td>\n",
              "      <td>212.315430</td>\n",
              "    </tr>\n",
              "    <tr>\n",
              "      <th>2022-08-31</th>\n",
              "      <td>214.990005</td>\n",
              "      <td>210.419998</td>\n",
              "      <td>214.429993</td>\n",
              "      <td>210.809998</td>\n",
              "      <td>1718200.0</td>\n",
              "      <td>209.660004</td>\n",
              "    </tr>\n",
              "    <tr>\n",
              "      <th>2022-09-01</th>\n",
              "      <td>212.100006</td>\n",
              "      <td>206.970001</td>\n",
              "      <td>209.449997</td>\n",
              "      <td>211.860001</td>\n",
              "      <td>1582400.0</td>\n",
              "      <td>211.860001</td>\n",
              "    </tr>\n",
              "  </tbody>\n",
              "</table>\n",
              "<p>420 rows × 6 columns</p>\n",
              "</div>\n",
              "      <button class=\"colab-df-convert\" onclick=\"convertToInteractive('df-f7c45a1e-90cc-4481-9cde-3a4c1d67b512')\"\n",
              "              title=\"Convert this dataframe to an interactive table.\"\n",
              "              style=\"display:none;\">\n",
              "        \n",
              "  <svg xmlns=\"http://www.w3.org/2000/svg\" height=\"24px\"viewBox=\"0 0 24 24\"\n",
              "       width=\"24px\">\n",
              "    <path d=\"M0 0h24v24H0V0z\" fill=\"none\"/>\n",
              "    <path d=\"M18.56 5.44l.94 2.06.94-2.06 2.06-.94-2.06-.94-.94-2.06-.94 2.06-2.06.94zm-11 1L8.5 8.5l.94-2.06 2.06-.94-2.06-.94L8.5 2.5l-.94 2.06-2.06.94zm10 10l.94 2.06.94-2.06 2.06-.94-2.06-.94-.94-2.06-.94 2.06-2.06.94z\"/><path d=\"M17.41 7.96l-1.37-1.37c-.4-.4-.92-.59-1.43-.59-.52 0-1.04.2-1.43.59L10.3 9.45l-7.72 7.72c-.78.78-.78 2.05 0 2.83L4 21.41c.39.39.9.59 1.41.59.51 0 1.02-.2 1.41-.59l7.78-7.78 2.81-2.81c.8-.78.8-2.07 0-2.86zM5.41 20L4 18.59l7.72-7.72 1.47 1.35L5.41 20z\"/>\n",
              "  </svg>\n",
              "      </button>\n",
              "      \n",
              "  <style>\n",
              "    .colab-df-container {\n",
              "      display:flex;\n",
              "      flex-wrap:wrap;\n",
              "      gap: 12px;\n",
              "    }\n",
              "\n",
              "    .colab-df-convert {\n",
              "      background-color: #E8F0FE;\n",
              "      border: none;\n",
              "      border-radius: 50%;\n",
              "      cursor: pointer;\n",
              "      display: none;\n",
              "      fill: #1967D2;\n",
              "      height: 32px;\n",
              "      padding: 0 0 0 0;\n",
              "      width: 32px;\n",
              "    }\n",
              "\n",
              "    .colab-df-convert:hover {\n",
              "      background-color: #E2EBFA;\n",
              "      box-shadow: 0px 1px 2px rgba(60, 64, 67, 0.3), 0px 1px 3px 1px rgba(60, 64, 67, 0.15);\n",
              "      fill: #174EA6;\n",
              "    }\n",
              "\n",
              "    [theme=dark] .colab-df-convert {\n",
              "      background-color: #3B4455;\n",
              "      fill: #D2E3FC;\n",
              "    }\n",
              "\n",
              "    [theme=dark] .colab-df-convert:hover {\n",
              "      background-color: #434B5C;\n",
              "      box-shadow: 0px 1px 3px 1px rgba(0, 0, 0, 0.15);\n",
              "      filter: drop-shadow(0px 1px 2px rgba(0, 0, 0, 0.3));\n",
              "      fill: #FFFFFF;\n",
              "    }\n",
              "  </style>\n",
              "\n",
              "      <script>\n",
              "        const buttonEl =\n",
              "          document.querySelector('#df-f7c45a1e-90cc-4481-9cde-3a4c1d67b512 button.colab-df-convert');\n",
              "        buttonEl.style.display =\n",
              "          google.colab.kernel.accessAllowed ? 'block' : 'none';\n",
              "\n",
              "        async function convertToInteractive(key) {\n",
              "          const element = document.querySelector('#df-f7c45a1e-90cc-4481-9cde-3a4c1d67b512');\n",
              "          const dataTable =\n",
              "            await google.colab.kernel.invokeFunction('convertToInteractive',\n",
              "                                                     [key], {});\n",
              "          if (!dataTable) return;\n",
              "\n",
              "          const docLinkHtml = 'Like what you see? Visit the ' +\n",
              "            '<a target=\"_blank\" href=https://colab.research.google.com/notebooks/data_table.ipynb>data table notebook</a>'\n",
              "            + ' to learn more about interactive tables.';\n",
              "          element.innerHTML = '';\n",
              "          dataTable['output_type'] = 'display_data';\n",
              "          await google.colab.output.renderOutput(dataTable, element);\n",
              "          const docLink = document.createElement('div');\n",
              "          docLink.innerHTML = docLinkHtml;\n",
              "          element.appendChild(docLink);\n",
              "        }\n",
              "      </script>\n",
              "    </div>\n",
              "  </div>\n",
              "  "
            ],
            "text/plain": [
              "                  High         Low        Open       Close     Volume  \\\n",
              "Date                                                                    \n",
              "2021-01-04  260.500000  250.899994  260.399994  253.190002  3797100.0   \n",
              "2021-01-05  254.770004  250.050003  251.500000  253.179993  3271100.0   \n",
              "2021-01-06  258.980011  250.380005  250.460007  253.559998  3605300.0   \n",
              "2021-01-07  256.209991  245.449997  254.089996  246.029999  5657300.0   \n",
              "2021-01-08  247.360001  242.419998  246.520004  244.960007  4583900.0   \n",
              "...                ...         ...         ...         ...        ...   \n",
              "2022-08-26  229.399994  218.020004  228.380005  218.160004  1547900.0   \n",
              "2022-08-29  218.440002  214.740005  216.199997  216.729996  1213000.0   \n",
              "2022-08-30  218.990005  212.610001  218.339996  213.479996  1420400.0   \n",
              "2022-08-31  214.990005  210.419998  214.429993  210.809998  1718200.0   \n",
              "2022-09-01  212.100006  206.970001  209.449997  211.860001  1582400.0   \n",
              "\n",
              "             Adj Close  \n",
              "Date                    \n",
              "2021-01-04  246.968750  \n",
              "2021-01-05  246.958969  \n",
              "2021-01-06  247.329651  \n",
              "2021-01-07  239.984680  \n",
              "2021-01-08  238.940979  \n",
              "...                ...  \n",
              "2022-08-26  216.969910  \n",
              "2022-08-29  215.547699  \n",
              "2022-08-30  212.315430  \n",
              "2022-08-31  209.660004  \n",
              "2022-09-01  211.860001  \n",
              "\n",
              "[420 rows x 6 columns]"
            ]
          },
          "execution_count": 17,
          "metadata": {},
          "output_type": "execute_result"
        }
      ],
      "source": [
        "df\n",
        "#la columna 'adj close' es el precio final de la accion ese dia"
      ]
    },
    {
      "cell_type": "markdown",
      "metadata": {
        "id": "7Dxxu5UXerfi"
      },
      "source": [
        "### **2. Graficar el histórico de datos**"
      ]
    },
    {
      "cell_type": "code",
      "execution_count": null,
      "metadata": {
        "id": "AV5JczS4evAn"
      },
      "outputs": [],
      "source": [
        "import plotly.graph_objects as go"
      ]
    },
    {
      "cell_type": "markdown",
      "metadata": {
        "id": "wXHljBmgftai"
      },
      "source": [
        "------Con la opcion 1 de extracción de datos"
      ]
    },
    {
      "cell_type": "code",
      "execution_count": null,
      "metadata": {
        "id": "ow30n8owfw4Q"
      },
      "outputs": [],
      "source": [
        "graph = {\n",
        "    'x': hist.index,\n",
        "    'open': hist.Open,\n",
        "    'close': hist.Close,\n",
        "    'high': hist.High,\n",
        "    'low': hist.Low,\n",
        "    'type': 'candlestick',\n",
        "    'name': 'MSFT',\n",
        "    'showlegend': True\n",
        "}"
      ]
    },
    {
      "cell_type": "code",
      "execution_count": null,
      "metadata": {
        "id": "s-Ywxhckfzit"
      },
      "outputs": [],
      "source": [
        "layout = go.Figure(\n",
        "    data = [graph],\n",
        "    layout_title= \"Microsoft Stock\"\n",
        ")"
      ]
    },
    {
      "cell_type": "code",
      "execution_count": null,
      "metadata": {
        "colab": {
          "base_uri": "https://localhost:8080/",
          "height": 542
        },
        "id": "ao45ZDsYf1T_",
        "outputId": "7363b63d-b7cc-4107-b5d1-0b294f00848f"
      },
      "outputs": [
        {
          "data": {
            "text/html": [
              "<html>\n",
              "<head><meta charset=\"utf-8\" /></head>\n",
              "<body>\n",
              "    <div>            <script src=\"https://cdnjs.cloudflare.com/ajax/libs/mathjax/2.7.5/MathJax.js?config=TeX-AMS-MML_SVG\"></script><script type=\"text/javascript\">if (window.MathJax) {MathJax.Hub.Config({SVG: {font: \"STIX-Web\"}});}</script>                <script type=\"text/javascript\">window.PlotlyConfig = {MathJaxConfig: 'local'};</script>\n",
              "        <script src=\"https://cdn.plot.ly/plotly-2.8.3.min.js\"></script>                <div id=\"fea2f0ff-c557-421e-945f-841897f3278a\" class=\"plotly-graph-div\" style=\"height:525px; width:100%;\"></div>            <script type=\"text/javascript\">                                    window.PLOTLYENV=window.PLOTLYENV || {};                                    if (document.getElementById(\"fea2f0ff-c557-421e-945f-841897f3278a\")) {                    Plotly.newPlot(                        \"fea2f0ff-c557-421e-945f-841897f3278a\",                        [{\"close\":[214.47911071777344,214.68600463867188,209.1193389892578,215.0702362060547,216.38063049316406,214.2820587158203,211.7598114013672,213.14901733398438,209.87799072265625,209.51344299316406,213.24752807617188,221.031005859375,221.65171813964844,222.61724853515625,226.14447021484375,228.9031524658203,229.46473693847656,235.4058074951172,228.53863525390625,236.11520385742188,235.97726440429688,239.41580200195312,238.4403839111328,238.6276092529297,238.8936004638672,240.1744384765625,239.2384490966797,240.88381958007812,241.37643432617188,240.10546875,241.15223693847656,240.74732971191406,237.9625244140625,231.5831756591797,230.35862731933594,231.6226806640625,226.13206481933594,229.47975158691406,233.98284912109375,230.95115661621094,224.71990966796875,223.90023803710938,228.70948791503906,224.5520477294922,230.86228942871094,229.5192413330078,234.1704864501953,232.80767822265625,231.87940979003906,234.74322509765625,234.08157348632812,227.84046936035156,227.47509765625,233.04469299316406,234.61483764648438,232.5213165283203,229.44024658203125,233.52857971191406,232.30404663085938,228.9563751220703,232.8274383544922,239.32533264160156,245.96145629882812,244.7665557861328,246.7810821533203,250.0892791748047,252.65682983398438,252.71607971191406,255.2638702392578,252.40005493164062,256.2612609863281,257.48577880859375,255.51077270507812,255.03675842285156,257.3277893066406,253.96035766601562,257.89068603515625,258.2856750488281,258.700439453125,251.3829345703125,249.35850524902344,249.0326385498047,248.7166290283203,244.69741821289062,243.39390563964844,246.6132049560547,249.30914306640625,244.09503173828125,243.15687561035156,236.0171356201172,239.996826171875,245.05291748046875,242.12001037597656,240.0462188720703,240.64007568359375,243.96580505371094,242.66915893554688,248.22193908691406,249.15235900878906,248.92471313476562,246.76695251464844,247.13316345214844,244.87643432617188,244.77745056152344,243.20367431640625,248.23184204101562,251.22105407714844,249.9936981201172,251.00328063964844,254.61605834960938,255.25946044921875,257.239013671875,255.7246551513672,254.75462341308594,258.2386779785156,256.7837219238281,259.95111083984375,262.80169677734375,262.56414794921875,263.96966552734375,262.31671142578125,265.9789733886719,268.6316223144531,268.13671875,268.8295593261719,274.81787109375,274.8277282714844,277.0746154785156,274.5902404785156,275.10491943359375,274.49127197265625,278.1138610839844,279.6283264160156,278.16339111328125,277.8862609863281,274.1844177246094,276.4708557128906,278.5295715332031,283.2212829589844,286.7153015136719,286.1015319824219,283.6172180175781,283.3004455566406,283.57757568359375,282.0038146972656,281.91473388671875,284.1913146972656,283.5875244140625,286.5667724609375,286.5074157714844,285.3888854980469,283.5182189941406,284.02301025390625,286.85382080078125,289.8628234863281,291.594970703125,290.0904541015625,288.3153381347656,294.30517578125,301.83209228515625,302.1197204589844,300.1065673828125,299.5016784667969,296.60589599609375,297.2306823730469,301.0685119628906,299.3727722167969,299.3231506347656,298.6488037109375,298.638916015625,297.6868591308594,297.7165832519531,294.7812194824219,293.2539978027344,294.5233154296875,297.3000793457031,302.2882995605469,302.6850280761719,297.3794250488281,291.85565185546875,292.3515319824219,296.10015869140625,297.072021484375,296.86376953125,291.7267761230469,281.1652526855469,281.6412353515625,279.5785217285156,286.69891357421875,280.75860595703125,286.3617248535156,290.6755676269531,292.4010925292969,292.4010925292969,291.7862854003906,290.447509765625,293.8489685058594,300.23553466796875,301.683349609375,304.7378234863281,305.6700134277344,304.8567810058594,308.1789855957031,306.59228515625,305.5708312988281,307.53436279296875,320.48590087890625,321.6560974121094,328.8657531738281,326.6343994140625,330.36322021484375,331.2259521484375,333.6457214355469,333.26885986328125,334.1911315917969,333.1598205566406,328.05255126953125,329.66900634765625,333.9233703613281,333.2787780761719,336.69024658203125,336.9187316894531,339.05474853515625,340.8827819824219,337.6240539550781,335.488037109375,335.7165832519531,327.53997802734375,334.44488525390625,328.4440612792969,327.9374084472656,327.3511962890625,320.9132995605469,324.0726318359375,332.7459716796875,332.795654296875,330.9377746582031,340.3165283203125,337.1968688964844,326.20867919921875,332.47772216796875,322.7909851074219,321.6981201171875,317.8334045410156,325.1654968261719,331.03717041015625,332.5174560546875,340.22711181640625,339.0348815917969,339.7303771972656,337.117431640625,334.1369323730469,332.5770568847656,326.8743591308594,314.3263244628906,311.842529296875,312.0014953613281,312.2300109863281,312.9354248046875,316.20404052734375,302.82147216796875,308.18646240234375,300.6854248046875,301.36102294921875,299.64227294921875,294.1084289550781,294.44622802734375,286.61737060546875,294.78399658203125,297.8936767578125,306.259033203125,308.96136474609375,306.75579833984375,311.42523193359375,299.2945251464844,303.9541015625,298.9964904785156,302.5830383300781,309.18988037109375,300.4172058105469,293.1248474121094,293.0851135253906,298.51959228515625,298.171142578125,289.4400634765625,286.6524658203125,286.44342041015625,279.0264892578125,293.2829284667969,295.9908752441406,297.46429443359375,293.641357421875,298.85809326171875,294.6070556640625,288.57391357421875,277.6725158691406,274.6260986328125,287.219970703125,284.3228454589844,278.827392578125,275.2134704589844,285.8759460449219,293.0838317871094,293.9101257324219,299.0970153808594,297.8326721191406,302.7109069824219,298.16119384765625,302.7507629394531,302.3326110839844,309.3215026855469,314.01055908203125,312.4674377441406,306.9420471191406,308.0471496582031,313.572509765625,309.50067138671875,298.171142578125,300.0328674316406,295.6523742675781,283.9943542480469,280.80853271484375,286.3438720703125,278.5884094238281,279.27532958984375,284.0341491699219,285.0894470214844,279.5640563964844,272.8141784667969,279.4744873046875,269.0210876464844,281.96337890625,288.344970703125,276.2886657714844,283.2078552246094,280.52978515625,288.6933898925781,276.11944580078125,273.51104736328125,263.40606689453125,268.30426025390625,259.3939514160156,254.21705627441406,259.9614562988281,260.3397521972656,265.63616943359375,253.54183959960938,252.60382080078125,252.02505493164062,260.097900390625,259.0700988769531,261.96392822265625,265.3367919921875,272.6612243652344,271.2941589355469,271.8429870605469,273.9983825683594,269.44805908203125,268.1807556152344,271.9228210449219,269.8372497558594,264.2291564941406,252.4541473388672,241.74685668945312,243.97215270996094,251.22674560546875,244.4511260986328,247.1254425048828,253.2025604248047,252.59384155273438,258.3116760253906,267.13299560546875,264.3289489746094,255.93675231933594,259.708740234375,256.2859802246094,259.0301818847656,262.29327392578125,265.6461181640625,267.83148193359375,267.09307861328125,263.9497375488281,253.1326904296875,252.18470764160156,253.54183959960938,256.1762390136719,253.7114715576172,258.98028564453125,261.7144775390625,264.2790222167969,259.8085021972656,258.2817687988281,251.36643981933594,268.1707763671875,275.82452392578125,280.1453552246094,277.421142578125,274.2379150390625,281.8717041015625,283.0491943359375,282.3107604980469,279.72625732421875,281.7020568847656,288.5475158691406,286.41204833984375,291.2917175292969,292.848388671875,292.0899963378906,291.32000732421875,290.1700134277344,286.1499938964844,277.75,276.44000244140625,275.7900085449219,278.8500061035156,268.0899963378906,265.2300109863281,262.9700012207031,261.4700012207031],\"high\":[219.7107866859304,215.29686996304707,213.29680493055952,216.1047518105452,217.32647724046686,215.68111211289175,213.89781749569877,213.562820599715,214.25250378488562,211.34600891382823,213.77955650043106,222.45961551077343,222.96210258816404,226.67648901412954,226.39078275723205,230.72585609020524,236.8935309385458,239.06109211011875,234.50924885796346,238.923172934263,238.7359679057436,241.4749713411187,239.65225242256614,239.69168133460045,240.08574470347983,241.14982652460367,242.2927155472858,241.53407326692997,241.68185946052606,242.49963453376137,241.26086467632416,240.88558181473766,240.81645455819677,234.9604902950804,231.89915498957782,232.26456225331907,231.6621642224088,232.43242480239874,234.5062331977916,234.33835598436784,230.6647806067192,229.58835862953995,230.35864342442113,230.45740983704687,232.4423265323395,234.0420816817258,236.18501945037355,232.87681180742806,232.2546719545979,237.06388646764682,235.57273730647955,231.26716276631123,229.56863394248862,233.94332413491918,238.04153083090188,235.02960908766946,233.98284170686964,233.7557200194487,233.84457433504753,230.9314138893313,236.1158795556225,239.8092075039065,246.84034793389378,246.28732901155158,247.7982258891332,250.96817080688047,252.79508193921575,254.4541234064103,255.9551458473365,255.59960782827721,256.68588705688916,257.74254347648997,258.2165964895087,256.9525483836654,257.42654727295013,258.51280728140165,258.24620869127784,259.16458173972416,259.9052142382476,253.3382338199916,252.90371116185503,249.92141506327252,251.1755576832117,248.0747477205179,246.38608819056282,246.74158729441547,251.12617506373465,248.5882479055982,243.5222680017214,241.3299947919316,242.53475813150564,246.07006119224053,243.51241641031203,243.3346603002439,240.74895424451788,245.42081169707038,245.7969292037055,248.59806776277878,250.1718513987203,250.3599195704237,248.91481597923794,249.50869161722267,248.72675446994143,246.72735703324267,243.82723781466512,249.08307032515373,251.4981967789801,253.39861124095913,252.92349430846002,254.83381548603475,255.85331610725146,257.2983992270155,257.3380336162447,257.9219639786305,259.080013576755,259.6244421524088,260.8320169021574,263.078839452152,264.1082330200479,265.11783672196805,264.52397567990056,266.15713008301657,268.879072230035,268.59201813057075,269.0671015481887,275.164307017944,276.520276930868,277.8268728967279,275.8868756426338,275.213782896984,276.9162632191821,279.9647812274622,280.7665900440171,279.6283054520713,281.20209596544595,277.5101301346441,278.10401915453616,278.64834263946193,283.49842564941457,287.03201447097024,286.7350181583158,286.6261873944135,287.1903507740774,285.67594593069003,283.7359640404859,283.8448250142019,284.3002083829035,284.65649480947656,286.67566612540094,286.54701621766947,288.5760411962923,286.2995536415363,285.71555912973395,287.01219236216576,289.91230138459616,291.81272782524485,290.43689000356545,292.37136480063447,294.9993740602743,303.29981088848194,302.86349132681255,303.1114003333807,302.0602370702518,299.9181519008501,298.3711250167969,301.6932843035003,301.97100723978684,302.65526003700086,300.8404401633604,300.0867816074681,298.5893047920647,298.11325498031823,299.6306205971513,297.4290538035268,296.06045993559735,298.88679647426125,302.78414676922273,302.77427695878845,301.9709754288052,296.2389544503327,295.0687955430285,297.7265523530626,298.40088856984414,297.31001392018413,294.0076613028341,288.36496543720426,284.38821819564987,285.4394094856979,287.5716096604029,285.36008280956196,287.98808816063166,291.19126814886437,294.1762339345447,294.1762339345447,295.49521316837667,292.9862454372429,294.81091329510554,300.7512049554708,301.9213768486469,305.6501655146718,306.73110356560454,307.1277696697421,308.4368055803255,308.5062483396937,306.8302724194541,309.80535164182703,323.391558282904,322.1717676254205,329.24260195808705,328.73678682678633,330.68056974377146,332.11847111637405,333.7448969447411,335.97619681334226,334.8456536164471,335.9068037660654,331.85075841612735,330.997873390206,334.42914423646863,335.0737427011079,337.8406159608348,339.9688112743967,340.227112000946,342.8598850662434,347.40020641142917,337.24656705211424,335.964960467494,335.7364257304442,336.82930040311203,335.5873917751473,337.0777025686619,331.3252313856214,330.5404026292034,325.32446260275697,333.6202339317888,333.32221276446876,334.305753594969,340.7735338996437,341.5583869297295,332.4678028970198,333.01422542283626,334.57401458636144,322.81087538207504,320.70462921316033,325.60264311456814,331.4444823691529,334.2064331087389,340.2569158686018,341.5782617211833,342.0650988340982,340.9026979490833,337.1571777061141,335.80596034966624,333.02418138853017,323.9534273279147,316.63124871777285,314.4455183892115,312.67710209033817,314.5548187427603,321.3106904042062,318.7971107593326,308.80243304822886,307.7890064847541,311.872363450188,309.6270246881278,302.13596726723034,295.1814149115715,293.0751784046995,306.49747418204174,305.30524396124457,306.4776063524845,310.3522709446051,308.6136550146764,313.0744600315187,309.2097538572222,306.7955223348051,305.84175045864293,303.5765471321389,309.90520795506814,307.1134456435544,302.3148038927037,294.8336988201838,298.84743685071055,299.53505913711746,295.48310824602027,292.55614750005736,290.24647879782015,290.4057998111906,293.8504067225848,296.30946274122397,297.8127475801255,298.63907339817683,300.13241283081453,301.7850573454606,294.3481979434345,288.40468518114534,282.70010112615694,288.3150962519119,285.32837385348773,288.2255116120613,284.13370747915866,286.54298670864347,293.2630258510609,294.2983795243756,299.6644936406051,298.80833493232166,303.6467387060571,301.88462063579254,302.85032533185785,304.1445433146022,309.421034701186,314.4187435963771,314.54819147773065,313.74175988880825,308.7539909565265,313.71187280042454,313.4729585617367,305.63786568108304,302.3027502420614,299.78395504559654,291.3117191039979,289.45001335144264,287.29960419974765,287.0307954651384,281.206724294135,284.90031461506726,288.4146546551329,291.9986291133826,281.9435062446352,279.86274113254063,277.1249562513859,289.67899283572166,289.6889870819693,288.59384171767897,283.6757711282094,282.8693646515692,289.5893905788839,285.07951415311265,278.01098140675003,271.151546458002,272.53540350466363,270.15598600781607,258.72695612588575,261.8729509990449,264.6405921065485,267.1394491441291,263.04167972414166,257.12423976681083,257.992399768075,260.9461060611436,260.77646843121596,264.0195623654346,266.54422056833624,272.76101863987617,274.1880104792813,277.10181344861934,274.0682416059511,272.87081713573315,273.5992469223086,272.55149152200977,272.4217602370893,272.1323640785143,260.02805207833524,248.492547885214,245.2195050926168,254.7592561137343,246.89593366670903,249.9694119651337,254.21041566879273,256.6252928172343,258.8206055038845,267.41240131809013,267.73169942755436,266.3446528878376,261.41510967242203,258.98027338068795,259.21978189055153,262.42300345040525,267.42234663494906,268.4900876076778,267.53214909473024,265.96544792017716,265.3767051554779,253.0129514216565,254.59959199665028,259.8185018072918,260.2875095849349,259.1698856398304,264.30897659531746,264.32893458043924,264.7679761783611,260.94612697449617,259.3295481954989,269.477999240943,277.25148765281364,281.40269616518145,280.6842052612117,277.3014198251429,282.89952124989077,283.19887053008085,283.04918332906504,285.3144019710524,282.4804035726751,289.1961329731155,290.5931758840126,291.2917175292969,293.55687626081277,293.41719629089056,293.3500061035156,291.9100036621094,289.25,282.4599914550781,278.8599853515625,277.2300109863281,279.0199890136719,280.3399963378906,267.3999938964844,267.04998779296875,267.1099853515625],\"low\":[211.64158543319024,212.5184572854592,208.81391385596496,210.55780400937323,213.82883624388032,213.5332589865961,210.17357306319292,210.77456082550034,209.60212188393228,208.9025926975175,209.4937277057144,214.0849895837275,219.13932735591467,222.4694670393235,220.91279421991226,226.68633978993262,226.7454521378757,231.62245058552207,227.93763205094564,229.0016962275677,235.16936707695672,235.7309607894528,236.82457426294593,236.87386499806283,237.25808163832988,237.81969116841313,237.33690848600682,238.578322755646,239.14975941479835,239.33697480304573,237.93292908608026,237.85390532126692,237.18237573702402,229.49950906315416,225.87528133712073,226.14194492406682,225.03591772143557,226.67518517837703,230.24014215563142,230.53640027756217,224.4236508377068,221.46106425468687,223.63363904928093,224.29529809641625,228.77862284412168,229.14397916497973,231.38567443439086,230.31912533280345,228.91685182145628,232.99531167533974,230.31912727996945,227.45533741029251,226.48757826563175,227.2676988634638,234.11120822692155,232.38306441982624,228.67986751709657,228.66011638154507,228.98598116478155,228.21573558434747,229.48961817283126,235.07899620750106,239.6709476761888,243.7987910063209,244.104913124731,248.85487996861116,249.28938525928208,251.4421713159845,253.62458448193632,251.9754288643359,254.5133626565574,254.38498380336955,254.60227168814387,253.63446767774175,254.03936299910347,252.4494392382903,254.05910593010407,256.92292365479335,256.87352266975154,249.79302774295638,245.8923177606181,246.48485172224133,247.98585927021588,242.6927550960243,242.752024062484,241.63611402378928,248.03523465980734,244.03578298675157,239.54256638579125,235.09874981473817,238.40691941731814,242.4261274956591,240.48073954865666,239.86845754355673,236.1661923330502,241.37253489353128,242.2435523696555,244.98529021027423,248.26154540114894,248.19225597511513,246.70756695114324,247.01439232999505,244.4409351544395,243.33233646199665,240.52131066728492,244.98530046968503,247.26185536167384,249.93429745607523,250.62716705624106,251.08248136878726,253.9924878286428,254.1805065507159,255.05159855445262,251.82480998008526,253.39857423443476,256.11066539567923,255.28916251699295,259.72340436894797,261.73271985002526,262.7621087714706,262.0593840383626,263.19763868167485,265.2465243848143,266.8499912894048,266.8499602592726,269.72040885751704,271.50198629895385,274.3229735931941,272.0662331710901,272.5116491619558,273.7587996225734,274.560484673672,277.6882972311836,276.9756194649339,276.6094109375703,271.65053297230986,273.4420710883729,274.4615101124216,280.52902673496743,283.5776230740567,283.7161417807079,280.06384067520884,280.93480998993846,283.161846575072,281.01401507256827,280.84573338588734,281.10314414390285,281.7464812472567,283.1816747073287,284.68618792874173,284.8742006161612,282.29087707323686,282.94410209716267,283.4192149668648,286.3490167269745,287.06167158070906,288.11085489730203,287.8591368979348,286.2427246465865,295.58442968678196,299.3429879914048,299.49172167064734,297.924887775906,296.4670745073541,294.36467068705787,298.55952623563013,298.99592342461654,298.9859781217975,297.68685879965614,297.76621995562647,295.7233233148023,294.9993501353335,294.533295832731,292.9267519052862,291.6374810424726,295.6241133508284,299.3132163084916,298.26207861872905,297.0422525503222,287.1153538008816,291.6276143528656,292.0639846927683,295.05888272789406,294.46385540455697,290.5069810274955,280.4016587098724,280.6594674903113,279.2809952253975,278.9537812055103,277.9223743088783,281.6908217832375,283.1387134500349,291.47882402390906,291.32014929221157,290.3185666364046,289.9219128554256,291.0523830034185,295.356384008846,298.02399479572944,300.17602255226274,304.6683922759432,303.5675601194838,303.81550568223287,305.2435648553397,303.91468816668794,306.0369246974097,313.37543853022316,318.6909104592609,321.2098697731537,323.6593160343711,327.25921133777524,327.9037696294553,326.77328537242806,331.6424965785821,331.662322633748,331.7516008763851,327.1798854708022,327.76496979216705,331.0177127648565,331.25571282101924,332.7234681437229,335.8060065779456,334.9316929419538,339.9787156763385,337.34587272709933,331.39478579231354,331.7425478032998,325.99010670540696,332.5671389952359,326.8544411802869,327.2519151916725,325.67216403520786,315.9656146308138,317.1578192067308,327.9572521159149,328.65270913148015,329.96412515651195,332.6168347701019,336.8789388148963,322.00612601581594,322.39361365976487,320.92318381616315,315.1906499528099,315.5085975822723,317.7240954528914,323.6355171382939,330.5701873350441,333.25266040780764,338.1109256746841,337.47509261160576,336.62067721358864,333.6699819607096,327.63931714258445,324.0031039773771,313.92892699987425,309.46802884628534,308.07712368333875,302.7122096776666,307.8784684560472,315.02176260859886,302.0266772503661,301.77831808799016,299.78132818075443,300.7351378486911,299.18526737114354,293.69114188998213,274.25811988995144,283.3189441262089,291.1278913627918,295.9960712999821,292.53867906426626,304.3812736016071,303.14935640894106,306.8749753796406,298.01289030868423,298.0228524846244,297.9532880294135,298.00297730592945,305.39469961117254,298.74811824757796,292.31016291228894,289.4588122524479,295.0919747751297,292.37695815850776,288.7132914948721,285.0396585172485,283.2377059673999,278.85726052653933,270.3152805768231,290.35598421595506,291.6999758241222,290.85376242785287,292.396898381949,292.7453270844605,285.89587671265485,277.29419701908984,268.80204817916217,279.534221918243,279.3350648973205,278.1902175469941,274.59622618767105,277.49332152363866,281.9434784121793,288.08607579572964,291.4311977263348,293.59156342740937,297.4443697942491,296.3990580347009,296.99640909170745,297.9621046399956,302.97973949250843,307.67876200631486,310.1975549624007,306.5239276445235,304.1843599453798,308.33583815497536,308.49514290094197,295.39351307681585,295.03515125999047,294.96543329975765,283.7354981064253,279.24549131627094,280.051905588663,278.08069290176104,277.1050094812023,277.1747349948921,284.10384923229554,278.8173841123054,272.16706847275333,269.5686218581809,268.8020625283964,277.92139520086846,280.21120609742616,275.2732023279661,274.9944590999674,278.90701234923756,275.5021792188983,273.12279099620514,270.066377338905,262.1516780709605,263.89392293366245,258.1494975512637,248.91070286520886,254.2170676082983,254.64513001613403,261.29549826068256,252.23461672302224,251.3464951020289,245.91802246212725,252.89319215238723,252.9630664065898,256.58536097037677,260.87625866639786,266.9932628196508,268.3603835872744,269.46802338434077,261.0458957589452,267.84148384397713,266.6539975548726,265.37671813783703,269.03892595959167,264.0694917359896,251.99511496526367,241.01840718672548,240.99845366665122,245.8980598301878,242.5052594720607,243.51311495693867,248.98150899745224,249.83967785829196,253.0927735417638,261.16565090734446,262.7223432930505,255.77708756619595,255.2182566793024,252.36431189206544,254.07072262644974,254.20045078621675,261.84419076035056,264.45863641461955,262.7323394912417,261.62465578767484,251.5061381200799,247.58447160751805,245.41908139464263,254.2303723811014,252.76348680358072,253.14267049854917,258.3616089393035,256.48556750134145,258.52125654506216,256.2660582456782,249.04138843510307,258.30174005324454,267.30260445826207,276.0440752276977,275.25572556655965,271.8030807315586,276.02410027829393,279.57658482005667,278.0897092697148,278.7283754391748,277.02198819306017,286.33221697113373,285.903149285301,286.33224312438034,289.495489809651,289.8048687606062,289.4700012207031,289.0799865722656,285.55999755859375,277.2200012207031,275.3999938964844,275.1099853515625,274.5199890136719,267.9800109863281,263.8500061035156,260.6600036621094,261.3299865722656],\"name\":\"MSFT\",\"open\":[219.24771790591234,214.05544513530594,209.04051717522677,210.8829233104168,215.45449295806364,215.24759964517756,213.30666138138298,210.86324476608326,212.72536304884082,210.37062086545384,210.59720297601373,214.4889457365375,221.38569640087758,223.73058591617263,225.74051403723305,228.4400837263815,234.48951834507454,232.1347848650685,232.50919222251127,231.59290905822405,237.74087063943847,236.0364009841219,239.08080553026875,238.6571655579434,239.563563336753,238.30245413078518,241.38628721159935,241.16953551466344,240.3320565619245,241.41585330922334,238.3081912837993,238.78217589808926,240.70782683360972,234.4568608113555,227.45531821695,227.13933410371092,229.1834960408276,228.64035411129868,232.9558205064921,234.05196692088523,229.26250488305251,223.9101228734714,226.65544585499597,228.48237093179839,229.973527975639,234.0420816817258,232.0275711026876,231.0893891920807,232.02754672947762,233.33106462903808,233.20268189237123,229.65750137763774,228.1367338397622,227.39608119872133,234.5259645256819,234.88148721012215,232.3633105444085,228.66011638154507,233.63718865101507,230.61540045376157,230.00313244732124,235.4937525473411,239.7301964273517,244.5196759394619,244.71717030634858,249.61527409876427,249.7140113437965,251.53105950916174,254.04924071148713,254.26648087914361,254.71084843657064,256.2316401167509,256.94268796145093,254.60224749544847,255.70827317862447,256.9623947108128,254.66150843694604,258.39431784887887,258.3152924497513,252.8839532002468,252.27169938158983,246.62310383744517,250.23740222741895,247.83773764696608,245.95157724734685,243.37414266857172,249.002999408853,247.7389806408562,241.49785040148438,239.1475702969184,238.7821815917941,242.5150006195966,243.47292226257278,243.19640818622236,236.86894159644316,241.47152089636066,245.04468696710677,245.26243288623465,249.20185200991205,248.86531247062342,248.6079804990315,248.43970620841083,248.66736890575723,245.59898606358507,242.7186670594104,245.2327503766654,247.43011949470417,252.55727551985046,251.2210377631102,251.69615233336185,255.35841625469766,255.26929207209955,257.12027645767915,256.7540077114538,253.45795978666033,256.981693940949,257.1697759838374,260.0401474848105,263.27680492085443,263.4450729321203,263.51439083781895,263.47478138608517,266.1274303770158,267.92886928156594,266.8598377143336,270.0371519999966,275.1939492474515,276.55002285957517,274.0755253129616,272.90756298400254,276.3124998749841,274.6891332292414,279.4699548372769,279.1234979705805,279.19280381732267,276.08481618568953,275.19400565940515,276.05507279853305,280.9447256674689,284.43874400745307,286.0520540901791,286.47772347882784,286.0421796018275,283.3202181304,282.26117226569886,283.4390035468758,282.5086731553912,283.3004740405674,283.9537171955453,285.5671241701918,286.7944141229088,285.8541317089303,284.28033761230535,283.7062653097671,286.5272036145709,290.1993496303963,289.4075201658764,289.61445544219566,286.2922972676102,297.2306460182644,300.7313542251946,302.48662799227327,301.7726371789726,298.49010944005397,296.50673447927136,298.6190254810108,301.89168498759403,300.35452143356645,299.6901011330693,298.4901376194899,298.5099825452416,297.2901619005635,298.3215764633954,295.9415119232555,295.07866188247334,297.0719787334858,300.7412586906071,301.2371624290849,301.6437295598218,293.8687902909833,293.2341546307655,294.26554790298775,296.36792681714417,295.75307647774827,293.68041544330805,287.3930937975215,282.7321053441273,283.3370220257637,279.7768744034556,285.01298369337405,281.6908217832375,283.40646007663986,292.7283383568469,293.7597089808251,290.4871680186379,292.88706992767175,292.4606023832648,296.7249273741164,299.8288858949917,301.0487185891937,305.7890119281224,306.6418188311653,304.6188060522096,307.821976691459,306.7905961654798,308.41698541304766,313.37543853022316,321.636244154293,321.43797042260434,328.6078617047416,327.5666342363875,331.12677664886377,330.12521784002473,335.69852355672947,334.4985544764502,334.31015968639304,331.79125916312574,328.49881406208317,331.1466378909993,334.73657020260157,332.8920392794451,336.7399073649934,335.98480987941326,340.4158619638531,342.3829691989278,334.86212172768694,334.09715895550937,332.17967752227725,332.76585289078787,333.1433686856149,332.9546466463147,328.15593597055715,329.8349895239844,321.8471818677978,329.487264116185,333.1334436610405,332.23926871075497,332.8056038762464,338.4685589033553,331.0570070455461,326.476920376495,333.5308122126789,318.7970915551599,317.9724800071888,321.1914617094654,326.168952650416,330.59004659563374,333.2824644600032,340.9225422678986,339.0845721629228,339.6906159343352,336.31271936675836,333.1731682037204,332.6565576426382,323.7447686462577,311.11725699902325,312.1107667701348,307.4810399628507,311.3458045995009,317.5949771278552,318.3897685102294,302.2750725210568,302.09622060629823,304.30183094420846,307.0637852151591,300.72520165370724,290.30331289064617,289.62770133602305,305.9907749762971,300.69537886745644,298.281158730729,306.944543178382,308.39508185766766,307.6201069125867,307.48102793290406,298.2612849076195,304.1826077138594,299.2945266208155,307.85858215193,302.0664341118674,301.22193813922297,291.8630867133043,298.0625867236469,297.0461514361314,295.04505806283345,291.7497438485254,283.7354875244603,288.8925242910374,271.300908700606,293.8305202405542,293.0041609987688,295.0849057314408,294.0495064128813,301.5461319158542,292.98428131981063,287.2498283060024,276.5674285292453,282.1824235608817,281.76424114986224,286.6823704235162,279.0961605383546,279.1061289293776,287.82722952047226,291.988696331785,294.0594685163455,297.5638810093654,298.46979854901866,299.17668769086424,297.8127781743791,303.875752200811,302.97973949250843,312.51721444123274,312.3679057342227,312.5072410243904,307.9973532735931,308.7141569928485,311.88005147384723,303.83589893614305,295.34377341185905,299.10697943104657,290.4953804104264,287.95666866336876,281.4755840021545,286.8117703674434,277.6724876987066,278.140432447414,288.115967482953,287.2995703229961,280.4302307583063,272.077460428398,276.26878648751847,280.8483531092033,283.92466772240624,287.32945711230377,276.4778384959395,282.7001055467263,281.33616422396534,284.27311043197693,273.5906790390375,268.8617635220358,270.4845459125176,264.5011949381053,256.5466703981369,256.2081939958594,258.80657650714465,264.9292977153837,262.4429444826428,253.36220555497752,256.69513500209916,254.9488415716304,257.3437826473732,257.59323136813373,261.71447581080236,267.9113275122433,271.9527646721938,274.6170973862892,263.8898650970663,269.73745335921734,271.4837422062976,266.0752476574767,271.13448405200324,267.2128136264323,260.02805207833524,244.5908261135968,243.3434822366321,247.7840560417297,245.45898131894216,244.18169399210424,249.72992042729166,251.35646255766105,255.0286667291655,261.25545662358644,267.641893711632,263.4208663249975,257.04438229344424,256.5055154480894,255.84696649690883,255.6174413133336,263.19133734540736,264.55843069001486,264.2291623726524,265.0873070208371,265.31683467991644,249.66006772624564,250.03927954830928,255.17835712758762,259.19982197479277,257.0344037782244,259.3495022851362,259.2397311180694,264.67817046678437,260.44718600513767,259.30957106799156,260.60684484302345,269.1786271958971,277.11181617078864,277.23154259058504,275.41540838941324,276.17380692702085,281.2031067336661,278.55871496175166,283.448337265552,279.04771774741425,287.5596225946703,290.2339530219825,287.8689898217609,290.38361927639426,291.37152016673906,289.739990234375,290.19000244140625,288.8999938964844,282.0799865722656,276.44000244140625,275.4100036621094,277.3299865722656,279.0799865722656,265.8500061035156,266.6700134277344,265.3900146484375],\"showlegend\":true,\"x\":[\"2021-01-04T00:00:00\",\"2021-01-05T00:00:00\",\"2021-01-06T00:00:00\",\"2021-01-07T00:00:00\",\"2021-01-08T00:00:00\",\"2021-01-11T00:00:00\",\"2021-01-12T00:00:00\",\"2021-01-13T00:00:00\",\"2021-01-14T00:00:00\",\"2021-01-15T00:00:00\",\"2021-01-19T00:00:00\",\"2021-01-20T00:00:00\",\"2021-01-21T00:00:00\",\"2021-01-22T00:00:00\",\"2021-01-25T00:00:00\",\"2021-01-26T00:00:00\",\"2021-01-27T00:00:00\",\"2021-01-28T00:00:00\",\"2021-01-29T00:00:00\",\"2021-02-01T00:00:00\",\"2021-02-02T00:00:00\",\"2021-02-03T00:00:00\",\"2021-02-04T00:00:00\",\"2021-02-05T00:00:00\",\"2021-02-08T00:00:00\",\"2021-02-09T00:00:00\",\"2021-02-10T00:00:00\",\"2021-02-11T00:00:00\",\"2021-02-12T00:00:00\",\"2021-02-16T00:00:00\",\"2021-02-17T00:00:00\",\"2021-02-18T00:00:00\",\"2021-02-19T00:00:00\",\"2021-02-22T00:00:00\",\"2021-02-23T00:00:00\",\"2021-02-24T00:00:00\",\"2021-02-25T00:00:00\",\"2021-02-26T00:00:00\",\"2021-03-01T00:00:00\",\"2021-03-02T00:00:00\",\"2021-03-03T00:00:00\",\"2021-03-04T00:00:00\",\"2021-03-05T00:00:00\",\"2021-03-08T00:00:00\",\"2021-03-09T00:00:00\",\"2021-03-10T00:00:00\",\"2021-03-11T00:00:00\",\"2021-03-12T00:00:00\",\"2021-03-15T00:00:00\",\"2021-03-16T00:00:00\",\"2021-03-17T00:00:00\",\"2021-03-18T00:00:00\",\"2021-03-19T00:00:00\",\"2021-03-22T00:00:00\",\"2021-03-23T00:00:00\",\"2021-03-24T00:00:00\",\"2021-03-25T00:00:00\",\"2021-03-26T00:00:00\",\"2021-03-29T00:00:00\",\"2021-03-30T00:00:00\",\"2021-03-31T00:00:00\",\"2021-04-01T00:00:00\",\"2021-04-05T00:00:00\",\"2021-04-06T00:00:00\",\"2021-04-07T00:00:00\",\"2021-04-08T00:00:00\",\"2021-04-09T00:00:00\",\"2021-04-12T00:00:00\",\"2021-04-13T00:00:00\",\"2021-04-14T00:00:00\",\"2021-04-15T00:00:00\",\"2021-04-16T00:00:00\",\"2021-04-19T00:00:00\",\"2021-04-20T00:00:00\",\"2021-04-21T00:00:00\",\"2021-04-22T00:00:00\",\"2021-04-23T00:00:00\",\"2021-04-26T00:00:00\",\"2021-04-27T00:00:00\",\"2021-04-28T00:00:00\",\"2021-04-29T00:00:00\",\"2021-04-30T00:00:00\",\"2021-05-03T00:00:00\",\"2021-05-04T00:00:00\",\"2021-05-05T00:00:00\",\"2021-05-06T00:00:00\",\"2021-05-07T00:00:00\",\"2021-05-10T00:00:00\",\"2021-05-11T00:00:00\",\"2021-05-12T00:00:00\",\"2021-05-13T00:00:00\",\"2021-05-14T00:00:00\",\"2021-05-17T00:00:00\",\"2021-05-18T00:00:00\",\"2021-05-19T00:00:00\",\"2021-05-20T00:00:00\",\"2021-05-21T00:00:00\",\"2021-05-24T00:00:00\",\"2021-05-25T00:00:00\",\"2021-05-26T00:00:00\",\"2021-05-27T00:00:00\",\"2021-05-28T00:00:00\",\"2021-06-01T00:00:00\",\"2021-06-02T00:00:00\",\"2021-06-03T00:00:00\",\"2021-06-04T00:00:00\",\"2021-06-07T00:00:00\",\"2021-06-08T00:00:00\",\"2021-06-09T00:00:00\",\"2021-06-10T00:00:00\",\"2021-06-11T00:00:00\",\"2021-06-14T00:00:00\",\"2021-06-15T00:00:00\",\"2021-06-16T00:00:00\",\"2021-06-17T00:00:00\",\"2021-06-18T00:00:00\",\"2021-06-21T00:00:00\",\"2021-06-22T00:00:00\",\"2021-06-23T00:00:00\",\"2021-06-24T00:00:00\",\"2021-06-25T00:00:00\",\"2021-06-28T00:00:00\",\"2021-06-29T00:00:00\",\"2021-06-30T00:00:00\",\"2021-07-01T00:00:00\",\"2021-07-02T00:00:00\",\"2021-07-06T00:00:00\",\"2021-07-07T00:00:00\",\"2021-07-08T00:00:00\",\"2021-07-09T00:00:00\",\"2021-07-12T00:00:00\",\"2021-07-13T00:00:00\",\"2021-07-14T00:00:00\",\"2021-07-15T00:00:00\",\"2021-07-16T00:00:00\",\"2021-07-19T00:00:00\",\"2021-07-20T00:00:00\",\"2021-07-21T00:00:00\",\"2021-07-22T00:00:00\",\"2021-07-23T00:00:00\",\"2021-07-26T00:00:00\",\"2021-07-27T00:00:00\",\"2021-07-28T00:00:00\",\"2021-07-29T00:00:00\",\"2021-07-30T00:00:00\",\"2021-08-02T00:00:00\",\"2021-08-03T00:00:00\",\"2021-08-04T00:00:00\",\"2021-08-05T00:00:00\",\"2021-08-06T00:00:00\",\"2021-08-09T00:00:00\",\"2021-08-10T00:00:00\",\"2021-08-11T00:00:00\",\"2021-08-12T00:00:00\",\"2021-08-13T00:00:00\",\"2021-08-16T00:00:00\",\"2021-08-17T00:00:00\",\"2021-08-18T00:00:00\",\"2021-08-19T00:00:00\",\"2021-08-20T00:00:00\",\"2021-08-23T00:00:00\",\"2021-08-24T00:00:00\",\"2021-08-25T00:00:00\",\"2021-08-26T00:00:00\",\"2021-08-27T00:00:00\",\"2021-08-30T00:00:00\",\"2021-08-31T00:00:00\",\"2021-09-01T00:00:00\",\"2021-09-02T00:00:00\",\"2021-09-03T00:00:00\",\"2021-09-07T00:00:00\",\"2021-09-08T00:00:00\",\"2021-09-09T00:00:00\",\"2021-09-10T00:00:00\",\"2021-09-13T00:00:00\",\"2021-09-14T00:00:00\",\"2021-09-15T00:00:00\",\"2021-09-16T00:00:00\",\"2021-09-17T00:00:00\",\"2021-09-20T00:00:00\",\"2021-09-21T00:00:00\",\"2021-09-22T00:00:00\",\"2021-09-23T00:00:00\",\"2021-09-24T00:00:00\",\"2021-09-27T00:00:00\",\"2021-09-28T00:00:00\",\"2021-09-29T00:00:00\",\"2021-09-30T00:00:00\",\"2021-10-01T00:00:00\",\"2021-10-04T00:00:00\",\"2021-10-05T00:00:00\",\"2021-10-06T00:00:00\",\"2021-10-07T00:00:00\",\"2021-10-08T00:00:00\",\"2021-10-11T00:00:00\",\"2021-10-12T00:00:00\",\"2021-10-13T00:00:00\",\"2021-10-14T00:00:00\",\"2021-10-15T00:00:00\",\"2021-10-18T00:00:00\",\"2021-10-19T00:00:00\",\"2021-10-20T00:00:00\",\"2021-10-21T00:00:00\",\"2021-10-22T00:00:00\",\"2021-10-25T00:00:00\",\"2021-10-26T00:00:00\",\"2021-10-27T00:00:00\",\"2021-10-28T00:00:00\",\"2021-10-29T00:00:00\",\"2021-11-01T00:00:00\",\"2021-11-02T00:00:00\",\"2021-11-03T00:00:00\",\"2021-11-04T00:00:00\",\"2021-11-05T00:00:00\",\"2021-11-08T00:00:00\",\"2021-11-09T00:00:00\",\"2021-11-10T00:00:00\",\"2021-11-11T00:00:00\",\"2021-11-12T00:00:00\",\"2021-11-15T00:00:00\",\"2021-11-16T00:00:00\",\"2021-11-17T00:00:00\",\"2021-11-18T00:00:00\",\"2021-11-19T00:00:00\",\"2021-11-22T00:00:00\",\"2021-11-23T00:00:00\",\"2021-11-24T00:00:00\",\"2021-11-26T00:00:00\",\"2021-11-29T00:00:00\",\"2021-11-30T00:00:00\",\"2021-12-01T00:00:00\",\"2021-12-02T00:00:00\",\"2021-12-03T00:00:00\",\"2021-12-06T00:00:00\",\"2021-12-07T00:00:00\",\"2021-12-08T00:00:00\",\"2021-12-09T00:00:00\",\"2021-12-10T00:00:00\",\"2021-12-13T00:00:00\",\"2021-12-14T00:00:00\",\"2021-12-15T00:00:00\",\"2021-12-16T00:00:00\",\"2021-12-17T00:00:00\",\"2021-12-20T00:00:00\",\"2021-12-21T00:00:00\",\"2021-12-22T00:00:00\",\"2021-12-23T00:00:00\",\"2021-12-27T00:00:00\",\"2021-12-28T00:00:00\",\"2021-12-29T00:00:00\",\"2021-12-30T00:00:00\",\"2021-12-31T00:00:00\",\"2022-01-03T00:00:00\",\"2022-01-04T00:00:00\",\"2022-01-05T00:00:00\",\"2022-01-06T00:00:00\",\"2022-01-07T00:00:00\",\"2022-01-10T00:00:00\",\"2022-01-11T00:00:00\",\"2022-01-12T00:00:00\",\"2022-01-13T00:00:00\",\"2022-01-14T00:00:00\",\"2022-01-18T00:00:00\",\"2022-01-19T00:00:00\",\"2022-01-20T00:00:00\",\"2022-01-21T00:00:00\",\"2022-01-24T00:00:00\",\"2022-01-25T00:00:00\",\"2022-01-26T00:00:00\",\"2022-01-27T00:00:00\",\"2022-01-28T00:00:00\",\"2022-01-31T00:00:00\",\"2022-02-01T00:00:00\",\"2022-02-02T00:00:00\",\"2022-02-03T00:00:00\",\"2022-02-04T00:00:00\",\"2022-02-07T00:00:00\",\"2022-02-08T00:00:00\",\"2022-02-09T00:00:00\",\"2022-02-10T00:00:00\",\"2022-02-11T00:00:00\",\"2022-02-14T00:00:00\",\"2022-02-15T00:00:00\",\"2022-02-16T00:00:00\",\"2022-02-17T00:00:00\",\"2022-02-18T00:00:00\",\"2022-02-22T00:00:00\",\"2022-02-23T00:00:00\",\"2022-02-24T00:00:00\",\"2022-02-25T00:00:00\",\"2022-02-28T00:00:00\",\"2022-03-01T00:00:00\",\"2022-03-02T00:00:00\",\"2022-03-03T00:00:00\",\"2022-03-04T00:00:00\",\"2022-03-07T00:00:00\",\"2022-03-08T00:00:00\",\"2022-03-09T00:00:00\",\"2022-03-10T00:00:00\",\"2022-03-11T00:00:00\",\"2022-03-14T00:00:00\",\"2022-03-15T00:00:00\",\"2022-03-16T00:00:00\",\"2022-03-17T00:00:00\",\"2022-03-18T00:00:00\",\"2022-03-21T00:00:00\",\"2022-03-22T00:00:00\",\"2022-03-23T00:00:00\",\"2022-03-24T00:00:00\",\"2022-03-25T00:00:00\",\"2022-03-28T00:00:00\",\"2022-03-29T00:00:00\",\"2022-03-30T00:00:00\",\"2022-03-31T00:00:00\",\"2022-04-01T00:00:00\",\"2022-04-04T00:00:00\",\"2022-04-05T00:00:00\",\"2022-04-06T00:00:00\",\"2022-04-07T00:00:00\",\"2022-04-08T00:00:00\",\"2022-04-11T00:00:00\",\"2022-04-12T00:00:00\",\"2022-04-13T00:00:00\",\"2022-04-14T00:00:00\",\"2022-04-18T00:00:00\",\"2022-04-19T00:00:00\",\"2022-04-20T00:00:00\",\"2022-04-21T00:00:00\",\"2022-04-22T00:00:00\",\"2022-04-25T00:00:00\",\"2022-04-26T00:00:00\",\"2022-04-27T00:00:00\",\"2022-04-28T00:00:00\",\"2022-04-29T00:00:00\",\"2022-05-02T00:00:00\",\"2022-05-03T00:00:00\",\"2022-05-04T00:00:00\",\"2022-05-05T00:00:00\",\"2022-05-06T00:00:00\",\"2022-05-09T00:00:00\",\"2022-05-10T00:00:00\",\"2022-05-11T00:00:00\",\"2022-05-12T00:00:00\",\"2022-05-13T00:00:00\",\"2022-05-16T00:00:00\",\"2022-05-17T00:00:00\",\"2022-05-18T00:00:00\",\"2022-05-19T00:00:00\",\"2022-05-20T00:00:00\",\"2022-05-23T00:00:00\",\"2022-05-24T00:00:00\",\"2022-05-25T00:00:00\",\"2022-05-26T00:00:00\",\"2022-05-27T00:00:00\",\"2022-05-31T00:00:00\",\"2022-06-01T00:00:00\",\"2022-06-02T00:00:00\",\"2022-06-03T00:00:00\",\"2022-06-06T00:00:00\",\"2022-06-07T00:00:00\",\"2022-06-08T00:00:00\",\"2022-06-09T00:00:00\",\"2022-06-10T00:00:00\",\"2022-06-13T00:00:00\",\"2022-06-14T00:00:00\",\"2022-06-15T00:00:00\",\"2022-06-16T00:00:00\",\"2022-06-17T00:00:00\",\"2022-06-21T00:00:00\",\"2022-06-22T00:00:00\",\"2022-06-23T00:00:00\",\"2022-06-24T00:00:00\",\"2022-06-27T00:00:00\",\"2022-06-28T00:00:00\",\"2022-06-29T00:00:00\",\"2022-06-30T00:00:00\",\"2022-07-01T00:00:00\",\"2022-07-05T00:00:00\",\"2022-07-06T00:00:00\",\"2022-07-07T00:00:00\",\"2022-07-08T00:00:00\",\"2022-07-11T00:00:00\",\"2022-07-12T00:00:00\",\"2022-07-13T00:00:00\",\"2022-07-14T00:00:00\",\"2022-07-15T00:00:00\",\"2022-07-18T00:00:00\",\"2022-07-19T00:00:00\",\"2022-07-20T00:00:00\",\"2022-07-21T00:00:00\",\"2022-07-22T00:00:00\",\"2022-07-25T00:00:00\",\"2022-07-26T00:00:00\",\"2022-07-27T00:00:00\",\"2022-07-28T00:00:00\",\"2022-07-29T00:00:00\",\"2022-08-01T00:00:00\",\"2022-08-02T00:00:00\",\"2022-08-03T00:00:00\",\"2022-08-04T00:00:00\",\"2022-08-05T00:00:00\",\"2022-08-08T00:00:00\",\"2022-08-09T00:00:00\",\"2022-08-10T00:00:00\",\"2022-08-11T00:00:00\",\"2022-08-12T00:00:00\",\"2022-08-15T00:00:00\",\"2022-08-16T00:00:00\",\"2022-08-17T00:00:00\",\"2022-08-18T00:00:00\",\"2022-08-19T00:00:00\",\"2022-08-22T00:00:00\",\"2022-08-23T00:00:00\",\"2022-08-24T00:00:00\",\"2022-08-25T00:00:00\",\"2022-08-26T00:00:00\",\"2022-08-29T00:00:00\",\"2022-08-30T00:00:00\",\"2022-08-31T00:00:00\"],\"type\":\"candlestick\"}],                        {\"template\":{\"data\":{\"bar\":[{\"error_x\":{\"color\":\"#2a3f5f\"},\"error_y\":{\"color\":\"#2a3f5f\"},\"marker\":{\"line\":{\"color\":\"#E5ECF6\",\"width\":0.5},\"pattern\":{\"fillmode\":\"overlay\",\"size\":10,\"solidity\":0.2}},\"type\":\"bar\"}],\"barpolar\":[{\"marker\":{\"line\":{\"color\":\"#E5ECF6\",\"width\":0.5},\"pattern\":{\"fillmode\":\"overlay\",\"size\":10,\"solidity\":0.2}},\"type\":\"barpolar\"}],\"carpet\":[{\"aaxis\":{\"endlinecolor\":\"#2a3f5f\",\"gridcolor\":\"white\",\"linecolor\":\"white\",\"minorgridcolor\":\"white\",\"startlinecolor\":\"#2a3f5f\"},\"baxis\":{\"endlinecolor\":\"#2a3f5f\",\"gridcolor\":\"white\",\"linecolor\":\"white\",\"minorgridcolor\":\"white\",\"startlinecolor\":\"#2a3f5f\"},\"type\":\"carpet\"}],\"choropleth\":[{\"colorbar\":{\"outlinewidth\":0,\"ticks\":\"\"},\"type\":\"choropleth\"}],\"contour\":[{\"colorbar\":{\"outlinewidth\":0,\"ticks\":\"\"},\"colorscale\":[[0.0,\"#0d0887\"],[0.1111111111111111,\"#46039f\"],[0.2222222222222222,\"#7201a8\"],[0.3333333333333333,\"#9c179e\"],[0.4444444444444444,\"#bd3786\"],[0.5555555555555556,\"#d8576b\"],[0.6666666666666666,\"#ed7953\"],[0.7777777777777778,\"#fb9f3a\"],[0.8888888888888888,\"#fdca26\"],[1.0,\"#f0f921\"]],\"type\":\"contour\"}],\"contourcarpet\":[{\"colorbar\":{\"outlinewidth\":0,\"ticks\":\"\"},\"type\":\"contourcarpet\"}],\"heatmap\":[{\"colorbar\":{\"outlinewidth\":0,\"ticks\":\"\"},\"colorscale\":[[0.0,\"#0d0887\"],[0.1111111111111111,\"#46039f\"],[0.2222222222222222,\"#7201a8\"],[0.3333333333333333,\"#9c179e\"],[0.4444444444444444,\"#bd3786\"],[0.5555555555555556,\"#d8576b\"],[0.6666666666666666,\"#ed7953\"],[0.7777777777777778,\"#fb9f3a\"],[0.8888888888888888,\"#fdca26\"],[1.0,\"#f0f921\"]],\"type\":\"heatmap\"}],\"heatmapgl\":[{\"colorbar\":{\"outlinewidth\":0,\"ticks\":\"\"},\"colorscale\":[[0.0,\"#0d0887\"],[0.1111111111111111,\"#46039f\"],[0.2222222222222222,\"#7201a8\"],[0.3333333333333333,\"#9c179e\"],[0.4444444444444444,\"#bd3786\"],[0.5555555555555556,\"#d8576b\"],[0.6666666666666666,\"#ed7953\"],[0.7777777777777778,\"#fb9f3a\"],[0.8888888888888888,\"#fdca26\"],[1.0,\"#f0f921\"]],\"type\":\"heatmapgl\"}],\"histogram\":[{\"marker\":{\"pattern\":{\"fillmode\":\"overlay\",\"size\":10,\"solidity\":0.2}},\"type\":\"histogram\"}],\"histogram2d\":[{\"colorbar\":{\"outlinewidth\":0,\"ticks\":\"\"},\"colorscale\":[[0.0,\"#0d0887\"],[0.1111111111111111,\"#46039f\"],[0.2222222222222222,\"#7201a8\"],[0.3333333333333333,\"#9c179e\"],[0.4444444444444444,\"#bd3786\"],[0.5555555555555556,\"#d8576b\"],[0.6666666666666666,\"#ed7953\"],[0.7777777777777778,\"#fb9f3a\"],[0.8888888888888888,\"#fdca26\"],[1.0,\"#f0f921\"]],\"type\":\"histogram2d\"}],\"histogram2dcontour\":[{\"colorbar\":{\"outlinewidth\":0,\"ticks\":\"\"},\"colorscale\":[[0.0,\"#0d0887\"],[0.1111111111111111,\"#46039f\"],[0.2222222222222222,\"#7201a8\"],[0.3333333333333333,\"#9c179e\"],[0.4444444444444444,\"#bd3786\"],[0.5555555555555556,\"#d8576b\"],[0.6666666666666666,\"#ed7953\"],[0.7777777777777778,\"#fb9f3a\"],[0.8888888888888888,\"#fdca26\"],[1.0,\"#f0f921\"]],\"type\":\"histogram2dcontour\"}],\"mesh3d\":[{\"colorbar\":{\"outlinewidth\":0,\"ticks\":\"\"},\"type\":\"mesh3d\"}],\"parcoords\":[{\"line\":{\"colorbar\":{\"outlinewidth\":0,\"ticks\":\"\"}},\"type\":\"parcoords\"}],\"pie\":[{\"automargin\":true,\"type\":\"pie\"}],\"scatter\":[{\"marker\":{\"colorbar\":{\"outlinewidth\":0,\"ticks\":\"\"}},\"type\":\"scatter\"}],\"scatter3d\":[{\"line\":{\"colorbar\":{\"outlinewidth\":0,\"ticks\":\"\"}},\"marker\":{\"colorbar\":{\"outlinewidth\":0,\"ticks\":\"\"}},\"type\":\"scatter3d\"}],\"scattercarpet\":[{\"marker\":{\"colorbar\":{\"outlinewidth\":0,\"ticks\":\"\"}},\"type\":\"scattercarpet\"}],\"scattergeo\":[{\"marker\":{\"colorbar\":{\"outlinewidth\":0,\"ticks\":\"\"}},\"type\":\"scattergeo\"}],\"scattergl\":[{\"marker\":{\"colorbar\":{\"outlinewidth\":0,\"ticks\":\"\"}},\"type\":\"scattergl\"}],\"scattermapbox\":[{\"marker\":{\"colorbar\":{\"outlinewidth\":0,\"ticks\":\"\"}},\"type\":\"scattermapbox\"}],\"scatterpolar\":[{\"marker\":{\"colorbar\":{\"outlinewidth\":0,\"ticks\":\"\"}},\"type\":\"scatterpolar\"}],\"scatterpolargl\":[{\"marker\":{\"colorbar\":{\"outlinewidth\":0,\"ticks\":\"\"}},\"type\":\"scatterpolargl\"}],\"scatterternary\":[{\"marker\":{\"colorbar\":{\"outlinewidth\":0,\"ticks\":\"\"}},\"type\":\"scatterternary\"}],\"surface\":[{\"colorbar\":{\"outlinewidth\":0,\"ticks\":\"\"},\"colorscale\":[[0.0,\"#0d0887\"],[0.1111111111111111,\"#46039f\"],[0.2222222222222222,\"#7201a8\"],[0.3333333333333333,\"#9c179e\"],[0.4444444444444444,\"#bd3786\"],[0.5555555555555556,\"#d8576b\"],[0.6666666666666666,\"#ed7953\"],[0.7777777777777778,\"#fb9f3a\"],[0.8888888888888888,\"#fdca26\"],[1.0,\"#f0f921\"]],\"type\":\"surface\"}],\"table\":[{\"cells\":{\"fill\":{\"color\":\"#EBF0F8\"},\"line\":{\"color\":\"white\"}},\"header\":{\"fill\":{\"color\":\"#C8D4E3\"},\"line\":{\"color\":\"white\"}},\"type\":\"table\"}]},\"layout\":{\"annotationdefaults\":{\"arrowcolor\":\"#2a3f5f\",\"arrowhead\":0,\"arrowwidth\":1},\"autotypenumbers\":\"strict\",\"coloraxis\":{\"colorbar\":{\"outlinewidth\":0,\"ticks\":\"\"}},\"colorscale\":{\"diverging\":[[0,\"#8e0152\"],[0.1,\"#c51b7d\"],[0.2,\"#de77ae\"],[0.3,\"#f1b6da\"],[0.4,\"#fde0ef\"],[0.5,\"#f7f7f7\"],[0.6,\"#e6f5d0\"],[0.7,\"#b8e186\"],[0.8,\"#7fbc41\"],[0.9,\"#4d9221\"],[1,\"#276419\"]],\"sequential\":[[0.0,\"#0d0887\"],[0.1111111111111111,\"#46039f\"],[0.2222222222222222,\"#7201a8\"],[0.3333333333333333,\"#9c179e\"],[0.4444444444444444,\"#bd3786\"],[0.5555555555555556,\"#d8576b\"],[0.6666666666666666,\"#ed7953\"],[0.7777777777777778,\"#fb9f3a\"],[0.8888888888888888,\"#fdca26\"],[1.0,\"#f0f921\"]],\"sequentialminus\":[[0.0,\"#0d0887\"],[0.1111111111111111,\"#46039f\"],[0.2222222222222222,\"#7201a8\"],[0.3333333333333333,\"#9c179e\"],[0.4444444444444444,\"#bd3786\"],[0.5555555555555556,\"#d8576b\"],[0.6666666666666666,\"#ed7953\"],[0.7777777777777778,\"#fb9f3a\"],[0.8888888888888888,\"#fdca26\"],[1.0,\"#f0f921\"]]},\"colorway\":[\"#636efa\",\"#EF553B\",\"#00cc96\",\"#ab63fa\",\"#FFA15A\",\"#19d3f3\",\"#FF6692\",\"#B6E880\",\"#FF97FF\",\"#FECB52\"],\"font\":{\"color\":\"#2a3f5f\"},\"geo\":{\"bgcolor\":\"white\",\"lakecolor\":\"white\",\"landcolor\":\"#E5ECF6\",\"showlakes\":true,\"showland\":true,\"subunitcolor\":\"white\"},\"hoverlabel\":{\"align\":\"left\"},\"hovermode\":\"closest\",\"mapbox\":{\"style\":\"light\"},\"paper_bgcolor\":\"white\",\"plot_bgcolor\":\"#E5ECF6\",\"polar\":{\"angularaxis\":{\"gridcolor\":\"white\",\"linecolor\":\"white\",\"ticks\":\"\"},\"bgcolor\":\"#E5ECF6\",\"radialaxis\":{\"gridcolor\":\"white\",\"linecolor\":\"white\",\"ticks\":\"\"}},\"scene\":{\"xaxis\":{\"backgroundcolor\":\"#E5ECF6\",\"gridcolor\":\"white\",\"gridwidth\":2,\"linecolor\":\"white\",\"showbackground\":true,\"ticks\":\"\",\"zerolinecolor\":\"white\"},\"yaxis\":{\"backgroundcolor\":\"#E5ECF6\",\"gridcolor\":\"white\",\"gridwidth\":2,\"linecolor\":\"white\",\"showbackground\":true,\"ticks\":\"\",\"zerolinecolor\":\"white\"},\"zaxis\":{\"backgroundcolor\":\"#E5ECF6\",\"gridcolor\":\"white\",\"gridwidth\":2,\"linecolor\":\"white\",\"showbackground\":true,\"ticks\":\"\",\"zerolinecolor\":\"white\"}},\"shapedefaults\":{\"line\":{\"color\":\"#2a3f5f\"}},\"ternary\":{\"aaxis\":{\"gridcolor\":\"white\",\"linecolor\":\"white\",\"ticks\":\"\"},\"baxis\":{\"gridcolor\":\"white\",\"linecolor\":\"white\",\"ticks\":\"\"},\"bgcolor\":\"#E5ECF6\",\"caxis\":{\"gridcolor\":\"white\",\"linecolor\":\"white\",\"ticks\":\"\"}},\"title\":{\"x\":0.05},\"xaxis\":{\"automargin\":true,\"gridcolor\":\"white\",\"linecolor\":\"white\",\"ticks\":\"\",\"title\":{\"standoff\":15},\"zerolinecolor\":\"white\",\"zerolinewidth\":2},\"yaxis\":{\"automargin\":true,\"gridcolor\":\"white\",\"linecolor\":\"white\",\"ticks\":\"\",\"title\":{\"standoff\":15},\"zerolinecolor\":\"white\",\"zerolinewidth\":2}}},\"title\":{\"text\":\"Microsoft Stock\"}},                        {\"responsive\": true}                    ).then(function(){\n",
              "                            \n",
              "var gd = document.getElementById('fea2f0ff-c557-421e-945f-841897f3278a');\n",
              "var x = new MutationObserver(function (mutations, observer) {{\n",
              "        var display = window.getComputedStyle(gd).display;\n",
              "        if (!display || display === 'none') {{\n",
              "            console.log([gd, 'removed!']);\n",
              "            Plotly.purge(gd);\n",
              "            observer.disconnect();\n",
              "        }}\n",
              "}});\n",
              "\n",
              "// Listen for the removal of the full notebook cells\n",
              "var notebookContainer = gd.closest('#notebook-container');\n",
              "if (notebookContainer) {{\n",
              "    x.observe(notebookContainer, {childList: true});\n",
              "}}\n",
              "\n",
              "// Listen for the clearing of the current output cell\n",
              "var outputEl = gd.closest('.output');\n",
              "if (outputEl) {{\n",
              "    x.observe(outputEl, {childList: true});\n",
              "}}\n",
              "\n",
              "                        })                };                            </script>        </div>\n",
              "</body>\n",
              "</html>"
            ]
          },
          "metadata": {},
          "output_type": "display_data"
        }
      ],
      "source": [
        "layout"
      ]
    },
    {
      "cell_type": "markdown",
      "metadata": {
        "id": "FV9NlWvtfo78"
      },
      "source": [
        "------Con la opcion 2 de extracción de datos"
      ]
    },
    {
      "cell_type": "code",
      "execution_count": null,
      "metadata": {
        "id": "hUtmoxJPV7Ox"
      },
      "outputs": [],
      "source": [
        "graph = {\n",
        "    'x': df.index,\n",
        "    'open': df.Open,\n",
        "    'close': df.Close,\n",
        "    'high': df.High,\n",
        "    'low': df.Low,\n",
        "    'type': 'candlestick',\n",
        "    'name': 'FDX',\n",
        "    'showlegend': True\n",
        "}"
      ]
    },
    {
      "cell_type": "code",
      "execution_count": null,
      "metadata": {
        "id": "JGg62Y2QV_S_"
      },
      "outputs": [],
      "source": [
        "layout = go.Figure(\n",
        "    data = [graph],\n",
        "    layout_title=\"FedEx Stock\"\n",
        ")"
      ]
    },
    {
      "cell_type": "code",
      "execution_count": null,
      "metadata": {
        "colab": {
          "base_uri": "https://localhost:8080/",
          "height": 542
        },
        "id": "Kw-k6aUrWmN3",
        "outputId": "9af6cdc9-7dd6-48ee-8ebf-daea2c873db5"
      },
      "outputs": [
        {
          "data": {
            "text/html": [
              "<html>\n",
              "<head><meta charset=\"utf-8\" /></head>\n",
              "<body>\n",
              "    <div>            <script src=\"https://cdnjs.cloudflare.com/ajax/libs/mathjax/2.7.5/MathJax.js?config=TeX-AMS-MML_SVG\"></script><script type=\"text/javascript\">if (window.MathJax) {MathJax.Hub.Config({SVG: {font: \"STIX-Web\"}});}</script>                <script type=\"text/javascript\">window.PlotlyConfig = {MathJaxConfig: 'local'};</script>\n",
              "        <script src=\"https://cdn.plot.ly/plotly-2.8.3.min.js\"></script>                <div id=\"e5c14e91-1e45-4abd-9c7e-c833d6871bd8\" class=\"plotly-graph-div\" style=\"height:525px; width:100%;\"></div>            <script type=\"text/javascript\">                                    window.PLOTLYENV=window.PLOTLYENV || {};                                    if (document.getElementById(\"e5c14e91-1e45-4abd-9c7e-c833d6871bd8\")) {                    Plotly.newPlot(                        \"e5c14e91-1e45-4abd-9c7e-c833d6871bd8\",                        [{\"close\":[253.19000244140625,253.17999267578125,253.55999755859375,246.02999877929688,244.9600067138672,245.30999755859375,249.0399932861328,252.22000122070312,256.2699890136719,252.55999755859375,249.52000427246094,251.9600067138672,253.94000244140625,254.0800018310547,253.47999572753906,249.6699981689453,242.8300018310547,242.7899932861328,235.33999633789062,239.24000549316406,242.5,241.2899932861328,248.1199951171875,255.00999450683594,257.45001220703125,259.1300048828125,257.4599914550781,254.36000061035156,263.0,261.8299865722656,259.0899963378906,255.6300048828125,254.63999938964844,254.6699981689453,254.6300048828125,260.05999755859375,254.22000122070312,254.5,262.0899963378906,259.6000061035156,258.7699890136719,250.3000030517578,257.2900085449219,251.33999633789062,257.9200134277344,260.4200134277344,268.489990234375,270.20001220703125,266.8800048828125,260.79998779296875,265.8399963378906,263.510009765625,279.5799865722656,274.0199890136719,266.80999755859375,268.2900085449219,274.17999267578125,281.3399963378906,279.2200012207031,285.9200134277344,284.0400085449219,283.5400085449219,281.57000732421875,282.1700134277344,279.1099853515625,284.44000244140625,286.5799865722656,290.7900085449219,290.8900146484375,287.80999755859375,291.20001220703125,287.5899963378906,283.25,280.3399963378906,278.260009765625,276.5400085449219,277.739990234375,275.760009765625,287.510009765625,287.3900146484375,296.05999755859375,290.30999755859375,304.54998779296875,304.2799987792969,306.5299987792969,310.9599914550781,314.69000244140625,309.2699890136719,305.6400146484375,296.010009765625,303.3999938964844,309.42999267578125,309.260009765625,306.04998779296875,307.92999267578125,309.04998779296875,309.6000061035156,311.8399963378906,308.5899963378906,310.75,315.5899963378906,314.80999755859375,310.8500061035156,306.57000732421875,306.30999755859375,302.1199951171875,303.3399963378906,302.5799865722656,293.1099853515625,292.8399963378906,296.0899963378906,292.989990234375,299.29998779296875,294.67999267578125,287.57000732421875,285.32000732421875,293.1600036621094,297.69000244140625,297.3699951171875,303.69000244140625,291.95001220703125,293.989990234375,297.8900146484375,298.3299865722656,299.1199951171875,299.3800048828125,294.6099853515625,293.54998779296875,293.239990234375,296.3999938964844,299.6700134277344,299.0799865722656,295.8599853515625,296.0799865722656,292.489990234375,294.82000732421875,298.0199890136719,298.3500061035156,296.6199951171875,297.07000732421875,297.5,282.6300048828125,281.8299865722656,281.9200134277344,279.95001220703125,276.1600036621094,280.80999755859375,275.1199951171875,275.79998779296875,276.2699890136719,272.6700134277344,271.260009765625,276.2699890136719,276.1000061035156,277.17999267578125,281.6600036621094,277.8599853515625,272.760009765625,267.55999755859375,266.54998779296875,266.8999938964844,267.80999755859375,270.3699951171875,267.4599914550781,267.8999938964844,265.5400085449219,265.69000244140625,265.92999267578125,267.0899963378906,266.0400085449219,263.6400146484375,261.0199890136719,259.2200012207031,257.54998779296875,261.8599853515625,255.1999969482422,256.5899963378906,258.3800048828125,255.22000122070312,250.8000030517578,252.07000732421875,229.0800018310547,228.9199981689453,226.63999938964844,226.50999450683594,222.39999389648438,221.08999633789062,219.2899932861328,222.52999877929688,217.8699951171875,224.27000427246094,224.1999969482422,222.9499969482422,223.44000244140625,219.82000732421875,221.32000732421875,223.72999572753906,227.4499969482422,229.1199951171875,227.97999572753906,229.32000732421875,231.3000030517578,232.83999633789062,232.97999572753906,235.39999389648438,237.8300018310547,235.2899932861328,235.9600067138672,235.52999877929688,235.63999938964844,235.77000427246094,240.02000427246094,245.00999450683594,242.77000427246094,248.52999877929688,249.47999572753906,248.52000427246094,250.99000549316406,253.8800048828125,252.3000030517578,253.17999267578125,247.35000610351562,244.72000122070312,242.69000244140625,247.99000549316406,246.42999267578125,243.57000732421875,238.14999389648438,240.57000732421875,230.3699951171875,227.77999877929688,235.3000030517578,240.83999633789062,245.0500030517578,247.05999755859375,244.75,245.25,246.27999877929688,240.89999389648438,240.0399932861328,240.77999877929688,238.52000427246094,250.32000732421875,245.5500030517578,251.9499969482422,249.9600067138672,253.82000732421875,256.25,256.44000244140625,257.489990234375,258.55999755859375,258.6400146484375,258.54998779296875,264.9100036621094,262.1300048828125,263.19000244140625,263.989990234375,256.54998779296875,255.5399932861328,256.2099914550781,257.6700134277344,256.2200012207031,253.3300018310547,252.19000244140625,250.74000549316406,244.91000366210938,245.72000122070312,244.0399932861328,243.16000366210938,241.92999267578125,244.77999877929688,245.86000061035156,252.0,251.82000732421875,247.32000732421875,244.11000061035156,243.72999572753906,243.86000061035156,244.24000549316406,240.41000366210938,232.2100067138672,228.4600067138672,230.39999389648438,229.00999450683594,224.3699951171875,222.22999572753906,217.7899932861328,214.83999633789062,215.9199981689453,220.72000122070312,222.27000427246094,214.91000366210938,219.25,221.30999755859375,214.5399932861328,201.08999633789062,203.99000549316406,216.72000122070312,219.27999877929688,213.17999267578125,211.1300048828125,216.22999572753906,225.92999267578125,227.97999572753906,218.91000366210938,222.16000366210938,226.57000732421875,221.47000122070312,225.1199951171875,226.55999755859375,230.0500030517578,238.57000732421875,235.25,231.38999938964844,221.25,217.99000549316406,211.02999877929688,204.0,203.77000427246094,201.52000427246094,204.1199951171875,204.3800048828125,206.30999755859375,205.74000549316406,203.25999450683594,208.80999755859375,209.19000244140625,206.86000061035156,205.2100067138672,205.39999389648438,200.0,199.25999450683594,206.85000610351562,198.74000549316406,197.00999450683594,199.44000244140625,209.49000549316406,207.24000549316406,210.2100067138672,208.27000427246094,208.05999755859375,207.1999969482422,208.1999969482422,211.2899932861328,209.72000122070312,221.5,203.57000732421875,199.0500030517578,200.89999389648438,204.69000244140625,205.25,204.30999755859375,212.2899932861328,219.6699981689453,224.5800018310547,218.6699981689453,221.52000427246094,218.6999969482422,222.85000610351562,221.3699951171875,217.1699981689453,217.0,206.77000427246094,200.97999572753906,229.9499969482422,232.77999877929688,225.30999755859375,229.89999389648438,230.52000427246094,229.02000427246094,228.1300048828125,243.24000549316406,240.47000122070312,240.08999633789062,233.80999755859375,226.7100067138672,223.61000061035156,229.61000061035156,227.72000122070312,231.35000610351562,230.49000549316406,224.19000244140625,222.97999572753906,216.1300048828125,214.2899932861328,217.8300018310547,217.97999572753906,225.42999267578125,227.66000366210938,227.66000366210938,227.3000030517578,228.1699981689453,224.8699951171875,227.6300048828125,229.80999755859375,233.08999633789062,237.6999969482422,233.27000427246094,233.19000244140625,236.10000610351562,234.88999938964844,229.02000427246094,224.97000122070312,232.4499969482422,229.24000549316406,230.67999267578125,233.2100067138672,238.22000122070312,233.4199981689453,234.8699951171875,231.72999572753906,223.57000732421875,225.25999450683594,226.05999755859375,228.02999877929688,218.16000366210938,216.72999572753906,213.47999572753906,210.80999755859375,211.86000061035156],\"high\":[260.5,254.77000427246094,258.9800109863281,256.2099914550781,247.36000061035156,246.4600067138672,249.6199951171875,253.8699951171875,258.3399963378906,255.75999450683594,256.3999938964844,252.35000610351562,257.2799987792969,255.44000244140625,254.77999877929688,254.83999633789062,246.39999389648438,246.2899932861328,243.3800048828125,239.75,246.58999633789062,243.60000610351562,248.17999267578125,255.39999389648438,259.3800048828125,260.5,261.8399963378906,258.0799865722656,263.1300048828125,265.4599914550781,260.4800109863281,258.489990234375,259.3800048828125,257.3999938964844,255.22999572753906,261.2900085449219,262.9700012207031,257.4599914550781,265.29998779296875,263.6499938964844,262.70001220703125,258.42999267578125,258.2099914550781,261.3399963378906,262.1099853515625,261.80999755859375,270.1600036621094,271.19000244140625,272.8500061035156,267.0299987792969,266.17999267578125,269.2699890136719,282.92999267578125,279.79998779296875,276.95001220703125,274.2699890136719,275.0199890136719,281.489990234375,281.95001220703125,288.1499938964844,287.8800048828125,285.0,286.6099853515625,284.44000244140625,282.44000244140625,284.44000244140625,287.0,293.0899963378906,294.760009765625,291.1499938964844,292.3999938964844,293.0,286.6700134277344,283.79998779296875,281.07000732421875,281.07000732421875,279.19000244140625,279.8699951171875,292.20001220703125,289.1499938964844,296.29998779296875,295.6000061035156,305.3999938964844,305.20001220703125,309.989990234375,311.9599914550781,315.1000061035156,317.0,307.8800048828125,304.760009765625,305.32000732421875,310.5,311.55999755859375,310.2799987792969,308.42999267578125,311.95001220703125,315.2900085449219,313.5199890136719,313.3800048828125,312.8299865722656,319.8999938964844,316.75,318.5400085449219,313.0,307.7799987792969,308.0,304.2099914550781,303.4800109863281,302.6199951171875,295.5899963378906,296.1700134277344,297.1700134277344,299.8800048828125,299.3900146484375,294.739990234375,289.5299987792969,295.0299987792969,299.1199951171875,300.6499938964844,304.5899963378906,294.75,294.6499938964844,299.5,298.6199951171875,300.1000061035156,299.8999938964844,299.6300048828125,295.1499938964844,294.6199951171875,298.20001220703125,302.239990234375,302.6499938964844,300.8599853515625,298.739990234375,297.0,295.3399963378906,299.0400085449219,301.95001220703125,298.8500061035156,298.6600036621094,298.5,288.3800048828125,284.29998779296875,284.6499938964844,282.0,282.6099853515625,281.7099914550781,280.2900085449219,277.7799987792969,278.45001220703125,275.9800109863281,274.3699951171875,277.1600036621094,278.6099853515625,278.75,282.8800048828125,280.5,277.6300048828125,270.7300109863281,268.5,269.1400146484375,269.0799865722656,271.8500061035156,269.94000244140625,269.25,268.8500061035156,266.92999267578125,267.44000244140625,268.9800109863281,268.5799865722656,267.3699951171875,263.2900085449219,262.7300109863281,262.2200012207031,261.8999938964844,262.9599914550781,259.6499938964844,259.4100036621094,257.7099914550781,253.97999572753906,253.8800048828125,234.97999572753906,231.2899932861328,229.0,229.25,228.0500030517578,224.24000549316406,223.1699981689453,224.10000610351562,224.0,226.4600067138672,224.94000244140625,227.66000366210938,223.94000244140625,224.5800018310547,222.0800018310547,225.42999267578125,228.57000732421875,229.5,229.75,230.38999938964844,231.9600067138672,233.36000061035156,234.6999969482422,236.27999877929688,241.2899932861328,240.0,236.13999938964844,238.3699951171875,237.41000366210938,237.3800048828125,240.47999572753906,245.5500030517578,246.77999877929688,249.63999938964844,250.49000549316406,250.6999969482422,253.1999969482422,254.8800048828125,255.25,255.3000030517578,253.32000732421875,248.97999572753906,246.1999969482422,251.10000610351562,247.6999969482422,246.88999938964844,239.41000366210938,241.58999633789062,239.00999450683594,238.19000244140625,237.22999572753906,241.36000061035156,246.97999572753906,248.99000549316406,247.5500030517578,247.3699951171875,248.3000030517578,245.47999572753906,244.8800048828125,242.24000549316406,244.75,260.5,252.8800048828125,252.75999450683594,252.74000549316406,256.2300109863281,257.20001220703125,258.3599853515625,258.510009765625,260.2099914550781,260.239990234375,261.69000244140625,265.94000244140625,266.7900085449219,265.010009765625,266.6099853515625,262.6199951171875,257.3900146484375,259.010009765625,260.1099853515625,256.6600036621094,254.24000549316406,255.80999755859375,256.0,249.99000549316406,245.9499969482422,246.74000549316406,248.25,247.63999938964844,244.91000366210938,246.16000366210938,256.489990234375,253.5,251.3800048828125,247.07000732421875,245.5399932861328,246.32000732421875,248.60000610351562,243.82000732421875,240.5,232.22000122070312,234.1699981689453,230.38999938964844,227.86000061035156,225.07000732421875,221.64999389648438,220.0399932861328,216.57000732421875,222.63999938964844,222.63999938964844,221.9499969482422,222.5800018310547,224.9499969482422,219.0,213.3699951171875,209.3699951171875,218.41000366210938,219.72000122070312,220.41000366210938,214.9199981689453,217.5800018310547,226.02000427246094,229.4199981689453,220.19000244140625,223.1999969482422,228.6999969482422,226.07000732421875,225.4499969482422,227.0500030517578,230.16000366210938,241.57000732421875,238.19000244140625,235.8300018310547,231.67999267578125,220.86000061035156,218.83999633789062,209.5,205.0399932861328,203.67999267578125,207.64999389648438,207.1699981689453,207.5500030517578,208.5,206.97999572753906,210.08999633789062,214.07000732421875,210.75,207.91000366210938,205.8000030517578,205.2899932861328,201.55999755859375,207.07000732421875,208.8699951171875,200.47999572753906,200.60000610351562,210.02999877929688,210.5500030517578,212.44000244140625,212.5800018310547,211.5500030517578,212.1699981689453,208.33999633789062,215.05999755859375,211.94000244140625,222.52000427246094,218.5500030517578,203.1699981689453,201.9600067138672,206.97000122070312,206.0,205.4499969482422,213.60000610351562,220.10000610351562,225.91000366210938,226.3300018310547,224.41000366210938,221.27000427246094,225.14999389648438,221.97000122070312,220.52999877929688,221.36000061035156,215.1199951171875,205.0500030517578,232.2899932861328,239.2100067138672,227.4199981689453,231.42999267578125,236.5,231.75,230.25,248.75999450683594,247.92999267578125,248.14999389648438,242.0,230.91000366210938,224.58999633789062,230.97000122070312,230.1699981689453,231.86000061035156,232.92999267578125,231.25,227.52000427246094,220.9199981689453,214.4600067138672,218.72000122070312,221.75,226.1300048828125,228.5500030517578,228.38999938964844,230.30999755859375,230.5800018310547,226.64999389648438,228.83999633789062,230.32000732421875,233.97999572753906,239.74000549316406,236.63999938964844,236.08999633789062,236.30999755859375,238.8699951171875,236.16000366210938,227.9199981689453,234.5500030517578,234.0,230.74000549316406,234.17999267578125,240.89999389648438,236.80999755859375,235.39999389648438,234.5399932861328,227.89999389648438,226.33999633789062,227.41000366210938,228.97000122070312,229.39999389648438,218.44000244140625,218.99000549316406,214.99000549316406,212.10000610351562],\"low\":[250.89999389648438,250.0500030517578,250.3800048828125,245.4499969482422,242.4199981689453,242.72000122070312,243.0,248.1999969482422,253.39999389648438,250.97999572753906,248.89999389648438,247.6199951171875,252.3699951171875,250.00999450683594,248.2899932861328,249.33999633789062,240.61000061035156,242.6199951171875,234.7899932861328,235.32000732421875,240.8300018310547,239.35000610351562,240.8699951171875,249.0,255.57000732421875,254.0,256.25,251.55999755859375,254.00999450683594,261.1099853515625,255.41000366210938,253.0,253.77999877929688,253.10000610351562,245.3800048828125,254.00999450683594,253.27999877929688,250.5,258.29998779296875,259.4800109863281,255.4600067138672,247.08999633789062,245.5500030517578,251.00999450683594,252.25,258.05999755859375,262.30999755859375,265.260009765625,263.7900085449219,260.29998779296875,257.0899963378906,262.8999938964844,275.2900085449219,271.67999267578125,265.54998779296875,267.3999938964844,263.94000244140625,274.6000061035156,276.6400146484375,278.30999755859375,282.8299865722656,281.7900085449219,280.57000732421875,280.70001220703125,276.69000244140625,279.75,281.7799987792969,285.1400146484375,289.1099853515625,287.57000732421875,286.6700134277344,287.1300048828125,282.0899963378906,277.3399963378906,277.0899963378906,276.3800048828125,276.9700012207031,274.20001220703125,284.3299865722656,285.4200134277344,289.2300109863281,289.0,294.20001220703125,299.32000732421875,302.25,303.4800109863281,308.0,309.2699890136719,300.57000732421875,294.7900085449219,296.489990234375,305.2300109863281,306.67999267578125,306.04998779296875,299.9100036621094,306.760009765625,309.3900146484375,309.25,307.7099914550781,308.0199890136719,311.8599853515625,313.010009765625,310.0799865722656,303.8299865722656,302.17999267578125,299.6600036621094,299.2099914550781,298.6199951171875,290.4599914550781,291.2099914550781,293.260009765625,292.0400085449219,293.8999938964844,292.4700012207031,285.5899963378906,282.010009765625,287.79998779296875,293.8500061035156,296.1600036621094,298.9800109863281,286.5199890136719,289.44000244140625,294.8500061035156,295.0,296.82000732421875,297.3699951171875,292.6000061035156,291.239990234375,285.8500061035156,293.17999267578125,294.6000061035156,298.69000244140625,294.6000061035156,293.6700134277344,292.0899963378906,286.32000732421875,294.45001220703125,297.3299865722656,296.05999755859375,296.0899963378906,295.6499938964844,279.1199951171875,280.2799987792969,281.19000244140625,277.7900085449219,275.3900146484375,274.25,275.0799865722656,274.6700134277344,275.0299987792969,272.55999755859375,270.9599914550781,271.260009765625,273.69000244140625,274.760009765625,275.1600036621094,274.7900085449219,272.4200134277344,265.0400085449219,264.07000732421875,266.6700134277344,266.29998779296875,267.30999755859375,266.7900085449219,266.9100036621094,265.44000244140625,264.67999267578125,263.5400085449219,266.25,264.8900146484375,262.9599914550781,258.8399963378906,257.2900085449219,257.239990234375,257.75,254.7100067138672,254.8800048828125,256.0400085449219,254.08999633789062,248.16000366210938,248.77999877929688,228.97999572753906,228.0800018310547,226.60000610351562,225.67999267578125,221.75999450683594,220.8000030517578,219.02999877929688,218.17999267578125,217.25999450683594,216.33999633789062,219.8300018310547,222.47999572753906,221.4199981689453,219.36000061035156,219.67999267578125,219.50999450683594,225.77000427246094,227.3300018310547,226.67999267578125,227.67999267578125,229.16000366210938,230.6300048828125,232.36000061035156,232.5,236.89999389648438,235.0800018310547,233.14999389648438,233.5500030517578,234.69000244140625,235.0,234.6199951171875,240.6699981689453,241.44000244140625,244.6199951171875,246.10000610351562,246.58999633789062,248.72999572753906,250.9600067138672,250.25,251.67999267578125,247.1699981689453,241.24000549316406,242.5399932861328,242.0399932861328,244.3800048828125,243.55999755859375,235.50999450683594,237.0800018310547,229.91000366210938,227.61000061035156,227.39999389648438,236.3800048828125,242.22000122070312,246.1999969482422,243.77999877929688,243.10000610351562,244.5,240.5,239.36000061035156,239.00999450683594,238.4199981689453,248.05999755859375,245.4499969482422,247.82000732421875,249.3000030517578,250.64999389648438,254.35000610351562,255.47999572753906,256.239990234375,257.5,256.92999267578125,256.9599914550781,259.30999755859375,261.8599853515625,260.1300048828125,262.0400085449219,252.50999450683594,252.13999938964844,254.77999877929688,256.29998779296875,253.25999450683594,250.25,252.17999267578125,250.63999938964844,243.94000244140625,236.85000610351562,239.00999450683594,241.22000122070312,239.67999267578125,239.1300048828125,241.0,251.3000030517578,248.85000610351562,247.05999755859375,242.0399932861328,242.6199951171875,243.0,243.61000061035156,239.5399932861328,231.22999572753906,226.97000122070312,230.00999450683594,224.4199981689453,224.10000610351562,220.80999755859375,216.3300018310547,214.75,206.30999755859375,216.16000366210938,215.7100067138672,212.63999938964844,214.3000030517578,220.1999969482422,212.3000030517578,200.63999938964844,199.02999877929688,209.0,212.35000610351562,212.72999572753906,208.80999755859375,211.92999267578125,218.75,220.38999938964844,212.92999267578125,217.47000122070312,222.49000549316406,221.05999755859375,220.61000061035156,223.9600067138672,225.6199951171875,236.0500030517578,234.14999389648438,231.27999877929688,221.0,216.74000549316406,210.6699981689453,203.5500030517578,199.2100067138672,199.58999633789062,199.61000061035156,202.3300018310547,203.08999633789062,204.9499969482422,201.97000122070312,204.27000427246094,209.0800018310547,205.5,204.25999450683594,197.6999969482422,198.22999572753906,196.14999389648438,200.58999633789062,198.0,192.82000732421875,195.60000610351562,199.1300048828125,204.92999267578125,203.25,205.67999267578125,202.89999389648438,206.42999267578125,202.30999755859375,208.6199951171875,208.35000610351562,213.92999267578125,202.61000061035156,195.5399932861328,195.42999267578125,200.63999938964844,197.27999877929688,198.82000732421875,206.80999755859375,212.88999938964844,215.1699981689453,216.25999450683594,218.25,217.74000549316406,219.9499969482422,216.58999633789062,215.72999572753906,215.39999389648438,206.6300048828125,198.4199981689453,219.5800018310547,229.35000610351562,223.41000366210938,222.86000061035156,228.86000061035156,227.13999938964844,224.36000061035156,236.33999633789062,240.1999969482422,239.6199951171875,226.6999969482422,222.97999572753906,217.7100067138672,218.72000122070312,225.00999450683594,225.74000549316406,228.0,223.83999633789062,221.8000030517578,214.8800048828125,210.41000366210938,215.00999450683594,217.10000610351562,218.8300018310547,224.24000549316406,225.7100067138672,225.38999938964844,226.82000732421875,221.11000061035156,221.6699981689453,227.3000030517578,225.8699951171875,232.0,231.52999877929688,231.72999572753906,233.35000610351562,233.5,228.5399932861328,222.86000061035156,229.00999450683594,228.5,227.86000061035156,228.9499969482422,232.66000366210938,232.83999633789062,232.0,230.24000549316406,222.89999389648438,222.9499969482422,222.89999389648438,225.00999450683594,218.02000427246094,214.74000549316406,212.61000061035156,210.4199981689453,206.97000122070312],\"name\":\"FDX\",\"open\":[260.3999938964844,251.5,250.4600067138672,254.08999633789062,246.52000427246094,243.0,246.0800018310547,250.5,254.25999450683594,255.75999450683594,253.92999267578125,251.19000244140625,253.77000427246094,252.0,252.4499969482422,254.1999969482422,245.61000061035156,246.00999450683594,242.9600067138672,237.3800048828125,246.38999938964844,242.60000610351562,241.3800048828125,251.0,256.760009765625,257.2699890136719,261.7200012207031,258.0,255.08999633789062,264.0,259.8699951171875,255.50999450683594,258.0299987792969,253.24000549316406,253.5,254.36000061035156,260.07000732421875,254.92999267578125,258.7099914550781,262.7300109863281,258.9800109863281,256.55999755859375,252.19000244140625,260.0,253.19000244140625,259.1300048828125,263.5400085449219,267.260009765625,271.0,267.0,259.0,267.82000732421875,279.04998779296875,279.5799865722656,271.4100036621094,269.0,266.20001220703125,277.70001220703125,278.0,279.3699951171875,286.0,283.5400085449219,286.0,281.6600036621094,281.489990234375,282.8999938964844,282.8999938964844,285.6300048828125,294.7300109863281,289.510009765625,288.8299865722656,292.8999938964844,286.05999755859375,282.4200134277344,279.04998779296875,277.3299865722656,278.5199890136719,279.30999755859375,286.55999755859375,286.6499938964844,290.0,293.5199890136719,294.8900146484375,302.70001220703125,305.8900146484375,305.2900085449219,308.0,314.67999267578125,304.6000061035156,302.17999267578125,297.05999755859375,305.2300109863281,310.0,309.69000244140625,304.0,309.1400146484375,310.42999267578125,313.5199890136719,313.0,310.7200012207031,312.510009765625,316.0,318.2699890136719,313.0,305.3900146484375,306.7799987792969,303.0,302.79998779296875,302.5799865722656,293.5899963378906,293.260009765625,296.7200012207031,294.989990234375,298.4700012207031,294.489990234375,284.1499938964844,287.9599914550781,294.9200134277344,300.0,301.70001220703125,292.739990234375,293.0,296.0,296.0299987792969,299.95001220703125,299.8999938964844,299.3800048828125,294.0,287.1600036621094,295.80999755859375,297.2799987792969,298.989990234375,298.6499938964844,294.0,296.70001220703125,287.5299987792969,295.4100036621094,297.510009765625,297.54998779296875,297.79998779296875,296.0899963378906,287.5,284.2099914550781,281.8299865722656,280.0,280.7900085449219,276.2799987792969,279.3299865722656,275.8999938964844,276.6700134277344,275.04998779296875,272.5,272.4200134277344,276.5,275.2300109863281,276.79998779296875,279.2099914550781,276.05999755859375,270.0,266.3999938964844,268.0,266.7799987792969,268.0,269.94000244140625,267.45001220703125,268.75,266.05999755859375,266.0899963378906,266.30999755859375,266.54998779296875,266.30999755859375,263.25,259.1300048828125,261.5400085449219,259.4599914550781,262.2099914550781,256.30999755859375,257.9700012207031,255.39999389648438,252.11000061035156,253.0,234.17999267578125,229.07000732421875,228.0,226.0,225.82000732421875,223.0,221.58999633789062,220.00999450683594,221.24000549316406,217.5,222.0800018310547,227.0,222.39999389648438,224.02999877929688,219.82000732421875,222.02000427246094,226.39999389648438,228.35000610351562,228.02000427246094,229.14999389648438,230.3300018310547,231.3000030517578,232.8699951171875,233.33999633789062,238.99000549316406,238.5,235.55999755859375,233.9199981689453,237.27999877929688,236.47000122070312,235.4199981689453,241.74000549316406,246.55999755859375,244.82000732421875,250.0,247.7100067138672,249.4199981689453,251.94000244140625,254.5,252.0,252.61000061035156,247.94000244140625,244.97999572753906,242.69000244140625,247.0,245.0,237.30999755859375,240.0,238.1999969482422,235.0,227.7899932861328,236.6300048828125,243.0,247.1300048828125,247.5500030517578,243.5,245.7899932861328,244.72000122070312,240.0,240.0399932861328,242.57000732421875,253.74000549316406,250.3000030517578,248.27999877929688,252.35000610351562,250.8699951171875,254.99000549316406,256.0199890136719,256.4800109863281,257.8900146484375,257.57000732421875,259.79998779296875,259.6499938964844,265.0,261.989990234375,262.69000244140625,262.6199951171875,256.54998779296875,256.0799865722656,257.2099914550781,254.58999633789062,252.66000366210938,253.3300018310547,253.72000122070312,249.6300048828125,239.55999755859375,241.74000549316406,245.80999755859375,245.25,241.13999938964844,244.02999877929688,254.77999877929688,253.44000244140625,249.8800048828125,246.24000549316406,244.89999389648438,244.74000549316406,245.7899932861328,242.3800048828125,240.0500030517578,231.3300018310547,231.72000122070312,229.0,227.42999267578125,223.6300048828125,220.14999389648438,218.67999267578125,208.0,216.5399932861328,217.17999267578125,221.0399932861328,216.44000244140625,222.6300048828125,218.0,212.0,202.5800018310547,209.0,212.8000030517578,220.0,212.50999450683594,214.7899932861328,218.9199981689453,221.72999572753906,220.0,217.72000122070312,223.08999633789062,224.74000549316406,222.67999267578125,225.99000549316406,226.83999633789062,236.75,237.25,233.32000732421875,231.38999938964844,218.38999938964844,215.3300018310547,209.5,203.72000122070312,202.08999633789062,199.61000061035156,204.1300048828125,204.39999389648438,207.0500030517578,205.52000427246094,204.5500030517578,210.5399932861328,209.97999572753906,205.6199951171875,204.0500030517578,204.47000122070312,198.22000122070312,201.82000732421875,205.33999633789062,198.94000244140625,197.25999450683594,200.60000610351562,207.0,206.4199981689453,207.32000732421875,210.27999877929688,207.7100067138672,205.32000732421875,208.69000244140625,210.47000122070312,214.47000122070312,217.22000122070312,201.08999633789062,201.9600067138672,202.19000244140625,202.64999389648438,202.72999572753906,207.25999450683594,212.88999938964844,217.77999877929688,225.0,218.58999633789062,219.88999938964844,221.0,218.92999267578125,217.8800048828125,217.1999969482422,214.13999938964844,201.5,220.39999389648438,230.75,226.36000061035156,224.10000610351562,234.14999389648438,227.14999389648438,229.5,237.02000427246094,246.94000244140625,244.0,241.0,229.63999938964844,222.58999633789062,220.60000610351562,227.94000244140625,230.19000244140625,232.2100067138672,228.64999389648438,223.3300018310547,220.66000366210938,211.80999755859375,217.27000427246094,219.11000061035156,219.5800018310547,225.9199981689453,226.4499969482422,228.8000030517578,229.47999572753906,223.0,225.61000061035156,228.00999450683594,229.1199951171875,232.05999755859375,235.8800048828125,234.85000610351562,233.7899932861328,234.66000366210938,236.0,227.9199981689453,229.82000732421875,233.49000549316406,230.07000732421875,229.0399932861328,233.13999938964844,235.4199981689453,233.24000549316406,234.1699981689453,227.3800048828125,223.33999633789062,224.8800048828125,226.82000732421875,228.3800048828125,216.1999969482422,218.33999633789062,214.42999267578125,209.4499969482422],\"showlegend\":true,\"x\":[\"2021-01-04T00:00:00\",\"2021-01-05T00:00:00\",\"2021-01-06T00:00:00\",\"2021-01-07T00:00:00\",\"2021-01-08T00:00:00\",\"2021-01-11T00:00:00\",\"2021-01-12T00:00:00\",\"2021-01-13T00:00:00\",\"2021-01-14T00:00:00\",\"2021-01-15T00:00:00\",\"2021-01-19T00:00:00\",\"2021-01-20T00:00:00\",\"2021-01-21T00:00:00\",\"2021-01-22T00:00:00\",\"2021-01-25T00:00:00\",\"2021-01-26T00:00:00\",\"2021-01-27T00:00:00\",\"2021-01-28T00:00:00\",\"2021-01-29T00:00:00\",\"2021-02-01T00:00:00\",\"2021-02-02T00:00:00\",\"2021-02-03T00:00:00\",\"2021-02-04T00:00:00\",\"2021-02-05T00:00:00\",\"2021-02-08T00:00:00\",\"2021-02-09T00:00:00\",\"2021-02-10T00:00:00\",\"2021-02-11T00:00:00\",\"2021-02-12T00:00:00\",\"2021-02-16T00:00:00\",\"2021-02-17T00:00:00\",\"2021-02-18T00:00:00\",\"2021-02-19T00:00:00\",\"2021-02-22T00:00:00\",\"2021-02-23T00:00:00\",\"2021-02-24T00:00:00\",\"2021-02-25T00:00:00\",\"2021-02-26T00:00:00\",\"2021-03-01T00:00:00\",\"2021-03-02T00:00:00\",\"2021-03-03T00:00:00\",\"2021-03-04T00:00:00\",\"2021-03-05T00:00:00\",\"2021-03-08T00:00:00\",\"2021-03-09T00:00:00\",\"2021-03-10T00:00:00\",\"2021-03-11T00:00:00\",\"2021-03-12T00:00:00\",\"2021-03-15T00:00:00\",\"2021-03-16T00:00:00\",\"2021-03-17T00:00:00\",\"2021-03-18T00:00:00\",\"2021-03-19T00:00:00\",\"2021-03-22T00:00:00\",\"2021-03-23T00:00:00\",\"2021-03-24T00:00:00\",\"2021-03-25T00:00:00\",\"2021-03-26T00:00:00\",\"2021-03-29T00:00:00\",\"2021-03-30T00:00:00\",\"2021-03-31T00:00:00\",\"2021-04-01T00:00:00\",\"2021-04-05T00:00:00\",\"2021-04-06T00:00:00\",\"2021-04-07T00:00:00\",\"2021-04-08T00:00:00\",\"2021-04-09T00:00:00\",\"2021-04-12T00:00:00\",\"2021-04-13T00:00:00\",\"2021-04-14T00:00:00\",\"2021-04-15T00:00:00\",\"2021-04-16T00:00:00\",\"2021-04-19T00:00:00\",\"2021-04-20T00:00:00\",\"2021-04-21T00:00:00\",\"2021-04-22T00:00:00\",\"2021-04-23T00:00:00\",\"2021-04-26T00:00:00\",\"2021-04-27T00:00:00\",\"2021-04-28T00:00:00\",\"2021-04-29T00:00:00\",\"2021-04-30T00:00:00\",\"2021-05-03T00:00:00\",\"2021-05-04T00:00:00\",\"2021-05-05T00:00:00\",\"2021-05-06T00:00:00\",\"2021-05-07T00:00:00\",\"2021-05-10T00:00:00\",\"2021-05-11T00:00:00\",\"2021-05-12T00:00:00\",\"2021-05-13T00:00:00\",\"2021-05-14T00:00:00\",\"2021-05-17T00:00:00\",\"2021-05-18T00:00:00\",\"2021-05-19T00:00:00\",\"2021-05-20T00:00:00\",\"2021-05-21T00:00:00\",\"2021-05-24T00:00:00\",\"2021-05-25T00:00:00\",\"2021-05-26T00:00:00\",\"2021-05-27T00:00:00\",\"2021-05-28T00:00:00\",\"2021-06-01T00:00:00\",\"2021-06-02T00:00:00\",\"2021-06-03T00:00:00\",\"2021-06-04T00:00:00\",\"2021-06-07T00:00:00\",\"2021-06-08T00:00:00\",\"2021-06-09T00:00:00\",\"2021-06-10T00:00:00\",\"2021-06-11T00:00:00\",\"2021-06-14T00:00:00\",\"2021-06-15T00:00:00\",\"2021-06-16T00:00:00\",\"2021-06-17T00:00:00\",\"2021-06-18T00:00:00\",\"2021-06-21T00:00:00\",\"2021-06-22T00:00:00\",\"2021-06-23T00:00:00\",\"2021-06-24T00:00:00\",\"2021-06-25T00:00:00\",\"2021-06-28T00:00:00\",\"2021-06-29T00:00:00\",\"2021-06-30T00:00:00\",\"2021-07-01T00:00:00\",\"2021-07-02T00:00:00\",\"2021-07-06T00:00:00\",\"2021-07-07T00:00:00\",\"2021-07-08T00:00:00\",\"2021-07-09T00:00:00\",\"2021-07-12T00:00:00\",\"2021-07-13T00:00:00\",\"2021-07-14T00:00:00\",\"2021-07-15T00:00:00\",\"2021-07-16T00:00:00\",\"2021-07-19T00:00:00\",\"2021-07-20T00:00:00\",\"2021-07-21T00:00:00\",\"2021-07-22T00:00:00\",\"2021-07-23T00:00:00\",\"2021-07-26T00:00:00\",\"2021-07-27T00:00:00\",\"2021-07-28T00:00:00\",\"2021-07-29T00:00:00\",\"2021-07-30T00:00:00\",\"2021-08-02T00:00:00\",\"2021-08-03T00:00:00\",\"2021-08-04T00:00:00\",\"2021-08-05T00:00:00\",\"2021-08-06T00:00:00\",\"2021-08-09T00:00:00\",\"2021-08-10T00:00:00\",\"2021-08-11T00:00:00\",\"2021-08-12T00:00:00\",\"2021-08-13T00:00:00\",\"2021-08-16T00:00:00\",\"2021-08-17T00:00:00\",\"2021-08-18T00:00:00\",\"2021-08-19T00:00:00\",\"2021-08-20T00:00:00\",\"2021-08-23T00:00:00\",\"2021-08-24T00:00:00\",\"2021-08-25T00:00:00\",\"2021-08-26T00:00:00\",\"2021-08-27T00:00:00\",\"2021-08-30T00:00:00\",\"2021-08-31T00:00:00\",\"2021-09-01T00:00:00\",\"2021-09-02T00:00:00\",\"2021-09-03T00:00:00\",\"2021-09-07T00:00:00\",\"2021-09-08T00:00:00\",\"2021-09-09T00:00:00\",\"2021-09-10T00:00:00\",\"2021-09-13T00:00:00\",\"2021-09-14T00:00:00\",\"2021-09-15T00:00:00\",\"2021-09-16T00:00:00\",\"2021-09-17T00:00:00\",\"2021-09-20T00:00:00\",\"2021-09-21T00:00:00\",\"2021-09-22T00:00:00\",\"2021-09-23T00:00:00\",\"2021-09-24T00:00:00\",\"2021-09-27T00:00:00\",\"2021-09-28T00:00:00\",\"2021-09-29T00:00:00\",\"2021-09-30T00:00:00\",\"2021-10-01T00:00:00\",\"2021-10-04T00:00:00\",\"2021-10-05T00:00:00\",\"2021-10-06T00:00:00\",\"2021-10-07T00:00:00\",\"2021-10-08T00:00:00\",\"2021-10-11T00:00:00\",\"2021-10-12T00:00:00\",\"2021-10-13T00:00:00\",\"2021-10-14T00:00:00\",\"2021-10-15T00:00:00\",\"2021-10-18T00:00:00\",\"2021-10-19T00:00:00\",\"2021-10-20T00:00:00\",\"2021-10-21T00:00:00\",\"2021-10-22T00:00:00\",\"2021-10-25T00:00:00\",\"2021-10-26T00:00:00\",\"2021-10-27T00:00:00\",\"2021-10-28T00:00:00\",\"2021-10-29T00:00:00\",\"2021-11-01T00:00:00\",\"2021-11-02T00:00:00\",\"2021-11-03T00:00:00\",\"2021-11-04T00:00:00\",\"2021-11-05T00:00:00\",\"2021-11-08T00:00:00\",\"2021-11-09T00:00:00\",\"2021-11-10T00:00:00\",\"2021-11-11T00:00:00\",\"2021-11-12T00:00:00\",\"2021-11-15T00:00:00\",\"2021-11-16T00:00:00\",\"2021-11-17T00:00:00\",\"2021-11-18T00:00:00\",\"2021-11-19T00:00:00\",\"2021-11-22T00:00:00\",\"2021-11-23T00:00:00\",\"2021-11-24T00:00:00\",\"2021-11-26T00:00:00\",\"2021-11-29T00:00:00\",\"2021-11-30T00:00:00\",\"2021-12-01T00:00:00\",\"2021-12-02T00:00:00\",\"2021-12-03T00:00:00\",\"2021-12-06T00:00:00\",\"2021-12-07T00:00:00\",\"2021-12-08T00:00:00\",\"2021-12-09T00:00:00\",\"2021-12-10T00:00:00\",\"2021-12-13T00:00:00\",\"2021-12-14T00:00:00\",\"2021-12-15T00:00:00\",\"2021-12-16T00:00:00\",\"2021-12-17T00:00:00\",\"2021-12-20T00:00:00\",\"2021-12-21T00:00:00\",\"2021-12-22T00:00:00\",\"2021-12-23T00:00:00\",\"2021-12-27T00:00:00\",\"2021-12-28T00:00:00\",\"2021-12-29T00:00:00\",\"2021-12-30T00:00:00\",\"2021-12-31T00:00:00\",\"2022-01-03T00:00:00\",\"2022-01-04T00:00:00\",\"2022-01-05T00:00:00\",\"2022-01-06T00:00:00\",\"2022-01-07T00:00:00\",\"2022-01-10T00:00:00\",\"2022-01-11T00:00:00\",\"2022-01-12T00:00:00\",\"2022-01-13T00:00:00\",\"2022-01-14T00:00:00\",\"2022-01-18T00:00:00\",\"2022-01-19T00:00:00\",\"2022-01-20T00:00:00\",\"2022-01-21T00:00:00\",\"2022-01-24T00:00:00\",\"2022-01-25T00:00:00\",\"2022-01-26T00:00:00\",\"2022-01-27T00:00:00\",\"2022-01-28T00:00:00\",\"2022-01-31T00:00:00\",\"2022-02-01T00:00:00\",\"2022-02-02T00:00:00\",\"2022-02-03T00:00:00\",\"2022-02-04T00:00:00\",\"2022-02-07T00:00:00\",\"2022-02-08T00:00:00\",\"2022-02-09T00:00:00\",\"2022-02-10T00:00:00\",\"2022-02-11T00:00:00\",\"2022-02-14T00:00:00\",\"2022-02-15T00:00:00\",\"2022-02-16T00:00:00\",\"2022-02-17T00:00:00\",\"2022-02-18T00:00:00\",\"2022-02-22T00:00:00\",\"2022-02-23T00:00:00\",\"2022-02-24T00:00:00\",\"2022-02-25T00:00:00\",\"2022-02-28T00:00:00\",\"2022-03-01T00:00:00\",\"2022-03-02T00:00:00\",\"2022-03-03T00:00:00\",\"2022-03-04T00:00:00\",\"2022-03-07T00:00:00\",\"2022-03-08T00:00:00\",\"2022-03-09T00:00:00\",\"2022-03-10T00:00:00\",\"2022-03-11T00:00:00\",\"2022-03-14T00:00:00\",\"2022-03-15T00:00:00\",\"2022-03-16T00:00:00\",\"2022-03-17T00:00:00\",\"2022-03-18T00:00:00\",\"2022-03-21T00:00:00\",\"2022-03-22T00:00:00\",\"2022-03-23T00:00:00\",\"2022-03-24T00:00:00\",\"2022-03-25T00:00:00\",\"2022-03-28T00:00:00\",\"2022-03-29T00:00:00\",\"2022-03-30T00:00:00\",\"2022-03-31T00:00:00\",\"2022-04-01T00:00:00\",\"2022-04-04T00:00:00\",\"2022-04-05T00:00:00\",\"2022-04-06T00:00:00\",\"2022-04-07T00:00:00\",\"2022-04-08T00:00:00\",\"2022-04-11T00:00:00\",\"2022-04-12T00:00:00\",\"2022-04-13T00:00:00\",\"2022-04-14T00:00:00\",\"2022-04-18T00:00:00\",\"2022-04-19T00:00:00\",\"2022-04-20T00:00:00\",\"2022-04-21T00:00:00\",\"2022-04-22T00:00:00\",\"2022-04-25T00:00:00\",\"2022-04-26T00:00:00\",\"2022-04-27T00:00:00\",\"2022-04-28T00:00:00\",\"2022-04-29T00:00:00\",\"2022-05-02T00:00:00\",\"2022-05-03T00:00:00\",\"2022-05-04T00:00:00\",\"2022-05-05T00:00:00\",\"2022-05-06T00:00:00\",\"2022-05-09T00:00:00\",\"2022-05-10T00:00:00\",\"2022-05-11T00:00:00\",\"2022-05-12T00:00:00\",\"2022-05-13T00:00:00\",\"2022-05-16T00:00:00\",\"2022-05-17T00:00:00\",\"2022-05-18T00:00:00\",\"2022-05-19T00:00:00\",\"2022-05-20T00:00:00\",\"2022-05-23T00:00:00\",\"2022-05-24T00:00:00\",\"2022-05-25T00:00:00\",\"2022-05-26T00:00:00\",\"2022-05-27T00:00:00\",\"2022-05-31T00:00:00\",\"2022-06-01T00:00:00\",\"2022-06-02T00:00:00\",\"2022-06-03T00:00:00\",\"2022-06-06T00:00:00\",\"2022-06-07T00:00:00\",\"2022-06-08T00:00:00\",\"2022-06-09T00:00:00\",\"2022-06-10T00:00:00\",\"2022-06-13T00:00:00\",\"2022-06-14T00:00:00\",\"2022-06-15T00:00:00\",\"2022-06-16T00:00:00\",\"2022-06-17T00:00:00\",\"2022-06-21T00:00:00\",\"2022-06-22T00:00:00\",\"2022-06-23T00:00:00\",\"2022-06-24T00:00:00\",\"2022-06-27T00:00:00\",\"2022-06-28T00:00:00\",\"2022-06-29T00:00:00\",\"2022-06-30T00:00:00\",\"2022-07-01T00:00:00\",\"2022-07-05T00:00:00\",\"2022-07-06T00:00:00\",\"2022-07-07T00:00:00\",\"2022-07-08T00:00:00\",\"2022-07-11T00:00:00\",\"2022-07-12T00:00:00\",\"2022-07-13T00:00:00\",\"2022-07-14T00:00:00\",\"2022-07-15T00:00:00\",\"2022-07-18T00:00:00\",\"2022-07-19T00:00:00\",\"2022-07-20T00:00:00\",\"2022-07-21T00:00:00\",\"2022-07-22T00:00:00\",\"2022-07-25T00:00:00\",\"2022-07-26T00:00:00\",\"2022-07-27T00:00:00\",\"2022-07-28T00:00:00\",\"2022-07-29T00:00:00\",\"2022-08-01T00:00:00\",\"2022-08-02T00:00:00\",\"2022-08-03T00:00:00\",\"2022-08-04T00:00:00\",\"2022-08-05T00:00:00\",\"2022-08-08T00:00:00\",\"2022-08-09T00:00:00\",\"2022-08-10T00:00:00\",\"2022-08-11T00:00:00\",\"2022-08-12T00:00:00\",\"2022-08-15T00:00:00\",\"2022-08-16T00:00:00\",\"2022-08-17T00:00:00\",\"2022-08-18T00:00:00\",\"2022-08-19T00:00:00\",\"2022-08-22T00:00:00\",\"2022-08-23T00:00:00\",\"2022-08-24T00:00:00\",\"2022-08-25T00:00:00\",\"2022-08-26T00:00:00\",\"2022-08-29T00:00:00\",\"2022-08-30T00:00:00\",\"2022-08-31T00:00:00\",\"2022-09-01T00:00:00\"],\"type\":\"candlestick\"}],                        {\"template\":{\"data\":{\"bar\":[{\"error_x\":{\"color\":\"#2a3f5f\"},\"error_y\":{\"color\":\"#2a3f5f\"},\"marker\":{\"line\":{\"color\":\"#E5ECF6\",\"width\":0.5},\"pattern\":{\"fillmode\":\"overlay\",\"size\":10,\"solidity\":0.2}},\"type\":\"bar\"}],\"barpolar\":[{\"marker\":{\"line\":{\"color\":\"#E5ECF6\",\"width\":0.5},\"pattern\":{\"fillmode\":\"overlay\",\"size\":10,\"solidity\":0.2}},\"type\":\"barpolar\"}],\"carpet\":[{\"aaxis\":{\"endlinecolor\":\"#2a3f5f\",\"gridcolor\":\"white\",\"linecolor\":\"white\",\"minorgridcolor\":\"white\",\"startlinecolor\":\"#2a3f5f\"},\"baxis\":{\"endlinecolor\":\"#2a3f5f\",\"gridcolor\":\"white\",\"linecolor\":\"white\",\"minorgridcolor\":\"white\",\"startlinecolor\":\"#2a3f5f\"},\"type\":\"carpet\"}],\"choropleth\":[{\"colorbar\":{\"outlinewidth\":0,\"ticks\":\"\"},\"type\":\"choropleth\"}],\"contour\":[{\"colorbar\":{\"outlinewidth\":0,\"ticks\":\"\"},\"colorscale\":[[0.0,\"#0d0887\"],[0.1111111111111111,\"#46039f\"],[0.2222222222222222,\"#7201a8\"],[0.3333333333333333,\"#9c179e\"],[0.4444444444444444,\"#bd3786\"],[0.5555555555555556,\"#d8576b\"],[0.6666666666666666,\"#ed7953\"],[0.7777777777777778,\"#fb9f3a\"],[0.8888888888888888,\"#fdca26\"],[1.0,\"#f0f921\"]],\"type\":\"contour\"}],\"contourcarpet\":[{\"colorbar\":{\"outlinewidth\":0,\"ticks\":\"\"},\"type\":\"contourcarpet\"}],\"heatmap\":[{\"colorbar\":{\"outlinewidth\":0,\"ticks\":\"\"},\"colorscale\":[[0.0,\"#0d0887\"],[0.1111111111111111,\"#46039f\"],[0.2222222222222222,\"#7201a8\"],[0.3333333333333333,\"#9c179e\"],[0.4444444444444444,\"#bd3786\"],[0.5555555555555556,\"#d8576b\"],[0.6666666666666666,\"#ed7953\"],[0.7777777777777778,\"#fb9f3a\"],[0.8888888888888888,\"#fdca26\"],[1.0,\"#f0f921\"]],\"type\":\"heatmap\"}],\"heatmapgl\":[{\"colorbar\":{\"outlinewidth\":0,\"ticks\":\"\"},\"colorscale\":[[0.0,\"#0d0887\"],[0.1111111111111111,\"#46039f\"],[0.2222222222222222,\"#7201a8\"],[0.3333333333333333,\"#9c179e\"],[0.4444444444444444,\"#bd3786\"],[0.5555555555555556,\"#d8576b\"],[0.6666666666666666,\"#ed7953\"],[0.7777777777777778,\"#fb9f3a\"],[0.8888888888888888,\"#fdca26\"],[1.0,\"#f0f921\"]],\"type\":\"heatmapgl\"}],\"histogram\":[{\"marker\":{\"pattern\":{\"fillmode\":\"overlay\",\"size\":10,\"solidity\":0.2}},\"type\":\"histogram\"}],\"histogram2d\":[{\"colorbar\":{\"outlinewidth\":0,\"ticks\":\"\"},\"colorscale\":[[0.0,\"#0d0887\"],[0.1111111111111111,\"#46039f\"],[0.2222222222222222,\"#7201a8\"],[0.3333333333333333,\"#9c179e\"],[0.4444444444444444,\"#bd3786\"],[0.5555555555555556,\"#d8576b\"],[0.6666666666666666,\"#ed7953\"],[0.7777777777777778,\"#fb9f3a\"],[0.8888888888888888,\"#fdca26\"],[1.0,\"#f0f921\"]],\"type\":\"histogram2d\"}],\"histogram2dcontour\":[{\"colorbar\":{\"outlinewidth\":0,\"ticks\":\"\"},\"colorscale\":[[0.0,\"#0d0887\"],[0.1111111111111111,\"#46039f\"],[0.2222222222222222,\"#7201a8\"],[0.3333333333333333,\"#9c179e\"],[0.4444444444444444,\"#bd3786\"],[0.5555555555555556,\"#d8576b\"],[0.6666666666666666,\"#ed7953\"],[0.7777777777777778,\"#fb9f3a\"],[0.8888888888888888,\"#fdca26\"],[1.0,\"#f0f921\"]],\"type\":\"histogram2dcontour\"}],\"mesh3d\":[{\"colorbar\":{\"outlinewidth\":0,\"ticks\":\"\"},\"type\":\"mesh3d\"}],\"parcoords\":[{\"line\":{\"colorbar\":{\"outlinewidth\":0,\"ticks\":\"\"}},\"type\":\"parcoords\"}],\"pie\":[{\"automargin\":true,\"type\":\"pie\"}],\"scatter\":[{\"marker\":{\"colorbar\":{\"outlinewidth\":0,\"ticks\":\"\"}},\"type\":\"scatter\"}],\"scatter3d\":[{\"line\":{\"colorbar\":{\"outlinewidth\":0,\"ticks\":\"\"}},\"marker\":{\"colorbar\":{\"outlinewidth\":0,\"ticks\":\"\"}},\"type\":\"scatter3d\"}],\"scattercarpet\":[{\"marker\":{\"colorbar\":{\"outlinewidth\":0,\"ticks\":\"\"}},\"type\":\"scattercarpet\"}],\"scattergeo\":[{\"marker\":{\"colorbar\":{\"outlinewidth\":0,\"ticks\":\"\"}},\"type\":\"scattergeo\"}],\"scattergl\":[{\"marker\":{\"colorbar\":{\"outlinewidth\":0,\"ticks\":\"\"}},\"type\":\"scattergl\"}],\"scattermapbox\":[{\"marker\":{\"colorbar\":{\"outlinewidth\":0,\"ticks\":\"\"}},\"type\":\"scattermapbox\"}],\"scatterpolar\":[{\"marker\":{\"colorbar\":{\"outlinewidth\":0,\"ticks\":\"\"}},\"type\":\"scatterpolar\"}],\"scatterpolargl\":[{\"marker\":{\"colorbar\":{\"outlinewidth\":0,\"ticks\":\"\"}},\"type\":\"scatterpolargl\"}],\"scatterternary\":[{\"marker\":{\"colorbar\":{\"outlinewidth\":0,\"ticks\":\"\"}},\"type\":\"scatterternary\"}],\"surface\":[{\"colorbar\":{\"outlinewidth\":0,\"ticks\":\"\"},\"colorscale\":[[0.0,\"#0d0887\"],[0.1111111111111111,\"#46039f\"],[0.2222222222222222,\"#7201a8\"],[0.3333333333333333,\"#9c179e\"],[0.4444444444444444,\"#bd3786\"],[0.5555555555555556,\"#d8576b\"],[0.6666666666666666,\"#ed7953\"],[0.7777777777777778,\"#fb9f3a\"],[0.8888888888888888,\"#fdca26\"],[1.0,\"#f0f921\"]],\"type\":\"surface\"}],\"table\":[{\"cells\":{\"fill\":{\"color\":\"#EBF0F8\"},\"line\":{\"color\":\"white\"}},\"header\":{\"fill\":{\"color\":\"#C8D4E3\"},\"line\":{\"color\":\"white\"}},\"type\":\"table\"}]},\"layout\":{\"annotationdefaults\":{\"arrowcolor\":\"#2a3f5f\",\"arrowhead\":0,\"arrowwidth\":1},\"autotypenumbers\":\"strict\",\"coloraxis\":{\"colorbar\":{\"outlinewidth\":0,\"ticks\":\"\"}},\"colorscale\":{\"diverging\":[[0,\"#8e0152\"],[0.1,\"#c51b7d\"],[0.2,\"#de77ae\"],[0.3,\"#f1b6da\"],[0.4,\"#fde0ef\"],[0.5,\"#f7f7f7\"],[0.6,\"#e6f5d0\"],[0.7,\"#b8e186\"],[0.8,\"#7fbc41\"],[0.9,\"#4d9221\"],[1,\"#276419\"]],\"sequential\":[[0.0,\"#0d0887\"],[0.1111111111111111,\"#46039f\"],[0.2222222222222222,\"#7201a8\"],[0.3333333333333333,\"#9c179e\"],[0.4444444444444444,\"#bd3786\"],[0.5555555555555556,\"#d8576b\"],[0.6666666666666666,\"#ed7953\"],[0.7777777777777778,\"#fb9f3a\"],[0.8888888888888888,\"#fdca26\"],[1.0,\"#f0f921\"]],\"sequentialminus\":[[0.0,\"#0d0887\"],[0.1111111111111111,\"#46039f\"],[0.2222222222222222,\"#7201a8\"],[0.3333333333333333,\"#9c179e\"],[0.4444444444444444,\"#bd3786\"],[0.5555555555555556,\"#d8576b\"],[0.6666666666666666,\"#ed7953\"],[0.7777777777777778,\"#fb9f3a\"],[0.8888888888888888,\"#fdca26\"],[1.0,\"#f0f921\"]]},\"colorway\":[\"#636efa\",\"#EF553B\",\"#00cc96\",\"#ab63fa\",\"#FFA15A\",\"#19d3f3\",\"#FF6692\",\"#B6E880\",\"#FF97FF\",\"#FECB52\"],\"font\":{\"color\":\"#2a3f5f\"},\"geo\":{\"bgcolor\":\"white\",\"lakecolor\":\"white\",\"landcolor\":\"#E5ECF6\",\"showlakes\":true,\"showland\":true,\"subunitcolor\":\"white\"},\"hoverlabel\":{\"align\":\"left\"},\"hovermode\":\"closest\",\"mapbox\":{\"style\":\"light\"},\"paper_bgcolor\":\"white\",\"plot_bgcolor\":\"#E5ECF6\",\"polar\":{\"angularaxis\":{\"gridcolor\":\"white\",\"linecolor\":\"white\",\"ticks\":\"\"},\"bgcolor\":\"#E5ECF6\",\"radialaxis\":{\"gridcolor\":\"white\",\"linecolor\":\"white\",\"ticks\":\"\"}},\"scene\":{\"xaxis\":{\"backgroundcolor\":\"#E5ECF6\",\"gridcolor\":\"white\",\"gridwidth\":2,\"linecolor\":\"white\",\"showbackground\":true,\"ticks\":\"\",\"zerolinecolor\":\"white\"},\"yaxis\":{\"backgroundcolor\":\"#E5ECF6\",\"gridcolor\":\"white\",\"gridwidth\":2,\"linecolor\":\"white\",\"showbackground\":true,\"ticks\":\"\",\"zerolinecolor\":\"white\"},\"zaxis\":{\"backgroundcolor\":\"#E5ECF6\",\"gridcolor\":\"white\",\"gridwidth\":2,\"linecolor\":\"white\",\"showbackground\":true,\"ticks\":\"\",\"zerolinecolor\":\"white\"}},\"shapedefaults\":{\"line\":{\"color\":\"#2a3f5f\"}},\"ternary\":{\"aaxis\":{\"gridcolor\":\"white\",\"linecolor\":\"white\",\"ticks\":\"\"},\"baxis\":{\"gridcolor\":\"white\",\"linecolor\":\"white\",\"ticks\":\"\"},\"bgcolor\":\"#E5ECF6\",\"caxis\":{\"gridcolor\":\"white\",\"linecolor\":\"white\",\"ticks\":\"\"}},\"title\":{\"x\":0.05},\"xaxis\":{\"automargin\":true,\"gridcolor\":\"white\",\"linecolor\":\"white\",\"ticks\":\"\",\"title\":{\"standoff\":15},\"zerolinecolor\":\"white\",\"zerolinewidth\":2},\"yaxis\":{\"automargin\":true,\"gridcolor\":\"white\",\"linecolor\":\"white\",\"ticks\":\"\",\"title\":{\"standoff\":15},\"zerolinecolor\":\"white\",\"zerolinewidth\":2}}},\"title\":{\"text\":\"FedEx Stock\"}},                        {\"responsive\": true}                    ).then(function(){\n",
              "                            \n",
              "var gd = document.getElementById('e5c14e91-1e45-4abd-9c7e-c833d6871bd8');\n",
              "var x = new MutationObserver(function (mutations, observer) {{\n",
              "        var display = window.getComputedStyle(gd).display;\n",
              "        if (!display || display === 'none') {{\n",
              "            console.log([gd, 'removed!']);\n",
              "            Plotly.purge(gd);\n",
              "            observer.disconnect();\n",
              "        }}\n",
              "}});\n",
              "\n",
              "// Listen for the removal of the full notebook cells\n",
              "var notebookContainer = gd.closest('#notebook-container');\n",
              "if (notebookContainer) {{\n",
              "    x.observe(notebookContainer, {childList: true});\n",
              "}}\n",
              "\n",
              "// Listen for the clearing of the current output cell\n",
              "var outputEl = gd.closest('.output');\n",
              "if (outputEl) {{\n",
              "    x.observe(outputEl, {childList: true});\n",
              "}}\n",
              "\n",
              "                        })                };                            </script>        </div>\n",
              "</body>\n",
              "</html>"
            ]
          },
          "metadata": {},
          "output_type": "display_data"
        }
      ],
      "source": [
        "layout"
      ]
    }
  ],
  "metadata": {
    "colab": {
      "authorship_tag": "ABX9TyOpz9J8+o3hQdO6Aane87g5",
      "collapsed_sections": [
        "A58A8b4Hi7Pm",
        "7Dxxu5UXerfi"
      ],
      "include_colab_link": true,
      "provenance": []
    },
    "kernelspec": {
      "display_name": "Python 3.10.6 64-bit",
      "language": "python",
      "name": "python3"
    },
    "language_info": {
      "name": "python",
      "version": "3.10.6"
    },
    "vscode": {
      "interpreter": {
        "hash": "c63d8c7d738c2960218a10995aedf0a7f67a49a231e71037adf0440953cdb45b"
      }
    }
  },
  "nbformat": 4,
  "nbformat_minor": 0
}
